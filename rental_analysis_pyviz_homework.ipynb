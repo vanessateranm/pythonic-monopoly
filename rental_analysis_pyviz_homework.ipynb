{
 "cells": [
  {
   "cell_type": "markdown",
   "id": "9e18e5d3",
   "metadata": {},
   "source": [
    "# Pythonic Monopoly\n",
    "Harold's company has just started a new Real Estate Investment division to provide customers with a broader range of portfolio options. Harold was tasked with building a prototype dashboard, and he needs your help. The real estate team wants to trial this initial offering with investment opportunities for the Toronto market. If the new service is popular, then they can start to expand to other markets.\n",
    "\n",
    "This dashboard's goal is to provide charts, maps, and interactive visualizations that help customers explore the data and determine if they want to invest in rental properties in Toronto."
   ]
  },
  {
   "cell_type": "markdown",
   "id": "6bb18135",
   "metadata": {},
   "source": [
    "## Toronto Dwellings Analysis\n",
    "Performing fundamental analysis for the Toronto dwellings market to allow potential real estate investors to choose rental investment properties."
   ]
  },
  {
   "cell_type": "code",
   "execution_count": 33,
   "id": "05d2f79d",
   "metadata": {},
   "outputs": [],
   "source": [
    "# imports\n",
    "import panel as pn\n",
    "import plotly.express as px\n",
    "import pandas as pd\n",
    "import matplotlib.pyplot as plt\n",
    "import os\n",
    "from pathlib import Path\n",
    "from dotenv import load_dotenv\n",
    "from panel.interact import interact\n",
    "from panel import widgets"
   ]
  },
  {
   "cell_type": "code",
   "execution_count": 34,
   "id": "eaf3c352",
   "metadata": {},
   "outputs": [],
   "source": [
    "# Set up Panel Plotly extension\n",
    "pn.extension('plotly')"
   ]
  },
  {
   "cell_type": "code",
   "execution_count": 35,
   "id": "84f00bb5",
   "metadata": {},
   "outputs": [],
   "source": [
    "import hvplot.pandas"
   ]
  },
  {
   "cell_type": "code",
   "execution_count": 36,
   "id": "bbaf4f06",
   "metadata": {},
   "outputs": [],
   "source": [
    "# Read the Mapbox API key\n",
    "load_dotenv()\n",
    "map_box_api = os.getenv(\"mapbox\")\n",
    "px.set_mapbox_access_token(map_box_api)"
   ]
  },
  {
   "cell_type": "markdown",
   "id": "336e5d58",
   "metadata": {},
   "source": [
    "## Load Data"
   ]
  },
  {
   "cell_type": "code",
   "execution_count": 37,
   "id": "aea821ac",
   "metadata": {},
   "outputs": [
    {
     "data": {
      "text/html": [
       "<div>\n",
       "<style scoped>\n",
       "    .dataframe tbody tr th:only-of-type {\n",
       "        vertical-align: middle;\n",
       "    }\n",
       "\n",
       "    .dataframe tbody tr th {\n",
       "        vertical-align: top;\n",
       "    }\n",
       "\n",
       "    .dataframe thead th {\n",
       "        text-align: right;\n",
       "    }\n",
       "</style>\n",
       "<table border=\"1\" class=\"dataframe\">\n",
       "  <thead>\n",
       "    <tr style=\"text-align: right;\">\n",
       "      <th></th>\n",
       "      <th>neighbourhood</th>\n",
       "      <th>single_detached_house</th>\n",
       "      <th>apartment_five_storeys_plus</th>\n",
       "      <th>movable_dwelling</th>\n",
       "      <th>semi_detached_house</th>\n",
       "      <th>row_house</th>\n",
       "      <th>duplex</th>\n",
       "      <th>apartment_five_storeys_less</th>\n",
       "      <th>other_house</th>\n",
       "      <th>average_house_value</th>\n",
       "      <th>shelter_costs_owned</th>\n",
       "      <th>shelter_costs_rented</th>\n",
       "    </tr>\n",
       "    <tr>\n",
       "      <th>year</th>\n",
       "      <th></th>\n",
       "      <th></th>\n",
       "      <th></th>\n",
       "      <th></th>\n",
       "      <th></th>\n",
       "      <th></th>\n",
       "      <th></th>\n",
       "      <th></th>\n",
       "      <th></th>\n",
       "      <th></th>\n",
       "      <th></th>\n",
       "      <th></th>\n",
       "    </tr>\n",
       "  </thead>\n",
       "  <tbody>\n",
       "    <tr>\n",
       "      <th>2001</th>\n",
       "      <td>Agincourt North</td>\n",
       "      <td>3715</td>\n",
       "      <td>1480</td>\n",
       "      <td>0</td>\n",
       "      <td>1055</td>\n",
       "      <td>1295</td>\n",
       "      <td>195</td>\n",
       "      <td>185</td>\n",
       "      <td>5</td>\n",
       "      <td>200388</td>\n",
       "      <td>810</td>\n",
       "      <td>870</td>\n",
       "    </tr>\n",
       "    <tr>\n",
       "      <th>2001</th>\n",
       "      <td>Agincourt South-Malvern West</td>\n",
       "      <td>3250</td>\n",
       "      <td>1835</td>\n",
       "      <td>0</td>\n",
       "      <td>545</td>\n",
       "      <td>455</td>\n",
       "      <td>105</td>\n",
       "      <td>425</td>\n",
       "      <td>0</td>\n",
       "      <td>203047</td>\n",
       "      <td>806</td>\n",
       "      <td>892</td>\n",
       "    </tr>\n",
       "    <tr>\n",
       "      <th>2001</th>\n",
       "      <td>Alderwood</td>\n",
       "      <td>3175</td>\n",
       "      <td>315</td>\n",
       "      <td>0</td>\n",
       "      <td>470</td>\n",
       "      <td>50</td>\n",
       "      <td>185</td>\n",
       "      <td>370</td>\n",
       "      <td>0</td>\n",
       "      <td>259998</td>\n",
       "      <td>817</td>\n",
       "      <td>924</td>\n",
       "    </tr>\n",
       "    <tr>\n",
       "      <th>2001</th>\n",
       "      <td>Annex</td>\n",
       "      <td>1060</td>\n",
       "      <td>6090</td>\n",
       "      <td>5</td>\n",
       "      <td>1980</td>\n",
       "      <td>605</td>\n",
       "      <td>275</td>\n",
       "      <td>3710</td>\n",
       "      <td>165</td>\n",
       "      <td>453850</td>\n",
       "      <td>1027</td>\n",
       "      <td>1378</td>\n",
       "    </tr>\n",
       "    <tr>\n",
       "      <th>2001</th>\n",
       "      <td>Banbury-Don Mills</td>\n",
       "      <td>3615</td>\n",
       "      <td>4465</td>\n",
       "      <td>0</td>\n",
       "      <td>240</td>\n",
       "      <td>380</td>\n",
       "      <td>15</td>\n",
       "      <td>1360</td>\n",
       "      <td>0</td>\n",
       "      <td>371864</td>\n",
       "      <td>1007</td>\n",
       "      <td>1163</td>\n",
       "    </tr>\n",
       "  </tbody>\n",
       "</table>\n",
       "</div>"
      ],
      "text/plain": [
       "                     neighbourhood  single_detached_house  \\\n",
       "year                                                        \n",
       "2001               Agincourt North                   3715   \n",
       "2001  Agincourt South-Malvern West                   3250   \n",
       "2001                     Alderwood                   3175   \n",
       "2001                         Annex                   1060   \n",
       "2001             Banbury-Don Mills                   3615   \n",
       "\n",
       "      apartment_five_storeys_plus  movable_dwelling  semi_detached_house  \\\n",
       "year                                                                       \n",
       "2001                         1480                 0                 1055   \n",
       "2001                         1835                 0                  545   \n",
       "2001                          315                 0                  470   \n",
       "2001                         6090                 5                 1980   \n",
       "2001                         4465                 0                  240   \n",
       "\n",
       "      row_house  duplex  apartment_five_storeys_less  other_house  \\\n",
       "year                                                                \n",
       "2001       1295     195                          185            5   \n",
       "2001        455     105                          425            0   \n",
       "2001         50     185                          370            0   \n",
       "2001        605     275                         3710          165   \n",
       "2001        380      15                         1360            0   \n",
       "\n",
       "      average_house_value  shelter_costs_owned  shelter_costs_rented  \n",
       "year                                                                  \n",
       "2001               200388                  810                   870  \n",
       "2001               203047                  806                   892  \n",
       "2001               259998                  817                   924  \n",
       "2001               453850                 1027                  1378  \n",
       "2001               371864                 1007                  1163  "
      ]
     },
     "execution_count": 37,
     "metadata": {},
     "output_type": "execute_result"
    }
   ],
   "source": [
    "# Read the census data into a Pandas DataFrame\n",
    "file_path = Path(\"../Data/toronto_neighbourhoods_census_data.csv\")\n",
    "to_data=pd.read_csv(file_path, index_col=\"year\")\n",
    "to_data.head()"
   ]
  },
  {
   "cell_type": "markdown",
   "id": "64093fa9",
   "metadata": {},
   "source": [
    "## Dwelling Types Per Year\n",
    "\n",
    "In this section, you will calculate the number of dwelling types per year. Visualize the results using bar charts and the Pandas plot function.\n",
    "\n",
    "Hint: Use the Pandas groupby function.\n"
   ]
  },
  {
   "cell_type": "code",
   "execution_count": 38,
   "id": "e3164334",
   "metadata": {},
   "outputs": [
    {
     "data": {
      "text/html": [
       "<div>\n",
       "<style scoped>\n",
       "    .dataframe tbody tr th:only-of-type {\n",
       "        vertical-align: middle;\n",
       "    }\n",
       "\n",
       "    .dataframe tbody tr th {\n",
       "        vertical-align: top;\n",
       "    }\n",
       "\n",
       "    .dataframe thead th {\n",
       "        text-align: right;\n",
       "    }\n",
       "</style>\n",
       "<table border=\"1\" class=\"dataframe\">\n",
       "  <thead>\n",
       "    <tr style=\"text-align: right;\">\n",
       "      <th></th>\n",
       "      <th>single_detached_house</th>\n",
       "      <th>apartment_five_storeys_plus</th>\n",
       "      <th>movable_dwelling</th>\n",
       "      <th>semi_detached_house</th>\n",
       "      <th>row_house</th>\n",
       "      <th>duplex</th>\n",
       "      <th>apartment_five_storeys_less</th>\n",
       "      <th>other_house</th>\n",
       "      <th>average_house_value</th>\n",
       "      <th>shelter_costs_owned</th>\n",
       "      <th>shelter_costs_rented</th>\n",
       "    </tr>\n",
       "    <tr>\n",
       "      <th>year</th>\n",
       "      <th></th>\n",
       "      <th></th>\n",
       "      <th></th>\n",
       "      <th></th>\n",
       "      <th></th>\n",
       "      <th></th>\n",
       "      <th></th>\n",
       "      <th></th>\n",
       "      <th></th>\n",
       "      <th></th>\n",
       "      <th></th>\n",
       "    </tr>\n",
       "  </thead>\n",
       "  <tbody>\n",
       "    <tr>\n",
       "      <th>2001</th>\n",
       "      <td>300930</td>\n",
       "      <td>355015</td>\n",
       "      <td>75</td>\n",
       "      <td>90995</td>\n",
       "      <td>52355</td>\n",
       "      <td>23785</td>\n",
       "      <td>116900</td>\n",
       "      <td>3040</td>\n",
       "      <td>40583604</td>\n",
       "      <td>118563</td>\n",
       "      <td>152031</td>\n",
       "    </tr>\n",
       "    <tr>\n",
       "      <th>2006</th>\n",
       "      <td>266860</td>\n",
       "      <td>379400</td>\n",
       "      <td>165</td>\n",
       "      <td>69430</td>\n",
       "      <td>54690</td>\n",
       "      <td>44095</td>\n",
       "      <td>162850</td>\n",
       "      <td>1335</td>\n",
       "      <td>59368353</td>\n",
       "      <td>184352</td>\n",
       "      <td>129558</td>\n",
       "    </tr>\n",
       "    <tr>\n",
       "      <th>2011</th>\n",
       "      <td>274940</td>\n",
       "      <td>429220</td>\n",
       "      <td>100</td>\n",
       "      <td>72480</td>\n",
       "      <td>60355</td>\n",
       "      <td>44750</td>\n",
       "      <td>163895</td>\n",
       "      <td>2165</td>\n",
       "      <td>74259461</td>\n",
       "      <td>202750</td>\n",
       "      <td>142771</td>\n",
       "    </tr>\n",
       "    <tr>\n",
       "      <th>2016</th>\n",
       "      <td>269680</td>\n",
       "      <td>493270</td>\n",
       "      <td>95</td>\n",
       "      <td>71200</td>\n",
       "      <td>61565</td>\n",
       "      <td>48585</td>\n",
       "      <td>165575</td>\n",
       "      <td>2845</td>\n",
       "      <td>92969566</td>\n",
       "      <td>246584</td>\n",
       "      <td>175885</td>\n",
       "    </tr>\n",
       "  </tbody>\n",
       "</table>\n",
       "</div>"
      ],
      "text/plain": [
       "      single_detached_house  apartment_five_storeys_plus  movable_dwelling  \\\n",
       "year                                                                         \n",
       "2001                 300930                       355015                75   \n",
       "2006                 266860                       379400               165   \n",
       "2011                 274940                       429220               100   \n",
       "2016                 269680                       493270                95   \n",
       "\n",
       "      semi_detached_house  row_house  duplex  apartment_five_storeys_less  \\\n",
       "year                                                                        \n",
       "2001                90995      52355   23785                       116900   \n",
       "2006                69430      54690   44095                       162850   \n",
       "2011                72480      60355   44750                       163895   \n",
       "2016                71200      61565   48585                       165575   \n",
       "\n",
       "      other_house  average_house_value  shelter_costs_owned  \\\n",
       "year                                                          \n",
       "2001         3040             40583604               118563   \n",
       "2006         1335             59368353               184352   \n",
       "2011         2165             74259461               202750   \n",
       "2016         2845             92969566               246584   \n",
       "\n",
       "      shelter_costs_rented  \n",
       "year                        \n",
       "2001                152031  \n",
       "2006                129558  \n",
       "2011                142771  \n",
       "2016                175885  "
      ]
     },
     "execution_count": 38,
     "metadata": {},
     "output_type": "execute_result"
    }
   ],
   "source": [
    "# Calculate the sum number of dwelling types units per year (hint: use groupby)\n",
    "to_data_per_year = to_data.groupby('year').sum()\n",
    "to_data_per_year.head()"
   ]
  },
  {
   "cell_type": "markdown",
   "id": "8dd68e1e",
   "metadata": {},
   "source": [
    "### Optional challenge: \n",
    "Plot each bar chart in a different color."
   ]
  },
  {
   "cell_type": "code",
   "execution_count": 39,
   "id": "698bd1d0",
   "metadata": {},
   "outputs": [],
   "source": [
    "dwelling_types  = [x for x in to_data_per_year.columns]\n",
    "plot = to_data_per_year[dwelling_types[0]].hvplot(kind=\"bar\",yformatter='%f')\n",
    "for i in range(1,len(dwelling_types)):\n",
    "    plot = plot * to_data_per_year[dwelling_types[i]].hvplot(kind=\"bar\",yformatter='%f')"
   ]
  },
  {
   "cell_type": "code",
   "execution_count": 40,
   "id": "b8b86215",
   "metadata": {},
   "outputs": [
    {
     "data": {},
     "metadata": {},
     "output_type": "display_data"
    },
    {
     "data": {
      "application/vnd.holoviews_exec.v0+json": "",
      "text/html": [
       "<div id='2829'>\n",
       "\n",
       "\n",
       "\n",
       "\n",
       "\n",
       "  <div class=\"bk-root\" id=\"6f26df49-5950-491e-af56-0ebb62f50d53\" data-root-id=\"2829\"></div>\n",
       "</div>\n",
       "<script type=\"application/javascript\">(function(root) {\n",
       "  function embed_document(root) {\n",
       "    var docs_json = {\"48a6c467-6e7e-432f-af26-704e85d10eeb\":{\"defs\":[{\"extends\":null,\"module\":null,\"name\":\"ReactiveHTML1\",\"overrides\":[],\"properties\":[]},{\"extends\":null,\"module\":null,\"name\":\"FlexBox1\",\"overrides\":[],\"properties\":[{\"default\":\"flex-start\",\"kind\":null,\"name\":\"align_content\"},{\"default\":\"flex-start\",\"kind\":null,\"name\":\"align_items\"},{\"default\":\"row\",\"kind\":null,\"name\":\"flex_direction\"},{\"default\":\"wrap\",\"kind\":null,\"name\":\"flex_wrap\"},{\"default\":\"flex-start\",\"kind\":null,\"name\":\"justify_content\"}]},{\"extends\":null,\"module\":null,\"name\":\"TemplateActions1\",\"overrides\":[],\"properties\":[{\"default\":0,\"kind\":null,\"name\":\"open_modal\"},{\"default\":0,\"kind\":null,\"name\":\"close_modal\"}]},{\"extends\":null,\"module\":null,\"name\":\"MaterialTemplateActions1\",\"overrides\":[],\"properties\":[{\"default\":0,\"kind\":null,\"name\":\"open_modal\"},{\"default\":0,\"kind\":null,\"name\":\"close_modal\"}]}],\"roots\":{\"references\":[{\"attributes\":{\"bottom\":{\"value\":0},\"fill_alpha\":{\"value\":1.0},\"fill_color\":{\"value\":\"#8b8b8b\"},\"hatch_alpha\":{\"value\":1.0},\"hatch_color\":{\"value\":\"#8b8b8b\"},\"hatch_scale\":{\"value\":12.0},\"hatch_weight\":{\"value\":1.0},\"line_alpha\":{\"value\":1.0},\"line_cap\":{\"value\":\"butt\"},\"line_color\":{\"value\":\"black\"},\"line_dash\":{\"value\":[]},\"line_dash_offset\":{\"value\":0},\"line_join\":{\"value\":\"bevel\"},\"line_width\":{\"value\":1},\"top\":{\"field\":\"row_house\"},\"width\":{\"value\":0.8},\"x\":{\"field\":\"year\"}},\"id\":\"3007\",\"type\":\"VBar\"},{\"attributes\":{},\"id\":\"2864\",\"type\":\"ResetTool\"},{\"attributes\":{\"label\":{\"value\":\"shelter_costs_rented\"},\"renderers\":[{\"id\":\"3179\"}]},\"id\":\"3210\",\"type\":\"LegendItem\"},{\"attributes\":{\"data\":{\"duplex\":[23785,44095,44750,48585],\"year\":[\"2001\",\"2006\",\"2011\",\"2016\"]},\"selected\":{\"id\":\"3009\"},\"selection_policy\":{\"id\":\"3032\"}},\"id\":\"3008\",\"type\":\"ColumnDataSource\"},{\"attributes\":{\"source\":{\"id\":\"3173\"}},\"id\":\"3180\",\"type\":\"CDSView\"},{\"attributes\":{\"label\":{\"value\":\"movable_dwelling\"},\"renderers\":[{\"id\":\"2939\"}]},\"id\":\"2954\",\"type\":\"LegendItem\"},{\"attributes\":{},\"id\":\"3003\",\"type\":\"UnionRenderers\"},{\"attributes\":{},\"id\":\"3207\",\"type\":\"UnionRenderers\"},{\"attributes\":{\"source\":{\"id\":\"2933\"}},\"id\":\"2940\",\"type\":\"CDSView\"},{\"attributes\":{\"bottom_units\":\"screen\",\"coordinates\":null,\"fill_alpha\":0.5,\"fill_color\":\"lightgrey\",\"group\":null,\"left_units\":\"screen\",\"level\":\"overlay\",\"line_alpha\":1.0,\"line_color\":\"black\",\"line_dash\":[4,4],\"line_width\":2,\"right_units\":\"screen\",\"syncable\":false,\"top_units\":\"screen\"},\"id\":\"2865\",\"type\":\"BoxAnnotation\"},{\"attributes\":{\"bottom\":{\"value\":0},\"fill_alpha\":{\"value\":1.0},\"fill_color\":{\"value\":\"#e5ae38\"},\"hatch_alpha\":{\"value\":1.0},\"hatch_color\":{\"value\":\"#e5ae38\"},\"hatch_scale\":{\"value\":12.0},\"hatch_weight\":{\"value\":1.0},\"line_alpha\":{\"value\":1.0},\"line_cap\":{\"value\":\"butt\"},\"line_color\":{\"value\":\"black\"},\"line_dash\":{\"value\":[]},\"line_dash_offset\":{\"value\":0},\"line_join\":{\"value\":\"bevel\"},\"line_width\":{\"value\":1},\"top\":{\"field\":\"movable_dwelling\"},\"width\":{\"value\":0.8},\"x\":{\"field\":\"year\"}},\"id\":\"2955\",\"type\":\"VBar\"},{\"attributes\":{\"children\":[{\"id\":\"2830\"},{\"id\":\"2844\"},{\"id\":\"3473\"}],\"margin\":[0,0,0,0],\"name\":\"Row06891\",\"tags\":[\"embedded\"]},\"id\":\"2829\",\"type\":\"Row\"},{\"attributes\":{\"fill_color\":{\"value\":\"#e5ae38\"},\"hatch_color\":{\"value\":\"#e5ae38\"},\"top\":{\"field\":\"movable_dwelling\"},\"width\":{\"value\":0.8},\"x\":{\"field\":\"year\"}},\"id\":\"2936\",\"type\":\"VBar\"},{\"attributes\":{\"data\":{\"average_house_value\":[40583604,59368353,74259461,92969566],\"year\":[\"2001\",\"2006\",\"2011\",\"2016\"]},\"selected\":{\"id\":\"3102\"},\"selection_policy\":{\"id\":\"3131\"}},\"id\":\"3101\",\"type\":\"ColumnDataSource\"},{\"attributes\":{\"source\":{\"id\":\"2892\"}},\"id\":\"2899\",\"type\":\"CDSView\"},{\"attributes\":{\"fill_alpha\":{\"value\":0.1},\"fill_color\":{\"value\":\"#17becf\"},\"hatch_alpha\":{\"value\":0.1},\"hatch_color\":{\"value\":\"#17becf\"},\"line_alpha\":{\"value\":0.1},\"top\":{\"field\":\"duplex\"},\"width\":{\"value\":0.8},\"x\":{\"field\":\"year\"}},\"id\":\"3012\",\"type\":\"VBar\"},{\"attributes\":{\"source\":{\"id\":\"2912\"}},\"id\":\"2919\",\"type\":\"CDSView\"},{\"attributes\":{\"source\":{\"id\":\"3008\"}},\"id\":\"3015\",\"type\":\"CDSView\"},{\"attributes\":{\"bottom\":{\"value\":0},\"fill_alpha\":{\"value\":1.0},\"fill_color\":{\"value\":\"#8c564b\"},\"hatch_alpha\":{\"value\":1.0},\"hatch_color\":{\"value\":\"#8c564b\"},\"hatch_scale\":{\"value\":12.0},\"hatch_weight\":{\"value\":1.0},\"line_alpha\":{\"value\":1.0},\"line_cap\":{\"value\":\"butt\"},\"line_color\":{\"value\":\"black\"},\"line_dash\":{\"value\":[]},\"line_dash_offset\":{\"value\":0},\"line_join\":{\"value\":\"bevel\"},\"line_width\":{\"value\":1},\"top\":{\"field\":\"shelter_costs_rented\"},\"width\":{\"value\":0.8},\"x\":{\"field\":\"year\"}},\"id\":\"3211\",\"type\":\"VBar\"},{\"attributes\":{\"fill_color\":{\"value\":\"#d62728\"},\"hatch_color\":{\"value\":\"#d62728\"},\"top\":{\"field\":\"other_house\"},\"width\":{\"value\":0.8},\"x\":{\"field\":\"year\"}},\"id\":\"3071\",\"type\":\"VBar\"},{\"attributes\":{},\"id\":\"3032\",\"type\":\"UnionRenderers\"},{\"attributes\":{\"fill_color\":{\"value\":\"#fc4f30\"},\"hatch_color\":{\"value\":\"#fc4f30\"},\"top\":{\"field\":\"apartment_five_storeys_plus\"},\"width\":{\"value\":0.8},\"x\":{\"field\":\"year\"}},\"id\":\"2915\",\"type\":\"VBar\"},{\"attributes\":{\"fill_color\":{\"value\":\"#17becf\"},\"hatch_color\":{\"value\":\"#17becf\"},\"top\":{\"field\":\"duplex\"},\"width\":{\"value\":0.8},\"x\":{\"field\":\"year\"}},\"id\":\"3011\",\"type\":\"VBar\"},{\"attributes\":{\"fill_alpha\":{\"value\":0.1},\"fill_color\":{\"value\":\"#fc4f30\"},\"hatch_alpha\":{\"value\":0.1},\"hatch_color\":{\"value\":\"#fc4f30\"},\"line_alpha\":{\"value\":0.1},\"top\":{\"field\":\"apartment_five_storeys_plus\"},\"width\":{\"value\":0.8},\"x\":{\"field\":\"year\"}},\"id\":\"2916\",\"type\":\"VBar\"},{\"attributes\":{\"fill_alpha\":{\"value\":0.2},\"fill_color\":{\"value\":\"#e5ae38\"},\"hatch_alpha\":{\"value\":0.2},\"hatch_color\":{\"value\":\"#e5ae38\"},\"line_alpha\":{\"value\":0.2},\"top\":{\"field\":\"movable_dwelling\"},\"width\":{\"value\":0.8},\"x\":{\"field\":\"year\"}},\"id\":\"2938\",\"type\":\"VBar\"},{\"attributes\":{\"coordinates\":null,\"data_source\":{\"id\":\"3068\"},\"glyph\":{\"id\":\"3071\"},\"group\":null,\"hover_glyph\":null,\"muted_glyph\":{\"id\":\"3073\"},\"nonselection_glyph\":{\"id\":\"3072\"},\"selection_glyph\":{\"id\":\"3100\"},\"view\":{\"id\":\"3075\"}},\"id\":\"3074\",\"type\":\"GlyphRenderer\"},{\"attributes\":{\"fill_alpha\":{\"value\":0.1},\"fill_color\":{\"value\":\"#30a2da\"},\"hatch_alpha\":{\"value\":0.1},\"hatch_color\":{\"value\":\"#30a2da\"},\"line_alpha\":{\"value\":0.1},\"top\":{\"field\":\"single_detached_house\"},\"width\":{\"value\":0.8},\"x\":{\"field\":\"year\"}},\"id\":\"2896\",\"type\":\"VBar\"},{\"attributes\":{\"factors\":[\"2001\",\"2006\",\"2011\",\"2016\"],\"tags\":[[[\"year\",\"year\",null]]]},\"id\":\"2831\",\"type\":\"FactorRange\"},{\"attributes\":{\"fill_alpha\":{\"value\":0.1},\"fill_color\":{\"value\":\"#e5ae38\"},\"hatch_alpha\":{\"value\":0.1},\"hatch_color\":{\"value\":\"#e5ae38\"},\"line_alpha\":{\"value\":0.1},\"top\":{\"field\":\"movable_dwelling\"},\"width\":{\"value\":0.8},\"x\":{\"field\":\"year\"}},\"id\":\"2937\",\"type\":\"VBar\"},{\"attributes\":{\"coordinates\":null,\"data_source\":{\"id\":\"2933\"},\"glyph\":{\"id\":\"2936\"},\"group\":null,\"hover_glyph\":null,\"muted_glyph\":{\"id\":\"2938\"},\"nonselection_glyph\":{\"id\":\"2937\"},\"selection_glyph\":{\"id\":\"2955\"},\"view\":{\"id\":\"2940\"}},\"id\":\"2939\",\"type\":\"GlyphRenderer\"},{\"attributes\":{\"fill_alpha\":{\"value\":0.2},\"fill_color\":{\"value\":\"#17becf\"},\"hatch_alpha\":{\"value\":0.2},\"hatch_color\":{\"value\":\"#17becf\"},\"line_alpha\":{\"value\":0.2},\"top\":{\"field\":\"duplex\"},\"width\":{\"value\":0.8},\"x\":{\"field\":\"year\"}},\"id\":\"3013\",\"type\":\"VBar\"},{\"attributes\":{\"callback\":null,\"renderers\":[{\"id\":\"2962\"}],\"tags\":[\"hv_created\"],\"tooltips\":[[\"year\",\"@{year}\"],[\"semi_detached_house\",\"@{semi_detached_house}\"]]},\"id\":\"2836\",\"type\":\"HoverTool\"},{\"attributes\":{\"overlay\":{\"id\":\"2865\"}},\"id\":\"2863\",\"type\":\"BoxZoomTool\"},{\"attributes\":{},\"id\":\"2934\",\"type\":\"Selection\"},{\"attributes\":{\"coordinates\":null,\"data_source\":{\"id\":\"2912\"},\"glyph\":{\"id\":\"2915\"},\"group\":null,\"hover_glyph\":null,\"muted_glyph\":{\"id\":\"2917\"},\"nonselection_glyph\":{\"id\":\"2916\"},\"selection_glyph\":{\"id\":\"2932\"},\"view\":{\"id\":\"2919\"}},\"id\":\"2918\",\"type\":\"GlyphRenderer\"},{\"attributes\":{\"fill_alpha\":{\"value\":0.1},\"fill_color\":{\"value\":\"#6d904f\"},\"hatch_alpha\":{\"value\":0.1},\"hatch_color\":{\"value\":\"#6d904f\"},\"line_alpha\":{\"value\":0.1},\"top\":{\"field\":\"semi_detached_house\"},\"width\":{\"value\":0.8},\"x\":{\"field\":\"year\"}},\"id\":\"2960\",\"type\":\"VBar\"},{\"attributes\":{\"coordinates\":null,\"data_source\":{\"id\":\"3008\"},\"glyph\":{\"id\":\"3011\"},\"group\":null,\"hover_glyph\":null,\"muted_glyph\":{\"id\":\"3013\"},\"nonselection_glyph\":{\"id\":\"3012\"},\"selection_glyph\":{\"id\":\"3036\"},\"view\":{\"id\":\"3015\"}},\"id\":\"3014\",\"type\":\"GlyphRenderer\"},{\"attributes\":{},\"id\":\"3009\",\"type\":\"Selection\"},{\"attributes\":{\"fill_alpha\":{\"value\":0.2},\"fill_color\":{\"value\":\"#30a2da\"},\"hatch_alpha\":{\"value\":0.2},\"hatch_color\":{\"value\":\"#30a2da\"},\"line_alpha\":{\"value\":0.2},\"top\":{\"field\":\"single_detached_house\"},\"width\":{\"value\":0.8},\"x\":{\"field\":\"year\"}},\"id\":\"2897\",\"type\":\"VBar\"},{\"attributes\":{\"bottom\":{\"value\":0},\"fill_alpha\":{\"value\":1.0},\"fill_color\":{\"value\":\"#30a2da\"},\"hatch_alpha\":{\"value\":1.0},\"hatch_color\":{\"value\":\"#30a2da\"},\"hatch_scale\":{\"value\":12.0},\"hatch_weight\":{\"value\":1.0},\"line_alpha\":{\"value\":1.0},\"line_cap\":{\"value\":\"butt\"},\"line_color\":{\"value\":\"black\"},\"line_dash\":{\"value\":[]},\"line_dash_offset\":{\"value\":0},\"line_join\":{\"value\":\"bevel\"},\"line_width\":{\"value\":1},\"top\":{\"field\":\"single_detached_house\"},\"width\":{\"value\":0.8},\"x\":{\"field\":\"year\"}},\"id\":\"2911\",\"type\":\"VBar\"},{\"attributes\":{\"data\":{\"semi_detached_house\":[90995,69430,72480,71200],\"year\":[\"2001\",\"2006\",\"2011\",\"2016\"]},\"selected\":{\"id\":\"2957\"},\"selection_policy\":{\"id\":\"2976\"}},\"id\":\"2956\",\"type\":\"ColumnDataSource\"},{\"attributes\":{\"data\":{\"shelter_costs_owned\":[118563,184352,202750,246584],\"year\":[\"2001\",\"2006\",\"2011\",\"2016\"]},\"selected\":{\"id\":\"3137\"},\"selection_policy\":{\"id\":\"3168\"}},\"id\":\"3136\",\"type\":\"ColumnDataSource\"},{\"attributes\":{\"label\":{\"value\":\"duplex\"},\"renderers\":[{\"id\":\"3014\"}]},\"id\":\"3035\",\"type\":\"LegendItem\"},{\"attributes\":{\"coordinates\":null,\"data_source\":{\"id\":\"2892\"},\"glyph\":{\"id\":\"2895\"},\"group\":null,\"hover_glyph\":null,\"muted_glyph\":{\"id\":\"2897\"},\"nonselection_glyph\":{\"id\":\"2896\"},\"selection_glyph\":{\"id\":\"2911\"},\"view\":{\"id\":\"2899\"}},\"id\":\"2898\",\"type\":\"GlyphRenderer\"},{\"attributes\":{\"fill_alpha\":{\"value\":0.1},\"fill_color\":{\"value\":\"#9467bd\"},\"hatch_alpha\":{\"value\":0.1},\"hatch_color\":{\"value\":\"#9467bd\"},\"line_alpha\":{\"value\":0.1},\"top\":{\"field\":\"apartment_five_storeys_less\"},\"width\":{\"value\":0.8},\"x\":{\"field\":\"year\"}},\"id\":\"3041\",\"type\":\"VBar\"},{\"attributes\":{\"label\":{\"value\":\"semi_detached_house\"},\"renderers\":[{\"id\":\"2962\"}]},\"id\":\"2979\",\"type\":\"LegendItem\"},{\"attributes\":{\"data\":{\"apartment_five_storeys_less\":[116900,162850,163895,165575],\"year\":[\"2001\",\"2006\",\"2011\",\"2016\"]},\"selected\":{\"id\":\"3038\"},\"selection_policy\":{\"id\":\"3063\"}},\"id\":\"3037\",\"type\":\"ColumnDataSource\"},{\"attributes\":{\"fill_alpha\":{\"value\":0.1},\"fill_color\":{\"value\":\"#8b8b8b\"},\"hatch_alpha\":{\"value\":0.1},\"hatch_color\":{\"value\":\"#8b8b8b\"},\"line_alpha\":{\"value\":0.1},\"top\":{\"field\":\"row_house\"},\"width\":{\"value\":0.8},\"x\":{\"field\":\"year\"}},\"id\":\"2985\",\"type\":\"VBar\"},{\"attributes\":{\"bottom\":{\"value\":0},\"fill_alpha\":{\"value\":1.0},\"fill_color\":{\"value\":\"#17becf\"},\"hatch_alpha\":{\"value\":1.0},\"hatch_color\":{\"value\":\"#17becf\"},\"hatch_scale\":{\"value\":12.0},\"hatch_weight\":{\"value\":1.0},\"line_alpha\":{\"value\":1.0},\"line_cap\":{\"value\":\"butt\"},\"line_color\":{\"value\":\"black\"},\"line_dash\":{\"value\":[]},\"line_dash_offset\":{\"value\":0},\"line_join\":{\"value\":\"bevel\"},\"line_width\":{\"value\":1},\"top\":{\"field\":\"duplex\"},\"width\":{\"value\":0.8},\"x\":{\"field\":\"year\"}},\"id\":\"3036\",\"type\":\"VBar\"},{\"attributes\":{\"label\":{\"value\":\"average_house_value\"},\"renderers\":[{\"id\":\"3107\"}]},\"id\":\"3134\",\"type\":\"LegendItem\"},{\"attributes\":{\"label\":{\"value\":\"single_detached_house\"},\"renderers\":[{\"id\":\"2898\"}]},\"id\":\"2910\",\"type\":\"LegendItem\"},{\"attributes\":{\"label\":{\"value\":\"apartment_five_storeys_less\"},\"renderers\":[{\"id\":\"3043\"}]},\"id\":\"3066\",\"type\":\"LegendItem\"},{\"attributes\":{},\"id\":\"2906\",\"type\":\"UnionRenderers\"},{\"attributes\":{\"fill_alpha\":{\"value\":0.2},\"fill_color\":{\"value\":\"#6d904f\"},\"hatch_alpha\":{\"value\":0.2},\"hatch_color\":{\"value\":\"#6d904f\"},\"line_alpha\":{\"value\":0.2},\"top\":{\"field\":\"semi_detached_house\"},\"width\":{\"value\":0.8},\"x\":{\"field\":\"year\"}},\"id\":\"2961\",\"type\":\"VBar\"},{\"attributes\":{\"fill_color\":{\"value\":\"#6d904f\"},\"hatch_color\":{\"value\":\"#6d904f\"},\"top\":{\"field\":\"semi_detached_house\"},\"width\":{\"value\":0.8},\"x\":{\"field\":\"year\"}},\"id\":\"2959\",\"type\":\"VBar\"},{\"attributes\":{\"source\":{\"id\":\"2956\"}},\"id\":\"2963\",\"type\":\"CDSView\"},{\"attributes\":{\"coordinates\":null,\"data_source\":{\"id\":\"2956\"},\"glyph\":{\"id\":\"2959\"},\"group\":null,\"hover_glyph\":null,\"muted_glyph\":{\"id\":\"2961\"},\"nonselection_glyph\":{\"id\":\"2960\"},\"selection_glyph\":{\"id\":\"2980\"},\"view\":{\"id\":\"2963\"}},\"id\":\"2962\",\"type\":\"GlyphRenderer\"},{\"attributes\":{\"fill_alpha\":{\"value\":0.1},\"fill_color\":{\"value\":\"#d62728\"},\"hatch_alpha\":{\"value\":0.1},\"hatch_color\":{\"value\":\"#d62728\"},\"line_alpha\":{\"value\":0.1},\"top\":{\"field\":\"other_house\"},\"width\":{\"value\":0.8},\"x\":{\"field\":\"year\"}},\"id\":\"3072\",\"type\":\"VBar\"},{\"attributes\":{\"fill_alpha\":{\"value\":0.2},\"fill_color\":{\"value\":\"#d62728\"},\"hatch_alpha\":{\"value\":0.2},\"hatch_color\":{\"value\":\"#d62728\"},\"line_alpha\":{\"value\":0.2},\"top\":{\"field\":\"other_house\"},\"width\":{\"value\":0.8},\"x\":{\"field\":\"year\"}},\"id\":\"3073\",\"type\":\"VBar\"},{\"attributes\":{},\"id\":\"2957\",\"type\":\"Selection\"},{\"attributes\":{},\"id\":\"2913\",\"type\":\"Selection\"},{\"attributes\":{},\"id\":\"2976\",\"type\":\"UnionRenderers\"},{\"attributes\":{\"fill_alpha\":{\"value\":0.2},\"fill_color\":{\"value\":\"#9467bd\"},\"hatch_alpha\":{\"value\":0.2},\"hatch_color\":{\"value\":\"#9467bd\"},\"line_alpha\":{\"value\":0.2},\"top\":{\"field\":\"apartment_five_storeys_less\"},\"width\":{\"value\":0.8},\"x\":{\"field\":\"year\"}},\"id\":\"3042\",\"type\":\"VBar\"},{\"attributes\":{},\"id\":\"2951\",\"type\":\"UnionRenderers\"},{\"attributes\":{\"fill_color\":{\"value\":\"#9467bd\"},\"hatch_color\":{\"value\":\"#9467bd\"},\"top\":{\"field\":\"apartment_five_storeys_less\"},\"width\":{\"value\":0.8},\"x\":{\"field\":\"year\"}},\"id\":\"3040\",\"type\":\"VBar\"},{\"attributes\":{\"label\":{\"value\":\"apartment_five_storeys_plus\"},\"renderers\":[{\"id\":\"2918\"}]},\"id\":\"2931\",\"type\":\"LegendItem\"},{\"attributes\":{\"data\":{\"apartment_five_storeys_plus\":[355015,379400,429220,493270],\"year\":[\"2001\",\"2006\",\"2011\",\"2016\"]},\"selected\":{\"id\":\"2913\"},\"selection_policy\":{\"id\":\"2928\"}},\"id\":\"2912\",\"type\":\"ColumnDataSource\"},{\"attributes\":{\"source\":{\"id\":\"3037\"}},\"id\":\"3044\",\"type\":\"CDSView\"},{\"attributes\":{\"coordinates\":null,\"data_source\":{\"id\":\"3037\"},\"glyph\":{\"id\":\"3040\"},\"group\":null,\"hover_glyph\":null,\"muted_glyph\":{\"id\":\"3042\"},\"nonselection_glyph\":{\"id\":\"3041\"},\"selection_glyph\":{\"id\":\"3067\"},\"view\":{\"id\":\"3044\"}},\"id\":\"3043\",\"type\":\"GlyphRenderer\"},{\"attributes\":{\"fill_color\":{\"value\":\"#30a2da\"},\"hatch_color\":{\"value\":\"#30a2da\"},\"top\":{\"field\":\"single_detached_house\"},\"width\":{\"value\":0.8},\"x\":{\"field\":\"year\"}},\"id\":\"2895\",\"type\":\"VBar\"},{\"attributes\":{\"bottom\":{\"value\":0},\"fill_alpha\":{\"value\":1.0},\"fill_color\":{\"value\":\"#6d904f\"},\"hatch_alpha\":{\"value\":1.0},\"hatch_color\":{\"value\":\"#6d904f\"},\"hatch_scale\":{\"value\":12.0},\"hatch_weight\":{\"value\":1.0},\"line_alpha\":{\"value\":1.0},\"line_cap\":{\"value\":\"butt\"},\"line_color\":{\"value\":\"black\"},\"line_dash\":{\"value\":[]},\"line_dash_offset\":{\"value\":0},\"line_join\":{\"value\":\"bevel\"},\"line_width\":{\"value\":1},\"top\":{\"field\":\"semi_detached_house\"},\"width\":{\"value\":0.8},\"x\":{\"field\":\"year\"}},\"id\":\"2980\",\"type\":\"VBar\"},{\"attributes\":{},\"id\":\"3038\",\"type\":\"Selection\"},{\"attributes\":{\"fill_color\":{\"value\":\"#8b8b8b\"},\"hatch_color\":{\"value\":\"#8b8b8b\"},\"top\":{\"field\":\"row_house\"},\"width\":{\"value\":0.8},\"x\":{\"field\":\"year\"}},\"id\":\"2984\",\"type\":\"VBar\"},{\"attributes\":{},\"id\":\"3063\",\"type\":\"UnionRenderers\"},{\"attributes\":{\"source\":{\"id\":\"2981\"}},\"id\":\"2988\",\"type\":\"CDSView\"},{\"attributes\":{\"callback\":null,\"renderers\":[{\"id\":\"2918\"}],\"tags\":[\"hv_created\"],\"tooltips\":[[\"year\",\"@{year}\"],[\"apartment_five_storeys_plus\",\"@{apartment_five_storeys_plus}\"]]},\"id\":\"2834\",\"type\":\"HoverTool\"},{\"attributes\":{\"end\":102266515.1,\"reset_end\":102266515.1,\"reset_start\":0.0,\"tags\":[[[\"single_detached_house\",\"single_detached_house\",null]]]},\"id\":\"2832\",\"type\":\"Range1d\"},{\"attributes\":{\"fill_alpha\":{\"value\":0.2},\"fill_color\":{\"value\":\"#fc4f30\"},\"hatch_alpha\":{\"value\":0.2},\"hatch_color\":{\"value\":\"#fc4f30\"},\"line_alpha\":{\"value\":0.2},\"top\":{\"field\":\"apartment_five_storeys_plus\"},\"width\":{\"value\":0.8},\"x\":{\"field\":\"year\"}},\"id\":\"2917\",\"type\":\"VBar\"},{\"attributes\":{\"bottom\":{\"value\":0},\"fill_alpha\":{\"value\":1.0},\"fill_color\":{\"value\":\"#9467bd\"},\"hatch_alpha\":{\"value\":1.0},\"hatch_color\":{\"value\":\"#9467bd\"},\"hatch_scale\":{\"value\":12.0},\"hatch_weight\":{\"value\":1.0},\"line_alpha\":{\"value\":1.0},\"line_cap\":{\"value\":\"butt\"},\"line_color\":{\"value\":\"black\"},\"line_dash\":{\"value\":[]},\"line_dash_offset\":{\"value\":0},\"line_join\":{\"value\":\"bevel\"},\"line_width\":{\"value\":1},\"top\":{\"field\":\"apartment_five_storeys_less\"},\"width\":{\"value\":0.8},\"x\":{\"field\":\"year\"}},\"id\":\"3067\",\"type\":\"VBar\"},{\"attributes\":{},\"id\":\"2982\",\"type\":\"Selection\"},{\"attributes\":{\"data\":{\"movable_dwelling\":[75,165,100,95],\"year\":[\"2001\",\"2006\",\"2011\",\"2016\"]},\"selected\":{\"id\":\"2934\"},\"selection_policy\":{\"id\":\"2951\"}},\"id\":\"2933\",\"type\":\"ColumnDataSource\"},{\"attributes\":{\"callback\":null,\"renderers\":[{\"id\":\"2987\"}],\"tags\":[\"hv_created\"],\"tooltips\":[[\"year\",\"@{year}\"],[\"row_house\",\"@{row_house}\"]]},\"id\":\"2837\",\"type\":\"HoverTool\"},{\"attributes\":{\"label\":{\"value\":\"row_house\"},\"renderers\":[{\"id\":\"2987\"}]},\"id\":\"3006\",\"type\":\"LegendItem\"},{\"attributes\":{\"data\":{\"row_house\":[52355,54690,60355,61565],\"year\":[\"2001\",\"2006\",\"2011\",\"2016\"]},\"selected\":{\"id\":\"2982\"},\"selection_policy\":{\"id\":\"3003\"}},\"id\":\"2981\",\"type\":\"ColumnDataSource\"},{\"attributes\":{\"data\":{\"other_house\":[3040,1335,2165,2845],\"year\":[\"2001\",\"2006\",\"2011\",\"2016\"]},\"selected\":{\"id\":\"3069\"},\"selection_policy\":{\"id\":\"3096\"}},\"id\":\"3068\",\"type\":\"ColumnDataSource\"},{\"attributes\":{\"callback\":null,\"renderers\":[{\"id\":\"2939\"}],\"tags\":[\"hv_created\"],\"tooltips\":[[\"year\",\"@{year}\"],[\"movable_dwelling\",\"@{movable_dwelling}\"]]},\"id\":\"2835\",\"type\":\"HoverTool\"},{\"attributes\":{\"click_policy\":\"mute\",\"coordinates\":null,\"group\":null,\"items\":[{\"id\":\"2910\"},{\"id\":\"2931\"},{\"id\":\"2954\"},{\"id\":\"2979\"},{\"id\":\"3006\"},{\"id\":\"3035\"},{\"id\":\"3066\"},{\"id\":\"3099\"},{\"id\":\"3134\"},{\"id\":\"3171\"},{\"id\":\"3210\"}],\"location\":[0,0]},\"id\":\"2909\",\"type\":\"Legend\"},{\"attributes\":{\"fill_alpha\":{\"value\":0.2},\"fill_color\":{\"value\":\"#8b8b8b\"},\"hatch_alpha\":{\"value\":0.2},\"hatch_color\":{\"value\":\"#8b8b8b\"},\"line_alpha\":{\"value\":0.2},\"top\":{\"field\":\"row_house\"},\"width\":{\"value\":0.8},\"x\":{\"field\":\"year\"}},\"id\":\"2986\",\"type\":\"VBar\"},{\"attributes\":{\"format\":\"%f\"},\"id\":\"2883\",\"type\":\"PrintfTickFormatter\"},{\"attributes\":{},\"id\":\"2928\",\"type\":\"UnionRenderers\"},{\"attributes\":{\"coordinates\":null,\"data_source\":{\"id\":\"2981\"},\"glyph\":{\"id\":\"2984\"},\"group\":null,\"hover_glyph\":null,\"muted_glyph\":{\"id\":\"2986\"},\"nonselection_glyph\":{\"id\":\"2985\"},\"selection_glyph\":{\"id\":\"3007\"},\"view\":{\"id\":\"2988\"}},\"id\":\"2987\",\"type\":\"GlyphRenderer\"},{\"attributes\":{},\"id\":\"3069\",\"type\":\"Selection\"},{\"attributes\":{\"label\":{\"value\":\"shelter_costs_owned\"},\"renderers\":[{\"id\":\"3142\"}]},\"id\":\"3171\",\"type\":\"LegendItem\"},{\"attributes\":{\"data\":{\"single_detached_house\":[300930,266860,274940,269680],\"year\":[\"2001\",\"2006\",\"2011\",\"2016\"]},\"selected\":{\"id\":\"2893\"},\"selection_policy\":{\"id\":\"2906\"}},\"id\":\"2892\",\"type\":\"ColumnDataSource\"},{\"attributes\":{\"bottom\":{\"value\":0},\"fill_alpha\":{\"value\":1.0},\"fill_color\":{\"value\":\"#fc4f30\"},\"hatch_alpha\":{\"value\":1.0},\"hatch_color\":{\"value\":\"#fc4f30\"},\"hatch_scale\":{\"value\":12.0},\"hatch_weight\":{\"value\":1.0},\"line_alpha\":{\"value\":1.0},\"line_cap\":{\"value\":\"butt\"},\"line_color\":{\"value\":\"black\"},\"line_dash\":{\"value\":[]},\"line_dash_offset\":{\"value\":0},\"line_join\":{\"value\":\"bevel\"},\"line_width\":{\"value\":1},\"top\":{\"field\":\"apartment_five_storeys_plus\"},\"width\":{\"value\":0.8},\"x\":{\"field\":\"year\"}},\"id\":\"2932\",\"type\":\"VBar\"},{\"attributes\":{},\"id\":\"2885\",\"type\":\"CategoricalTickFormatter\"},{\"attributes\":{\"label\":{\"value\":\"other_house\"},\"renderers\":[{\"id\":\"3074\"}]},\"id\":\"3099\",\"type\":\"LegendItem\"},{\"attributes\":{\"source\":{\"id\":\"3068\"}},\"id\":\"3075\",\"type\":\"CDSView\"},{\"attributes\":{\"fill_alpha\":{\"value\":0.1},\"fill_color\":{\"value\":\"#e377c2\"},\"hatch_alpha\":{\"value\":0.1},\"hatch_color\":{\"value\":\"#e377c2\"},\"line_alpha\":{\"value\":0.1},\"top\":{\"field\":\"shelter_costs_owned\"},\"width\":{\"value\":0.8},\"x\":{\"field\":\"year\"}},\"id\":\"3140\",\"type\":\"VBar\"},{\"attributes\":{\"callback\":null,\"renderers\":[{\"id\":\"3043\"}],\"tags\":[\"hv_created\"],\"tooltips\":[[\"year\",\"@{year}\"],[\"apartment_five_storeys_less\",\"@{apartment_five_storeys_less}\"]]},\"id\":\"2839\",\"type\":\"HoverTool\"},{\"attributes\":{},\"id\":\"3096\",\"type\":\"UnionRenderers\"},{\"attributes\":{},\"id\":\"2886\",\"type\":\"AllLabels\"},{\"attributes\":{\"source\":{\"id\":\"3101\"}},\"id\":\"3108\",\"type\":\"CDSView\"},{\"attributes\":{\"bottom\":{\"value\":0},\"fill_alpha\":{\"value\":1.0},\"fill_color\":{\"value\":\"#d62728\"},\"hatch_alpha\":{\"value\":1.0},\"hatch_color\":{\"value\":\"#d62728\"},\"hatch_scale\":{\"value\":12.0},\"hatch_weight\":{\"value\":1.0},\"line_alpha\":{\"value\":1.0},\"line_cap\":{\"value\":\"butt\"},\"line_color\":{\"value\":\"black\"},\"line_dash\":{\"value\":[]},\"line_dash_offset\":{\"value\":0},\"line_join\":{\"value\":\"bevel\"},\"line_width\":{\"value\":1},\"top\":{\"field\":\"other_house\"},\"width\":{\"value\":0.8},\"x\":{\"field\":\"year\"}},\"id\":\"3100\",\"type\":\"VBar\"},{\"attributes\":{\"callback\":null,\"renderers\":[{\"id\":\"3107\"}],\"tags\":[\"hv_created\"],\"tooltips\":[[\"year\",\"@{year}\"],[\"average_house_value\",\"@{average_house_value}\"]]},\"id\":\"2841\",\"type\":\"HoverTool\"},{\"attributes\":{\"callback\":null,\"renderers\":[{\"id\":\"3014\"}],\"tags\":[\"hv_created\"],\"tooltips\":[[\"year\",\"@{year}\"],[\"duplex\",\"@{duplex}\"]]},\"id\":\"2838\",\"type\":\"HoverTool\"},{\"attributes\":{\"callback\":null,\"renderers\":[{\"id\":\"3142\"}],\"tags\":[\"hv_created\"],\"tooltips\":[[\"year\",\"@{year}\"],[\"shelter_costs_owned\",\"@{shelter_costs_owned}\"]]},\"id\":\"2842\",\"type\":\"HoverTool\"},{\"attributes\":{},\"id\":\"2849\",\"type\":\"CategoricalScale\"},{\"attributes\":{\"fill_color\":{\"value\":\"#1f77b4\"},\"hatch_color\":{\"value\":\"#1f77b4\"},\"top\":{\"field\":\"average_house_value\"},\"width\":{\"value\":0.8},\"x\":{\"field\":\"year\"}},\"id\":\"3104\",\"type\":\"VBar\"},{\"attributes\":{\"fill_alpha\":{\"value\":0.1},\"fill_color\":{\"value\":\"#1f77b4\"},\"hatch_alpha\":{\"value\":0.1},\"hatch_color\":{\"value\":\"#1f77b4\"},\"line_alpha\":{\"value\":0.1},\"top\":{\"field\":\"average_house_value\"},\"width\":{\"value\":0.8},\"x\":{\"field\":\"year\"}},\"id\":\"3105\",\"type\":\"VBar\"},{\"attributes\":{\"callback\":null,\"renderers\":[{\"id\":\"3179\"}],\"tags\":[\"hv_created\"],\"tooltips\":[[\"year\",\"@{year}\"],[\"shelter_costs_rented\",\"@{shelter_costs_rented}\"]]},\"id\":\"2843\",\"type\":\"HoverTool\"},{\"attributes\":{\"callback\":null,\"renderers\":[{\"id\":\"3074\"}],\"tags\":[\"hv_created\"],\"tooltips\":[[\"year\",\"@{year}\"],[\"other_house\",\"@{other_house}\"]]},\"id\":\"2840\",\"type\":\"HoverTool\"},{\"attributes\":{\"fill_alpha\":{\"value\":0.2},\"fill_color\":{\"value\":\"#1f77b4\"},\"hatch_alpha\":{\"value\":0.2},\"hatch_color\":{\"value\":\"#1f77b4\"},\"line_alpha\":{\"value\":0.2},\"top\":{\"field\":\"average_house_value\"},\"width\":{\"value\":0.8},\"x\":{\"field\":\"year\"}},\"id\":\"3106\",\"type\":\"VBar\"},{\"attributes\":{\"below\":[{\"id\":\"2853\"}],\"center\":[{\"id\":\"2855\"},{\"id\":\"2859\"}],\"height\":300,\"left\":[{\"id\":\"2856\"}],\"margin\":[5,5,5,5],\"min_border_bottom\":10,\"min_border_left\":10,\"min_border_right\":10,\"min_border_top\":10,\"renderers\":[{\"id\":\"2898\"},{\"id\":\"2918\"},{\"id\":\"2939\"},{\"id\":\"2962\"},{\"id\":\"2987\"},{\"id\":\"3014\"},{\"id\":\"3043\"},{\"id\":\"3074\"},{\"id\":\"3107\"},{\"id\":\"3142\"},{\"id\":\"3179\"}],\"right\":[{\"id\":\"2909\"}],\"sizing_mode\":\"fixed\",\"title\":{\"id\":\"2845\"},\"toolbar\":{\"id\":\"2866\"},\"width\":700,\"x_range\":{\"id\":\"2831\"},\"x_scale\":{\"id\":\"2849\"},\"y_range\":{\"id\":\"2832\"},\"y_scale\":{\"id\":\"2851\"}},\"id\":\"2844\",\"subtype\":\"Figure\",\"type\":\"Plot\"},{\"attributes\":{\"coordinates\":null,\"data_source\":{\"id\":\"3101\"},\"glyph\":{\"id\":\"3104\"},\"group\":null,\"hover_glyph\":null,\"muted_glyph\":{\"id\":\"3106\"},\"nonselection_glyph\":{\"id\":\"3105\"},\"selection_glyph\":{\"id\":\"3135\"},\"view\":{\"id\":\"3108\"}},\"id\":\"3107\",\"type\":\"GlyphRenderer\"},{\"attributes\":{},\"id\":\"3102\",\"type\":\"Selection\"},{\"attributes\":{\"margin\":[5,5,5,5],\"name\":\"HSpacer06896\",\"sizing_mode\":\"stretch_width\"},\"id\":\"3473\",\"type\":\"Spacer\"},{\"attributes\":{},\"id\":\"3131\",\"type\":\"UnionRenderers\"},{\"attributes\":{\"margin\":[5,5,5,5],\"name\":\"HSpacer06895\",\"sizing_mode\":\"stretch_width\"},\"id\":\"2830\",\"type\":\"Spacer\"},{\"attributes\":{\"bottom\":{\"value\":0},\"fill_alpha\":{\"value\":1.0},\"fill_color\":{\"value\":\"#1f77b4\"},\"hatch_alpha\":{\"value\":1.0},\"hatch_color\":{\"value\":\"#1f77b4\"},\"hatch_scale\":{\"value\":12.0},\"hatch_weight\":{\"value\":1.0},\"line_alpha\":{\"value\":1.0},\"line_cap\":{\"value\":\"butt\"},\"line_color\":{\"value\":\"black\"},\"line_dash\":{\"value\":[]},\"line_dash_offset\":{\"value\":0},\"line_join\":{\"value\":\"bevel\"},\"line_width\":{\"value\":1},\"top\":{\"field\":\"average_house_value\"},\"width\":{\"value\":0.8},\"x\":{\"field\":\"year\"}},\"id\":\"3135\",\"type\":\"VBar\"},{\"attributes\":{\"coordinates\":null,\"group\":null,\"text_color\":\"black\",\"text_font_size\":\"12pt\"},\"id\":\"2845\",\"type\":\"Title\"},{\"attributes\":{},\"id\":\"3174\",\"type\":\"Selection\"},{\"attributes\":{\"data\":{\"shelter_costs_rented\":[152031,129558,142771,175885],\"year\":[\"2001\",\"2006\",\"2011\",\"2016\"]},\"selected\":{\"id\":\"3174\"},\"selection_policy\":{\"id\":\"3207\"}},\"id\":\"3173\",\"type\":\"ColumnDataSource\"},{\"attributes\":{},\"id\":\"3137\",\"type\":\"Selection\"},{\"attributes\":{},\"id\":\"2851\",\"type\":\"LinearScale\"},{\"attributes\":{\"fill_color\":{\"value\":\"#8c564b\"},\"hatch_color\":{\"value\":\"#8c564b\"},\"top\":{\"field\":\"shelter_costs_rented\"},\"width\":{\"value\":0.8},\"x\":{\"field\":\"year\"}},\"id\":\"3176\",\"type\":\"VBar\"},{\"attributes\":{\"axis_label\":\"year\",\"coordinates\":null,\"formatter\":{\"id\":\"2885\"},\"group\":null,\"major_label_policy\":{\"id\":\"2886\"},\"ticker\":{\"id\":\"2854\"}},\"id\":\"2853\",\"type\":\"CategoricalAxis\"},{\"attributes\":{},\"id\":\"2854\",\"type\":\"CategoricalTicker\"},{\"attributes\":{\"axis\":{\"id\":\"2853\"},\"coordinates\":null,\"grid_line_color\":null,\"group\":null,\"ticker\":null},\"id\":\"2855\",\"type\":\"Grid\"},{\"attributes\":{\"callback\":null,\"renderers\":[{\"id\":\"2898\"}],\"tags\":[\"hv_created\"],\"tooltips\":[[\"year\",\"@{year}\"],[\"single_detached_house\",\"@{single_detached_house}\"]]},\"id\":\"2833\",\"type\":\"HoverTool\"},{\"attributes\":{\"fill_alpha\":{\"value\":0.2},\"fill_color\":{\"value\":\"#e377c2\"},\"hatch_alpha\":{\"value\":0.2},\"hatch_color\":{\"value\":\"#e377c2\"},\"line_alpha\":{\"value\":0.2},\"top\":{\"field\":\"shelter_costs_owned\"},\"width\":{\"value\":0.8},\"x\":{\"field\":\"year\"}},\"id\":\"3141\",\"type\":\"VBar\"},{\"attributes\":{\"fill_color\":{\"value\":\"#e377c2\"},\"hatch_color\":{\"value\":\"#e377c2\"},\"top\":{\"field\":\"shelter_costs_owned\"},\"width\":{\"value\":0.8},\"x\":{\"field\":\"year\"}},\"id\":\"3139\",\"type\":\"VBar\"},{\"attributes\":{},\"id\":\"2857\",\"type\":\"BasicTicker\"},{\"attributes\":{\"source\":{\"id\":\"3136\"}},\"id\":\"3143\",\"type\":\"CDSView\"},{\"attributes\":{\"coordinates\":null,\"data_source\":{\"id\":\"3136\"},\"glyph\":{\"id\":\"3139\"},\"group\":null,\"hover_glyph\":null,\"muted_glyph\":{\"id\":\"3141\"},\"nonselection_glyph\":{\"id\":\"3140\"},\"selection_glyph\":{\"id\":\"3172\"},\"view\":{\"id\":\"3143\"}},\"id\":\"3142\",\"type\":\"GlyphRenderer\"},{\"attributes\":{\"axis\":{\"id\":\"2856\"},\"coordinates\":null,\"dimension\":1,\"grid_line_color\":null,\"group\":null,\"ticker\":null},\"id\":\"2859\",\"type\":\"Grid\"},{\"attributes\":{},\"id\":\"3168\",\"type\":\"UnionRenderers\"},{\"attributes\":{},\"id\":\"2893\",\"type\":\"Selection\"},{\"attributes\":{},\"id\":\"2889\",\"type\":\"AllLabels\"},{\"attributes\":{\"tools\":[{\"id\":\"2833\"},{\"id\":\"2834\"},{\"id\":\"2835\"},{\"id\":\"2836\"},{\"id\":\"2837\"},{\"id\":\"2838\"},{\"id\":\"2839\"},{\"id\":\"2840\"},{\"id\":\"2841\"},{\"id\":\"2842\"},{\"id\":\"2843\"},{\"id\":\"2860\"},{\"id\":\"2861\"},{\"id\":\"2862\"},{\"id\":\"2863\"},{\"id\":\"2864\"}]},\"id\":\"2866\",\"type\":\"Toolbar\"},{\"attributes\":{\"axis_label\":\"\",\"coordinates\":null,\"formatter\":{\"id\":\"2883\"},\"group\":null,\"major_label_policy\":{\"id\":\"2889\"},\"ticker\":{\"id\":\"2857\"}},\"id\":\"2856\",\"type\":\"LinearAxis\"},{\"attributes\":{\"bottom\":{\"value\":0},\"fill_alpha\":{\"value\":1.0},\"fill_color\":{\"value\":\"#e377c2\"},\"hatch_alpha\":{\"value\":1.0},\"hatch_color\":{\"value\":\"#e377c2\"},\"hatch_scale\":{\"value\":12.0},\"hatch_weight\":{\"value\":1.0},\"line_alpha\":{\"value\":1.0},\"line_cap\":{\"value\":\"butt\"},\"line_color\":{\"value\":\"black\"},\"line_dash\":{\"value\":[]},\"line_dash_offset\":{\"value\":0},\"line_join\":{\"value\":\"bevel\"},\"line_width\":{\"value\":1},\"top\":{\"field\":\"shelter_costs_owned\"},\"width\":{\"value\":0.8},\"x\":{\"field\":\"year\"}},\"id\":\"3172\",\"type\":\"VBar\"},{\"attributes\":{},\"id\":\"2860\",\"type\":\"SaveTool\"},{\"attributes\":{},\"id\":\"2861\",\"type\":\"PanTool\"},{\"attributes\":{\"fill_alpha\":{\"value\":0.1},\"fill_color\":{\"value\":\"#8c564b\"},\"hatch_alpha\":{\"value\":0.1},\"hatch_color\":{\"value\":\"#8c564b\"},\"line_alpha\":{\"value\":0.1},\"top\":{\"field\":\"shelter_costs_rented\"},\"width\":{\"value\":0.8},\"x\":{\"field\":\"year\"}},\"id\":\"3177\",\"type\":\"VBar\"},{\"attributes\":{},\"id\":\"2862\",\"type\":\"WheelZoomTool\"},{\"attributes\":{\"fill_alpha\":{\"value\":0.2},\"fill_color\":{\"value\":\"#8c564b\"},\"hatch_alpha\":{\"value\":0.2},\"hatch_color\":{\"value\":\"#8c564b\"},\"line_alpha\":{\"value\":0.2},\"top\":{\"field\":\"shelter_costs_rented\"},\"width\":{\"value\":0.8},\"x\":{\"field\":\"year\"}},\"id\":\"3178\",\"type\":\"VBar\"},{\"attributes\":{\"coordinates\":null,\"data_source\":{\"id\":\"3173\"},\"glyph\":{\"id\":\"3176\"},\"group\":null,\"hover_glyph\":null,\"muted_glyph\":{\"id\":\"3178\"},\"nonselection_glyph\":{\"id\":\"3177\"},\"selection_glyph\":{\"id\":\"3211\"},\"view\":{\"id\":\"3180\"}},\"id\":\"3179\",\"type\":\"GlyphRenderer\"}],\"root_ids\":[\"2829\"]},\"title\":\"Bokeh Application\",\"version\":\"2.4.1\"}};\n",
       "    var render_items = [{\"docid\":\"48a6c467-6e7e-432f-af26-704e85d10eeb\",\"root_ids\":[\"2829\"],\"roots\":{\"2829\":\"6f26df49-5950-491e-af56-0ebb62f50d53\"}}];\n",
       "    root.Bokeh.embed.embed_items_notebook(docs_json, render_items);\n",
       "  }\n",
       "  if (root.Bokeh !== undefined && root.Bokeh.Panel !== undefined && ( root['Plotly'] !== undefined)) {\n",
       "    embed_document(root);\n",
       "  } else {\n",
       "    var attempts = 0;\n",
       "    var timer = setInterval(function(root) {\n",
       "      if (root.Bokeh !== undefined && root.Bokeh.Panel !== undefined && (root['Plotly'] !== undefined)) {\n",
       "        clearInterval(timer);\n",
       "        embed_document(root);\n",
       "      } else if (document.readyState == \"complete\") {\n",
       "        attempts++;\n",
       "        if (attempts > 200) {\n",
       "          clearInterval(timer);\n",
       "          console.log(\"Bokeh: ERROR: Unable to run BokehJS code because BokehJS library is missing\");\n",
       "        }\n",
       "      }\n",
       "    }, 25, root)\n",
       "  }\n",
       "})(window);</script>"
      ],
      "text/plain": [
       ":Overlay\n",
       "   .Bars.Single_detached_house       :Bars   [year]   (single_detached_house)\n",
       "   .Bars.Apartment_five_storeys_plus :Bars   [year]   (apartment_five_storeys_plus)\n",
       "   .Bars.Movable_dwelling            :Bars   [year]   (movable_dwelling)\n",
       "   .Bars.Semi_detached_house         :Bars   [year]   (semi_detached_house)\n",
       "   .Bars.Row_house                   :Bars   [year]   (row_house)\n",
       "   .Bars.Duplex                      :Bars   [year]   (duplex)\n",
       "   .Bars.Apartment_five_storeys_less :Bars   [year]   (apartment_five_storeys_less)\n",
       "   .Bars.Other_house                 :Bars   [year]   (other_house)\n",
       "   .Bars.Average_house_value         :Bars   [year]   (average_house_value)\n",
       "   .Bars.Shelter_costs_owned         :Bars   [year]   (shelter_costs_owned)\n",
       "   .Bars.Shelter_costs_rented        :Bars   [year]   (shelter_costs_rented)"
      ]
     },
     "execution_count": 40,
     "metadata": {
      "application/vnd.holoviews_exec.v0+json": {
       "id": "2829"
      }
     },
     "output_type": "execute_result"
    }
   ],
   "source": [
    "plot"
   ]
  },
  {
   "cell_type": "code",
   "execution_count": 41,
   "id": "71481307",
   "metadata": {},
   "outputs": [],
   "source": [
    "# Save the dataframe as a csv file\n",
    "to_data_per_year.to_csv(\"../Data/Export_to_data_per_year.csv\")  "
   ]
  },
  {
   "cell_type": "code",
   "execution_count": 42,
   "id": "61e5cc59",
   "metadata": {},
   "outputs": [],
   "source": [
    "# Helper create_bar_chart function\n",
    "def create_bar_chart(data, title, xlabel, ylabel, color):\n",
    "    \"\"\"\n",
    "    Create a barplot based in the data argument.\n",
    "    \"\"\"\n",
    "    plot = data.hvplot(kind=\"bar\", rot=90,yformatter='%f')\n",
    "    plot.opts(title=title)\n",
    "    plot.opts(xlabel=xlabel)\n",
    "    plot.opts(ylabel=ylabel)\n",
    "    plot.opts(color=color)\n",
    "    return plot"
   ]
  },
  {
   "cell_type": "code",
   "execution_count": 43,
   "id": "c0f0d85e",
   "metadata": {},
   "outputs": [],
   "source": [
    "# Create a bar chart per year to show the number of dwelling types\n",
    "\n",
    "\n",
    "# Bar chart for 2001\n",
    "plots_2001 =  create_bar_chart(to_data_per_year.iloc[0],\"Dwelling Types in Toronto in 2001\",\"2001\",\"Dwelling Type Units\",\"red\")\n",
    "\n",
    "# Bar chart for 2006\n",
    "plots_2006 =  create_bar_chart(to_data_per_year.iloc[1],\"Dwelling Types in Toronto in 2006\",\"2006\",\"Dwelling Type Units\",\"blue\")\n",
    "\n",
    "\n",
    "# Bar chart for 2011\n",
    "plots_2011 =  create_bar_chart(to_data_per_year.iloc[2],\"Dwelling Types in Toronto in 2011\",\"2011\",\"Dwelling Type Units\",\"purple\")\n",
    "\n",
    "# Bar chart for 2016\n",
    "plots_2016 =  create_bar_chart(to_data_per_year.iloc[3],\"Dwelling Types in Toronto in 2016\",\"2016\",\"Dwelling Type Units\",\"yellow\")"
   ]
  },
  {
   "cell_type": "code",
   "execution_count": 44,
   "id": "012806e5",
   "metadata": {},
   "outputs": [
    {
     "data": {},
     "metadata": {},
     "output_type": "display_data"
    },
    {
     "data": {},
     "metadata": {},
     "output_type": "display_data"
    },
    {
     "data": {
      "application/vnd.holoviews_exec.v0+json": "",
      "text/html": [
       "<div id='3707'>\n",
       "\n",
       "\n",
       "\n",
       "\n",
       "\n",
       "  <div class=\"bk-root\" id=\"5ad18ca0-c1c6-43c3-a57c-473974b4a797\" data-root-id=\"3707\"></div>\n",
       "</div>\n",
       "<script type=\"application/javascript\">(function(root) {\n",
       "  function embed_document(root) {\n",
       "    var docs_json = {\"93e3c2e6-cbad-40e2-95aa-140b6289026c\":{\"defs\":[{\"extends\":null,\"module\":null,\"name\":\"ReactiveHTML1\",\"overrides\":[],\"properties\":[]},{\"extends\":null,\"module\":null,\"name\":\"FlexBox1\",\"overrides\":[],\"properties\":[{\"default\":\"flex-start\",\"kind\":null,\"name\":\"align_content\"},{\"default\":\"flex-start\",\"kind\":null,\"name\":\"align_items\"},{\"default\":\"row\",\"kind\":null,\"name\":\"flex_direction\"},{\"default\":\"wrap\",\"kind\":null,\"name\":\"flex_wrap\"},{\"default\":\"flex-start\",\"kind\":null,\"name\":\"justify_content\"}]},{\"extends\":null,\"module\":null,\"name\":\"TemplateActions1\",\"overrides\":[],\"properties\":[{\"default\":0,\"kind\":null,\"name\":\"open_modal\"},{\"default\":0,\"kind\":null,\"name\":\"close_modal\"}]},{\"extends\":null,\"module\":null,\"name\":\"MaterialTemplateActions1\",\"overrides\":[],\"properties\":[{\"default\":0,\"kind\":null,\"name\":\"open_modal\"},{\"default\":0,\"kind\":null,\"name\":\"close_modal\"}]}],\"roots\":{\"references\":[{\"attributes\":{\"source\":{\"id\":\"3877\"}},\"id\":\"3884\",\"type\":\"CDSView\"},{\"attributes\":{\"fill_alpha\":{\"value\":0.2},\"fill_color\":{\"value\":\"blue\"},\"hatch_alpha\":{\"value\":0.2},\"hatch_color\":{\"value\":\"blue\"},\"line_alpha\":{\"value\":0.2},\"top\":{\"field\":\"A_2006\"},\"width\":{\"value\":0.8},\"x\":{\"field\":\"index\"}},\"id\":\"3814\",\"type\":\"VBar\"},{\"attributes\":{\"source\":{\"id\":\"3945\"}},\"id\":\"3952\",\"type\":\"CDSView\"},{\"attributes\":{\"coordinates\":null,\"data_source\":{\"id\":\"3877\"},\"glyph\":{\"id\":\"3880\"},\"group\":null,\"hover_glyph\":null,\"muted_glyph\":{\"id\":\"3882\"},\"nonselection_glyph\":{\"id\":\"3881\"},\"selection_glyph\":{\"id\":\"3885\"},\"view\":{\"id\":\"3884\"}},\"id\":\"3883\",\"type\":\"GlyphRenderer\"},{\"attributes\":{},\"id\":\"3934\",\"type\":\"WheelZoomTool\"},{\"attributes\":{\"axis_label\":\"Dwelling Type Units\",\"coordinates\":null,\"formatter\":{\"id\":\"3818\"},\"group\":null,\"major_label_policy\":{\"id\":\"3824\"},\"ticker\":{\"id\":\"3793\"}},\"id\":\"3792\",\"type\":\"LinearAxis\"},{\"attributes\":{},\"id\":\"3865\",\"type\":\"PanTool\"},{\"attributes\":{},\"id\":\"3793\",\"type\":\"BasicTicker\"},{\"attributes\":{},\"id\":\"3901\",\"type\":\"UnionRenderers\"},{\"attributes\":{\"source\":{\"id\":\"3809\"}},\"id\":\"3816\",\"type\":\"CDSView\"},{\"attributes\":{\"tools\":[{\"id\":\"3847\"},{\"id\":\"3864\"},{\"id\":\"3865\"},{\"id\":\"3866\"},{\"id\":\"3867\"},{\"id\":\"3868\"}]},\"id\":\"3870\",\"type\":\"Toolbar\"},{\"attributes\":{\"children\":[{\"id\":\"3708\"},{\"id\":\"3712\"},{\"id\":\"3780\"},{\"id\":\"3848\"},{\"id\":\"3916\"}],\"margin\":[0,0,0,0],\"name\":\"Column09333\"},\"id\":\"3707\",\"type\":\"Column\"},{\"attributes\":{\"coordinates\":null,\"data_source\":{\"id\":\"3809\"},\"glyph\":{\"id\":\"3812\"},\"group\":null,\"hover_glyph\":null,\"muted_glyph\":{\"id\":\"3814\"},\"nonselection_glyph\":{\"id\":\"3813\"},\"selection_glyph\":{\"id\":\"3817\"},\"view\":{\"id\":\"3816\"}},\"id\":\"3815\",\"type\":\"GlyphRenderer\"},{\"attributes\":{\"axis_label\":\"2006\",\"coordinates\":null,\"formatter\":{\"id\":\"3820\"},\"group\":null,\"major_label_orientation\":1.5707963267948966,\"major_label_policy\":{\"id\":\"3821\"},\"ticker\":{\"id\":\"3790\"}},\"id\":\"3789\",\"type\":\"CategoricalAxis\"},{\"attributes\":{\"tools\":[{\"id\":\"3779\"},{\"id\":\"3796\"},{\"id\":\"3797\"},{\"id\":\"3798\"},{\"id\":\"3799\"},{\"id\":\"3800\"}]},\"id\":\"3802\",\"type\":\"Toolbar\"},{\"attributes\":{\"axis\":{\"id\":\"3789\"},\"coordinates\":null,\"grid_line_color\":null,\"group\":null,\"ticker\":null},\"id\":\"3791\",\"type\":\"Grid\"},{\"attributes\":{\"data\":{\"A_2011\":[274940,429220,100,72480,60355,44750,163895,2165,74259461,202750,142771],\"index\":[\"single_detached_house\",\"apartment_five_storeys_plus\",\"movable_dwelling\",\"semi_detached_house\",\"row_house\",\"duplex\",\"apartment_five_storeys_less\",\"other_house\",\"average_house_value\",\"shelter_costs_owned\",\"shelter_costs_rented\"]},\"selected\":{\"id\":\"3878\"},\"selection_policy\":{\"id\":\"3901\"}},\"id\":\"3877\",\"type\":\"ColumnDataSource\"},{\"attributes\":{},\"id\":\"3798\",\"type\":\"WheelZoomTool\"},{\"attributes\":{\"overlay\":{\"id\":\"3937\"}},\"id\":\"3935\",\"type\":\"BoxZoomTool\"},{\"attributes\":{\"format\":\"%f\"},\"id\":\"3818\",\"type\":\"PrintfTickFormatter\"},{\"attributes\":{},\"id\":\"3888\",\"type\":\"CategoricalTickFormatter\"},{\"attributes\":{\"bottom_units\":\"screen\",\"coordinates\":null,\"fill_alpha\":0.5,\"fill_color\":\"lightgrey\",\"group\":null,\"left_units\":\"screen\",\"level\":\"overlay\",\"line_alpha\":1.0,\"line_color\":\"black\",\"line_dash\":[4,4],\"line_width\":2,\"right_units\":\"screen\",\"syncable\":false,\"top_units\":\"screen\"},\"id\":\"3801\",\"type\":\"BoxAnnotation\"},{\"attributes\":{},\"id\":\"3932\",\"type\":\"SaveTool\"},{\"attributes\":{},\"id\":\"3936\",\"type\":\"ResetTool\"},{\"attributes\":{},\"id\":\"3800\",\"type\":\"ResetTool\"},{\"attributes\":{},\"id\":\"3787\",\"type\":\"LinearScale\"},{\"attributes\":{\"callback\":null,\"renderers\":[{\"id\":\"3815\"}],\"tags\":[\"hv_created\"],\"tooltips\":[[\"index\",\"@{index}\"],[\"2006\",\"@{A_2006}\"]]},\"id\":\"3779\",\"type\":\"HoverTool\"},{\"attributes\":{\"axis\":{\"id\":\"3792\"},\"coordinates\":null,\"dimension\":1,\"grid_line_color\":null,\"group\":null,\"ticker\":null},\"id\":\"3795\",\"type\":\"Grid\"},{\"attributes\":{},\"id\":\"3933\",\"type\":\"PanTool\"},{\"attributes\":{\"overlay\":{\"id\":\"3801\"}},\"id\":\"3799\",\"type\":\"BoxZoomTool\"},{\"attributes\":{\"fill_color\":{\"value\":\"blue\"},\"hatch_color\":{\"value\":\"blue\"},\"top\":{\"field\":\"A_2006\"},\"width\":{\"value\":0.8},\"x\":{\"field\":\"index\"}},\"id\":\"3812\",\"type\":\"VBar\"},{\"attributes\":{\"bottom\":{\"value\":0},\"fill_alpha\":{\"value\":1.0},\"fill_color\":{\"value\":\"yellow\"},\"hatch_alpha\":{\"value\":1.0},\"hatch_color\":{\"value\":\"yellow\"},\"hatch_scale\":{\"value\":12.0},\"hatch_weight\":{\"value\":1.0},\"line_alpha\":{\"value\":1.0},\"line_cap\":{\"value\":\"butt\"},\"line_color\":{\"value\":\"black\"},\"line_dash\":{\"value\":[]},\"line_dash_offset\":{\"value\":0},\"line_join\":{\"value\":\"bevel\"},\"line_width\":{\"value\":1},\"top\":{\"field\":\"A_2016\"},\"width\":{\"value\":0.8},\"x\":{\"field\":\"index\"}},\"id\":\"3953\",\"type\":\"VBar\"},{\"attributes\":{},\"id\":\"3790\",\"type\":\"CategoricalTicker\"},{\"attributes\":{\"bottom\":{\"value\":0},\"fill_alpha\":{\"value\":1.0},\"fill_color\":{\"value\":\"purple\"},\"hatch_alpha\":{\"value\":1.0},\"hatch_color\":{\"value\":\"purple\"},\"hatch_scale\":{\"value\":12.0},\"hatch_weight\":{\"value\":1.0},\"line_alpha\":{\"value\":1.0},\"line_cap\":{\"value\":\"butt\"},\"line_color\":{\"value\":\"black\"},\"line_dash\":{\"value\":[]},\"line_dash_offset\":{\"value\":0},\"line_join\":{\"value\":\"bevel\"},\"line_width\":{\"value\":1},\"top\":{\"field\":\"A_2011\"},\"width\":{\"value\":0.8},\"x\":{\"field\":\"index\"}},\"id\":\"3885\",\"type\":\"VBar\"},{\"attributes\":{\"axis_label\":\"2001\",\"coordinates\":null,\"formatter\":{\"id\":\"3752\"},\"group\":null,\"major_label_orientation\":1.5707963267948966,\"major_label_policy\":{\"id\":\"3753\"},\"ticker\":{\"id\":\"3722\"}},\"id\":\"3721\",\"type\":\"CategoricalAxis\"},{\"attributes\":{},\"id\":\"3833\",\"type\":\"UnionRenderers\"},{\"attributes\":{\"coordinates\":null,\"group\":null,\"text\":\"Dwelling Types in Toronto in 2006\",\"text_color\":\"black\",\"text_font_size\":\"12pt\"},\"id\":\"3781\",\"type\":\"Title\"},{\"attributes\":{\"tools\":[{\"id\":\"3915\"},{\"id\":\"3932\"},{\"id\":\"3933\"},{\"id\":\"3934\"},{\"id\":\"3935\"},{\"id\":\"3936\"}]},\"id\":\"3938\",\"type\":\"Toolbar\"},{\"attributes\":{\"below\":[{\"id\":\"3789\"}],\"center\":[{\"id\":\"3791\"},{\"id\":\"3795\"}],\"height\":300,\"left\":[{\"id\":\"3792\"}],\"margin\":[5,5,5,5],\"min_border_bottom\":10,\"min_border_left\":10,\"min_border_right\":10,\"min_border_top\":10,\"renderers\":[{\"id\":\"3815\"}],\"sizing_mode\":\"fixed\",\"title\":{\"id\":\"3781\"},\"toolbar\":{\"id\":\"3802\"},\"width\":700,\"x_range\":{\"id\":\"3709\"},\"x_scale\":{\"id\":\"3785\"},\"y_range\":{\"id\":\"3778\"},\"y_scale\":{\"id\":\"3787\"}},\"id\":\"3780\",\"subtype\":\"Figure\",\"type\":\"Plot\"},{\"attributes\":{},\"id\":\"3864\",\"type\":\"SaveTool\"},{\"attributes\":{\"fill_alpha\":{\"value\":0.1},\"fill_color\":{\"value\":\"blue\"},\"hatch_alpha\":{\"value\":0.1},\"hatch_color\":{\"value\":\"blue\"},\"line_alpha\":{\"value\":0.1},\"top\":{\"field\":\"A_2006\"},\"width\":{\"value\":0.8},\"x\":{\"field\":\"index\"}},\"id\":\"3813\",\"type\":\"VBar\"},{\"attributes\":{},\"id\":\"3861\",\"type\":\"BasicTicker\"},{\"attributes\":{\"format\":\"%f\"},\"id\":\"3954\",\"type\":\"PrintfTickFormatter\"},{\"attributes\":{\"end\":65305171.8,\"reset_end\":65305171.8,\"reset_start\":0.0,\"tags\":[[[\"2006\",\"2006\",null]]]},\"id\":\"3778\",\"type\":\"Range1d\"},{\"attributes\":{\"axis_label\":\"Dwelling Type Units\",\"coordinates\":null,\"formatter\":{\"id\":\"3886\"},\"group\":null,\"major_label_policy\":{\"id\":\"3892\"},\"ticker\":{\"id\":\"3861\"}},\"id\":\"3860\",\"type\":\"LinearAxis\"},{\"attributes\":{},\"id\":\"3820\",\"type\":\"CategoricalTickFormatter\"},{\"attributes\":{},\"id\":\"3858\",\"type\":\"CategoricalTicker\"},{\"attributes\":{},\"id\":\"3821\",\"type\":\"AllLabels\"},{\"attributes\":{\"data\":{\"A_2001\":[300930,355015,75,90995,52355,23785,116900,3040,40583604,118563,152031],\"index\":[\"single_detached_house\",\"apartment_five_storeys_plus\",\"movable_dwelling\",\"semi_detached_house\",\"row_house\",\"duplex\",\"apartment_five_storeys_less\",\"other_house\",\"average_house_value\",\"shelter_costs_owned\",\"shelter_costs_rented\"]},\"selected\":{\"id\":\"3742\"},\"selection_policy\":{\"id\":\"3765\"}},\"id\":\"3741\",\"type\":\"ColumnDataSource\"},{\"attributes\":{},\"id\":\"3810\",\"type\":\"Selection\"},{\"attributes\":{\"css_classes\":[\"markdown\"],\"margin\":[5,5,5,5],\"name\":\"Markdown09311\",\"text\":\"&lt;p&gt;Dwelling Types in Toronto&lt;/p&gt;\"},\"id\":\"3708\",\"type\":\"panel.models.markup.HTML\"},{\"attributes\":{},\"id\":\"3892\",\"type\":\"AllLabels\"},{\"attributes\":{\"bottom_units\":\"screen\",\"coordinates\":null,\"fill_alpha\":0.5,\"fill_color\":\"lightgrey\",\"group\":null,\"left_units\":\"screen\",\"level\":\"overlay\",\"line_alpha\":1.0,\"line_color\":\"black\",\"line_dash\":[4,4],\"line_width\":2,\"right_units\":\"screen\",\"syncable\":false,\"top_units\":\"screen\"},\"id\":\"3937\",\"type\":\"BoxAnnotation\"},{\"attributes\":{\"bottom\":{\"value\":0},\"fill_alpha\":{\"value\":1.0},\"fill_color\":{\"value\":\"red\"},\"hatch_alpha\":{\"value\":1.0},\"hatch_color\":{\"value\":\"red\"},\"hatch_scale\":{\"value\":12.0},\"hatch_weight\":{\"value\":1.0},\"line_alpha\":{\"value\":1.0},\"line_cap\":{\"value\":\"butt\"},\"line_color\":{\"value\":\"black\"},\"line_dash\":{\"value\":[]},\"line_dash_offset\":{\"value\":0},\"line_join\":{\"value\":\"bevel\"},\"line_width\":{\"value\":1},\"top\":{\"field\":\"A_2001\"},\"width\":{\"value\":0.8},\"x\":{\"field\":\"index\"}},\"id\":\"3749\",\"type\":\"VBar\"},{\"attributes\":{\"bottom\":{\"value\":0},\"fill_alpha\":{\"value\":1.0},\"fill_color\":{\"value\":\"blue\"},\"hatch_alpha\":{\"value\":1.0},\"hatch_color\":{\"value\":\"blue\"},\"hatch_scale\":{\"value\":12.0},\"hatch_weight\":{\"value\":1.0},\"line_alpha\":{\"value\":1.0},\"line_cap\":{\"value\":\"butt\"},\"line_color\":{\"value\":\"black\"},\"line_dash\":{\"value\":[]},\"line_dash_offset\":{\"value\":0},\"line_join\":{\"value\":\"bevel\"},\"line_width\":{\"value\":1},\"top\":{\"field\":\"A_2006\"},\"width\":{\"value\":0.8},\"x\":{\"field\":\"index\"}},\"id\":\"3817\",\"type\":\"VBar\"},{\"attributes\":{\"axis\":{\"id\":\"3857\"},\"coordinates\":null,\"grid_line_color\":null,\"group\":null,\"ticker\":null},\"id\":\"3859\",\"type\":\"Grid\"},{\"attributes\":{},\"id\":\"3956\",\"type\":\"CategoricalTickFormatter\"},{\"attributes\":{},\"id\":\"3969\",\"type\":\"UnionRenderers\"},{\"attributes\":{},\"id\":\"3797\",\"type\":\"PanTool\"},{\"attributes\":{\"axis\":{\"id\":\"3860\"},\"coordinates\":null,\"dimension\":1,\"grid_line_color\":null,\"group\":null,\"ticker\":null},\"id\":\"3863\",\"type\":\"Grid\"},{\"attributes\":{\"axis_label\":\"Dwelling Type Units\",\"coordinates\":null,\"formatter\":{\"id\":\"3750\"},\"group\":null,\"major_label_policy\":{\"id\":\"3756\"},\"ticker\":{\"id\":\"3725\"}},\"id\":\"3724\",\"type\":\"LinearAxis\"},{\"attributes\":{},\"id\":\"3796\",\"type\":\"SaveTool\"},{\"attributes\":{},\"id\":\"3929\",\"type\":\"BasicTicker\"},{\"attributes\":{},\"id\":\"3725\",\"type\":\"BasicTicker\"},{\"attributes\":{\"fill_alpha\":{\"value\":0.1},\"fill_color\":{\"value\":\"purple\"},\"hatch_alpha\":{\"value\":0.1},\"hatch_color\":{\"value\":\"purple\"},\"line_alpha\":{\"value\":0.1},\"top\":{\"field\":\"A_2011\"},\"width\":{\"value\":0.8},\"x\":{\"field\":\"index\"}},\"id\":\"3881\",\"type\":\"VBar\"},{\"attributes\":{\"fill_alpha\":{\"value\":0.2},\"fill_color\":{\"value\":\"purple\"},\"hatch_alpha\":{\"value\":0.2},\"hatch_color\":{\"value\":\"purple\"},\"line_alpha\":{\"value\":0.2},\"top\":{\"field\":\"A_2011\"},\"width\":{\"value\":0.8},\"x\":{\"field\":\"index\"}},\"id\":\"3882\",\"type\":\"VBar\"},{\"attributes\":{},\"id\":\"3926\",\"type\":\"CategoricalTicker\"},{\"attributes\":{\"axis_label\":\"Dwelling Type Units\",\"coordinates\":null,\"formatter\":{\"id\":\"3954\"},\"group\":null,\"major_label_policy\":{\"id\":\"3960\"},\"ticker\":{\"id\":\"3929\"}},\"id\":\"3928\",\"type\":\"LinearAxis\"},{\"attributes\":{\"axis\":{\"id\":\"3724\"},\"coordinates\":null,\"dimension\":1,\"grid_line_color\":null,\"group\":null,\"ticker\":null},\"id\":\"3727\",\"type\":\"Grid\"},{\"attributes\":{\"fill_alpha\":{\"value\":0.2},\"fill_color\":{\"value\":\"yellow\"},\"hatch_alpha\":{\"value\":0.2},\"hatch_color\":{\"value\":\"yellow\"},\"line_alpha\":{\"value\":0.2},\"top\":{\"field\":\"A_2016\"},\"width\":{\"value\":0.8},\"x\":{\"field\":\"index\"}},\"id\":\"3950\",\"type\":\"VBar\"},{\"attributes\":{\"axis\":{\"id\":\"3925\"},\"coordinates\":null,\"grid_line_color\":null,\"group\":null,\"ticker\":null},\"id\":\"3927\",\"type\":\"Grid\"},{\"attributes\":{},\"id\":\"3957\",\"type\":\"AllLabels\"},{\"attributes\":{\"fill_alpha\":{\"value\":0.2},\"fill_color\":{\"value\":\"red\"},\"hatch_alpha\":{\"value\":0.2},\"hatch_color\":{\"value\":\"red\"},\"line_alpha\":{\"value\":0.2},\"top\":{\"field\":\"A_2001\"},\"width\":{\"value\":0.8},\"x\":{\"field\":\"index\"}},\"id\":\"3746\",\"type\":\"VBar\"},{\"attributes\":{\"fill_color\":{\"value\":\"yellow\"},\"hatch_color\":{\"value\":\"yellow\"},\"top\":{\"field\":\"A_2016\"},\"width\":{\"value\":0.8},\"x\":{\"field\":\"index\"}},\"id\":\"3948\",\"type\":\"VBar\"},{\"attributes\":{\"axis_label\":\"2011\",\"coordinates\":null,\"formatter\":{\"id\":\"3888\"},\"group\":null,\"major_label_orientation\":1.5707963267948966,\"major_label_policy\":{\"id\":\"3889\"},\"ticker\":{\"id\":\"3858\"}},\"id\":\"3857\",\"type\":\"CategoricalAxis\"},{\"attributes\":{\"axis_label\":\"2016\",\"coordinates\":null,\"formatter\":{\"id\":\"3956\"},\"group\":null,\"major_label_orientation\":1.5707963267948966,\"major_label_policy\":{\"id\":\"3957\"},\"ticker\":{\"id\":\"3926\"}},\"id\":\"3925\",\"type\":\"CategoricalAxis\"},{\"attributes\":{\"format\":\"%f\"},\"id\":\"3750\",\"type\":\"PrintfTickFormatter\"},{\"attributes\":{},\"id\":\"3868\",\"type\":\"ResetTool\"},{\"attributes\":{},\"id\":\"3728\",\"type\":\"SaveTool\"},{\"attributes\":{},\"id\":\"3853\",\"type\":\"CategoricalScale\"},{\"attributes\":{},\"id\":\"3729\",\"type\":\"PanTool\"},{\"attributes\":{\"overlay\":{\"id\":\"3869\"}},\"id\":\"3867\",\"type\":\"BoxZoomTool\"},{\"attributes\":{},\"id\":\"3730\",\"type\":\"WheelZoomTool\"},{\"attributes\":{\"end\":44641956.9,\"reset_end\":44641956.9,\"reset_start\":0.0,\"tags\":[[[\"2001\",\"2001\",null]]]},\"id\":\"3710\",\"type\":\"Range1d\"},{\"attributes\":{\"tools\":[{\"id\":\"3711\"},{\"id\":\"3728\"},{\"id\":\"3729\"},{\"id\":\"3730\"},{\"id\":\"3731\"},{\"id\":\"3732\"}]},\"id\":\"3734\",\"type\":\"Toolbar\"},{\"attributes\":{\"overlay\":{\"id\":\"3733\"}},\"id\":\"3731\",\"type\":\"BoxZoomTool\"},{\"attributes\":{},\"id\":\"3889\",\"type\":\"AllLabels\"},{\"attributes\":{\"coordinates\":null,\"data_source\":{\"id\":\"3741\"},\"glyph\":{\"id\":\"3744\"},\"group\":null,\"hover_glyph\":null,\"muted_glyph\":{\"id\":\"3746\"},\"nonselection_glyph\":{\"id\":\"3745\"},\"selection_glyph\":{\"id\":\"3749\"},\"view\":{\"id\":\"3748\"}},\"id\":\"3747\",\"type\":\"GlyphRenderer\"},{\"attributes\":{\"below\":[{\"id\":\"3857\"}],\"center\":[{\"id\":\"3859\"},{\"id\":\"3863\"}],\"height\":300,\"left\":[{\"id\":\"3860\"}],\"margin\":[5,5,5,5],\"min_border_bottom\":10,\"min_border_left\":10,\"min_border_right\":10,\"min_border_top\":10,\"renderers\":[{\"id\":\"3883\"}],\"sizing_mode\":\"fixed\",\"title\":{\"id\":\"3849\"},\"toolbar\":{\"id\":\"3870\"},\"width\":700,\"x_range\":{\"id\":\"3709\"},\"x_scale\":{\"id\":\"3853\"},\"y_range\":{\"id\":\"3846\"},\"y_scale\":{\"id\":\"3855\"}},\"id\":\"3848\",\"subtype\":\"Figure\",\"type\":\"Plot\"},{\"attributes\":{\"fill_color\":{\"value\":\"purple\"},\"hatch_color\":{\"value\":\"purple\"},\"top\":{\"field\":\"A_2011\"},\"width\":{\"value\":0.8},\"x\":{\"field\":\"index\"}},\"id\":\"3880\",\"type\":\"VBar\"},{\"attributes\":{\"format\":\"%f\"},\"id\":\"3886\",\"type\":\"PrintfTickFormatter\"},{\"attributes\":{\"coordinates\":null,\"group\":null,\"text\":\"Dwelling Types in Toronto in 2011\",\"text_color\":\"black\",\"text_font_size\":\"12pt\"},\"id\":\"3849\",\"type\":\"Title\"},{\"attributes\":{\"bottom_units\":\"screen\",\"coordinates\":null,\"fill_alpha\":0.5,\"fill_color\":\"lightgrey\",\"group\":null,\"left_units\":\"screen\",\"level\":\"overlay\",\"line_alpha\":1.0,\"line_color\":\"black\",\"line_dash\":[4,4],\"line_width\":2,\"right_units\":\"screen\",\"syncable\":false,\"top_units\":\"screen\"},\"id\":\"3869\",\"type\":\"BoxAnnotation\"},{\"attributes\":{},\"id\":\"3732\",\"type\":\"ResetTool\"},{\"attributes\":{},\"id\":\"3866\",\"type\":\"WheelZoomTool\"},{\"attributes\":{},\"id\":\"3742\",\"type\":\"Selection\"},{\"attributes\":{\"callback\":null,\"renderers\":[{\"id\":\"3951\"}],\"tags\":[\"hv_created\"],\"tooltips\":[[\"index\",\"@{index}\"],[\"2016\",\"@{A_2016}\"]]},\"id\":\"3915\",\"type\":\"HoverTool\"},{\"attributes\":{\"end\":81685397.1,\"reset_end\":81685397.1,\"reset_start\":0.0,\"tags\":[[[\"2011\",\"2011\",null]]]},\"id\":\"3846\",\"type\":\"Range1d\"},{\"attributes\":{\"bottom_units\":\"screen\",\"coordinates\":null,\"fill_alpha\":0.5,\"fill_color\":\"lightgrey\",\"group\":null,\"left_units\":\"screen\",\"level\":\"overlay\",\"line_alpha\":1.0,\"line_color\":\"black\",\"line_dash\":[4,4],\"line_width\":2,\"right_units\":\"screen\",\"syncable\":false,\"top_units\":\"screen\"},\"id\":\"3733\",\"type\":\"BoxAnnotation\"},{\"attributes\":{},\"id\":\"3753\",\"type\":\"AllLabels\"},{\"attributes\":{\"coordinates\":null,\"data_source\":{\"id\":\"3945\"},\"glyph\":{\"id\":\"3948\"},\"group\":null,\"hover_glyph\":null,\"muted_glyph\":{\"id\":\"3950\"},\"nonselection_glyph\":{\"id\":\"3949\"},\"selection_glyph\":{\"id\":\"3953\"},\"view\":{\"id\":\"3952\"}},\"id\":\"3951\",\"type\":\"GlyphRenderer\"},{\"attributes\":{},\"id\":\"3756\",\"type\":\"AllLabels\"},{\"attributes\":{\"axis\":{\"id\":\"3928\"},\"coordinates\":null,\"dimension\":1,\"grid_line_color\":null,\"group\":null,\"ticker\":null},\"id\":\"3931\",\"type\":\"Grid\"},{\"attributes\":{},\"id\":\"3960\",\"type\":\"AllLabels\"},{\"attributes\":{},\"id\":\"3752\",\"type\":\"CategoricalTickFormatter\"},{\"attributes\":{},\"id\":\"3946\",\"type\":\"Selection\"},{\"attributes\":{},\"id\":\"3824\",\"type\":\"AllLabels\"},{\"attributes\":{\"fill_alpha\":{\"value\":0.1},\"fill_color\":{\"value\":\"yellow\"},\"hatch_alpha\":{\"value\":0.1},\"hatch_color\":{\"value\":\"yellow\"},\"line_alpha\":{\"value\":0.1},\"top\":{\"field\":\"A_2016\"},\"width\":{\"value\":0.8},\"x\":{\"field\":\"index\"}},\"id\":\"3949\",\"type\":\"VBar\"},{\"attributes\":{},\"id\":\"3855\",\"type\":\"LinearScale\"},{\"attributes\":{},\"id\":\"3921\",\"type\":\"CategoricalScale\"},{\"attributes\":{\"factors\":[\"single_detached_house\",\"apartment_five_storeys_plus\",\"movable_dwelling\",\"semi_detached_house\",\"row_house\",\"duplex\",\"apartment_five_storeys_less\",\"other_house\",\"average_house_value\",\"shelter_costs_owned\",\"shelter_costs_rented\"],\"tags\":[[[\"index\",\"index\",null]]]},\"id\":\"3709\",\"type\":\"FactorRange\"},{\"attributes\":{\"end\":102266513.1,\"reset_end\":102266513.1,\"reset_start\":0.0,\"tags\":[[[\"2016\",\"2016\",null]]]},\"id\":\"3914\",\"type\":\"Range1d\"},{\"attributes\":{\"below\":[{\"id\":\"3925\"}],\"center\":[{\"id\":\"3927\"},{\"id\":\"3931\"}],\"height\":300,\"left\":[{\"id\":\"3928\"}],\"margin\":[5,5,5,5],\"min_border_bottom\":10,\"min_border_left\":10,\"min_border_right\":10,\"min_border_top\":10,\"renderers\":[{\"id\":\"3951\"}],\"sizing_mode\":\"fixed\",\"title\":{\"id\":\"3917\"},\"toolbar\":{\"id\":\"3938\"},\"width\":700,\"x_range\":{\"id\":\"3709\"},\"x_scale\":{\"id\":\"3921\"},\"y_range\":{\"id\":\"3914\"},\"y_scale\":{\"id\":\"3923\"}},\"id\":\"3916\",\"subtype\":\"Figure\",\"type\":\"Plot\"},{\"attributes\":{\"callback\":null,\"renderers\":[{\"id\":\"3747\"}],\"tags\":[\"hv_created\"],\"tooltips\":[[\"index\",\"@{index}\"],[\"2001\",\"@{A_2001}\"]]},\"id\":\"3711\",\"type\":\"HoverTool\"},{\"attributes\":{\"fill_color\":{\"value\":\"red\"},\"hatch_color\":{\"value\":\"red\"},\"top\":{\"field\":\"A_2001\"},\"width\":{\"value\":0.8},\"x\":{\"field\":\"index\"}},\"id\":\"3744\",\"type\":\"VBar\"},{\"attributes\":{},\"id\":\"3765\",\"type\":\"UnionRenderers\"},{\"attributes\":{\"source\":{\"id\":\"3741\"}},\"id\":\"3748\",\"type\":\"CDSView\"},{\"attributes\":{\"fill_alpha\":{\"value\":0.1},\"fill_color\":{\"value\":\"red\"},\"hatch_alpha\":{\"value\":0.1},\"hatch_color\":{\"value\":\"red\"},\"line_alpha\":{\"value\":0.1},\"top\":{\"field\":\"A_2001\"},\"width\":{\"value\":0.8},\"x\":{\"field\":\"index\"}},\"id\":\"3745\",\"type\":\"VBar\"},{\"attributes\":{},\"id\":\"3785\",\"type\":\"CategoricalScale\"},{\"attributes\":{},\"id\":\"3923\",\"type\":\"LinearScale\"},{\"attributes\":{\"data\":{\"A_2006\":[266860,379400,165,69430,54690,44095,162850,1335,59368353,184352,129558],\"index\":[\"single_detached_house\",\"apartment_five_storeys_plus\",\"movable_dwelling\",\"semi_detached_house\",\"row_house\",\"duplex\",\"apartment_five_storeys_less\",\"other_house\",\"average_house_value\",\"shelter_costs_owned\",\"shelter_costs_rented\"]},\"selected\":{\"id\":\"3810\"},\"selection_policy\":{\"id\":\"3833\"}},\"id\":\"3809\",\"type\":\"ColumnDataSource\"},{\"attributes\":{\"below\":[{\"id\":\"3721\"}],\"center\":[{\"id\":\"3723\"},{\"id\":\"3727\"}],\"height\":300,\"left\":[{\"id\":\"3724\"}],\"margin\":[5,5,5,5],\"min_border_bottom\":10,\"min_border_left\":10,\"min_border_right\":10,\"min_border_top\":10,\"renderers\":[{\"id\":\"3747\"}],\"sizing_mode\":\"fixed\",\"title\":{\"id\":\"3713\"},\"toolbar\":{\"id\":\"3734\"},\"width\":700,\"x_range\":{\"id\":\"3709\"},\"x_scale\":{\"id\":\"3717\"},\"y_range\":{\"id\":\"3710\"},\"y_scale\":{\"id\":\"3719\"}},\"id\":\"3712\",\"subtype\":\"Figure\",\"type\":\"Plot\"},{\"attributes\":{\"coordinates\":null,\"group\":null,\"text\":\"Dwelling Types in Toronto in 2016\",\"text_color\":\"black\",\"text_font_size\":\"12pt\"},\"id\":\"3917\",\"type\":\"Title\"},{\"attributes\":{\"coordinates\":null,\"group\":null,\"text\":\"Dwelling Types in Toronto in 2001\",\"text_color\":\"black\",\"text_font_size\":\"12pt\"},\"id\":\"3713\",\"type\":\"Title\"},{\"attributes\":{\"data\":{\"A_2016\":[269680,493270,95,71200,61565,48585,165575,2845,92969566,246584,175885],\"index\":[\"single_detached_house\",\"apartment_five_storeys_plus\",\"movable_dwelling\",\"semi_detached_house\",\"row_house\",\"duplex\",\"apartment_five_storeys_less\",\"other_house\",\"average_house_value\",\"shelter_costs_owned\",\"shelter_costs_rented\"]},\"selected\":{\"id\":\"3946\"},\"selection_policy\":{\"id\":\"3969\"}},\"id\":\"3945\",\"type\":\"ColumnDataSource\"},{\"attributes\":{},\"id\":\"3719\",\"type\":\"LinearScale\"},{\"attributes\":{},\"id\":\"3878\",\"type\":\"Selection\"},{\"attributes\":{},\"id\":\"3717\",\"type\":\"CategoricalScale\"},{\"attributes\":{\"axis\":{\"id\":\"3721\"},\"coordinates\":null,\"grid_line_color\":null,\"group\":null,\"ticker\":null},\"id\":\"3723\",\"type\":\"Grid\"},{\"attributes\":{},\"id\":\"3722\",\"type\":\"CategoricalTicker\"},{\"attributes\":{\"callback\":null,\"renderers\":[{\"id\":\"3883\"}],\"tags\":[\"hv_created\"],\"tooltips\":[[\"index\",\"@{index}\"],[\"2011\",\"@{A_2011}\"]]},\"id\":\"3847\",\"type\":\"HoverTool\"},{\"attributes\":{\"client_comm_id\":\"8177e59e7ebf4a39af502856403ca564\",\"comm_id\":\"b5290bf895b74312ba75755807d3f440\",\"plot_id\":\"3707\"},\"id\":\"4197\",\"type\":\"panel.models.comm_manager.CommManager\"}],\"root_ids\":[\"3707\",\"4197\"]},\"title\":\"Bokeh Application\",\"version\":\"2.4.1\"}};\n",
       "    var render_items = [{\"docid\":\"93e3c2e6-cbad-40e2-95aa-140b6289026c\",\"root_ids\":[\"3707\"],\"roots\":{\"3707\":\"5ad18ca0-c1c6-43c3-a57c-473974b4a797\"}}];\n",
       "    root.Bokeh.embed.embed_items_notebook(docs_json, render_items);\n",
       "  }\n",
       "  if (root.Bokeh !== undefined && root.Bokeh.Panel !== undefined && ( root['Plotly'] !== undefined)) {\n",
       "    embed_document(root);\n",
       "  } else {\n",
       "    var attempts = 0;\n",
       "    var timer = setInterval(function(root) {\n",
       "      if (root.Bokeh !== undefined && root.Bokeh.Panel !== undefined && (root['Plotly'] !== undefined)) {\n",
       "        clearInterval(timer);\n",
       "        embed_document(root);\n",
       "      } else if (document.readyState == \"complete\") {\n",
       "        attempts++;\n",
       "        if (attempts > 200) {\n",
       "          clearInterval(timer);\n",
       "          console.log(\"Bokeh: ERROR: Unable to run BokehJS code because BokehJS library is missing\");\n",
       "        }\n",
       "      }\n",
       "    }, 25, root)\n",
       "  }\n",
       "})(window);</script>"
      ],
      "text/plain": [
       "Column\n",
       "    [0] Markdown(str)\n",
       "    [1] HoloViews(Bars)\n",
       "    [2] HoloViews(Bars)\n",
       "    [3] HoloViews(Bars)\n",
       "    [4] HoloViews(Bars)"
      ]
     },
     "execution_count": 44,
     "metadata": {
      "application/vnd.holoviews_exec.v0+json": {
       "id": "3707"
      }
     },
     "output_type": "execute_result"
    }
   ],
   "source": [
    "pn_yearly_column = pn.Column(\"Dwelling Types in Toronto\", plots_2001, plots_2006, plots_2011, plots_2016)\n",
    "pn_yearly_column "
   ]
  },
  {
   "cell_type": "markdown",
   "id": "b9a56f4b",
   "metadata": {},
   "source": [
    "## Average Monthly Shelter Costs in Toronto Per Year\n",
    "\n",
    "In this section, you will calculate the average monthly shelter costs for owned and rented dwellings and the average house value for each year. Plot the results as a line chart.\n",
    "\n",
    "Optional challenge: Plot each line chart in a different color"
   ]
  },
  {
   "cell_type": "code",
   "execution_count": 45,
   "id": "3f2088dc",
   "metadata": {},
   "outputs": [
    {
     "data": {
      "text/html": [
       "<div>\n",
       "<style scoped>\n",
       "    .dataframe tbody tr th:only-of-type {\n",
       "        vertical-align: middle;\n",
       "    }\n",
       "\n",
       "    .dataframe tbody tr th {\n",
       "        vertical-align: top;\n",
       "    }\n",
       "\n",
       "    .dataframe thead th {\n",
       "        text-align: right;\n",
       "    }\n",
       "</style>\n",
       "<table border=\"1\" class=\"dataframe\">\n",
       "  <thead>\n",
       "    <tr style=\"text-align: right;\">\n",
       "      <th></th>\n",
       "      <th>shelter_costs_owned</th>\n",
       "      <th>shelter_costs_rented</th>\n",
       "    </tr>\n",
       "    <tr>\n",
       "      <th>year</th>\n",
       "      <th></th>\n",
       "      <th></th>\n",
       "    </tr>\n",
       "  </thead>\n",
       "  <tbody>\n",
       "    <tr>\n",
       "      <th>2001</th>\n",
       "      <td>846.88</td>\n",
       "      <td>1085.94</td>\n",
       "    </tr>\n",
       "    <tr>\n",
       "      <th>2006</th>\n",
       "      <td>1316.80</td>\n",
       "      <td>925.41</td>\n",
       "    </tr>\n",
       "    <tr>\n",
       "      <th>2011</th>\n",
       "      <td>1448.21</td>\n",
       "      <td>1019.79</td>\n",
       "    </tr>\n",
       "    <tr>\n",
       "      <th>2016</th>\n",
       "      <td>1761.31</td>\n",
       "      <td>1256.32</td>\n",
       "    </tr>\n",
       "  </tbody>\n",
       "</table>\n",
       "</div>"
      ],
      "text/plain": [
       "      shelter_costs_owned  shelter_costs_rented\n",
       "year                                           \n",
       "2001               846.88               1085.94\n",
       "2006              1316.80                925.41\n",
       "2011              1448.21               1019.79\n",
       "2016              1761.31               1256.32"
      ]
     },
     "execution_count": 45,
     "metadata": {},
     "output_type": "execute_result"
    }
   ],
   "source": [
    "# Calculate the average monthly shelter costs for owned and rented dwellings\n",
    "df_monthly_shelter_costs = pd.DataFrame(round(to_data[[\"shelter_costs_owned\",\"shelter_costs_rented\"]].groupby(\"year\").mean(),2))\n",
    "df_monthly_shelter_costs"
   ]
  },
  {
   "cell_type": "code",
   "execution_count": 46,
   "id": "5a978136",
   "metadata": {},
   "outputs": [],
   "source": [
    "# Helper create_line_chart function\n",
    "def create_line_chart(data, title, xlabel, ylabel, color):\n",
    "    \"\"\"\n",
    "    Create a line chart based in the data argument.\n",
    "    \"\"\"\n",
    "    return data.plot(title=title, ylabel=ylabel,xlabel=xlabel,color=color)"
   ]
  },
  {
   "cell_type": "code",
   "execution_count": 47,
   "id": "aee25288",
   "metadata": {},
   "outputs": [
    {
     "data": {},
     "metadata": {},
     "output_type": "display_data"
    },
    {
     "data": {
      "application/vnd.holoviews_exec.v0+json": "",
      "text/html": [
       "<div id='4378'>\n",
       "\n",
       "\n",
       "\n",
       "\n",
       "\n",
       "  <div class=\"bk-root\" id=\"a337bc8d-cc7c-443d-b4bb-5f83860d019a\" data-root-id=\"4378\"></div>\n",
       "</div>\n",
       "<script type=\"application/javascript\">(function(root) {\n",
       "  function embed_document(root) {\n",
       "    var docs_json = {\"014a5019-0549-4e75-b650-ee4aa46ee138\":{\"defs\":[{\"extends\":null,\"module\":null,\"name\":\"ReactiveHTML1\",\"overrides\":[],\"properties\":[]},{\"extends\":null,\"module\":null,\"name\":\"FlexBox1\",\"overrides\":[],\"properties\":[{\"default\":\"flex-start\",\"kind\":null,\"name\":\"align_content\"},{\"default\":\"flex-start\",\"kind\":null,\"name\":\"align_items\"},{\"default\":\"row\",\"kind\":null,\"name\":\"flex_direction\"},{\"default\":\"wrap\",\"kind\":null,\"name\":\"flex_wrap\"},{\"default\":\"flex-start\",\"kind\":null,\"name\":\"justify_content\"}]},{\"extends\":null,\"module\":null,\"name\":\"TemplateActions1\",\"overrides\":[],\"properties\":[{\"default\":0,\"kind\":null,\"name\":\"open_modal\"},{\"default\":0,\"kind\":null,\"name\":\"close_modal\"}]},{\"extends\":null,\"module\":null,\"name\":\"MaterialTemplateActions1\",\"overrides\":[],\"properties\":[{\"default\":0,\"kind\":null,\"name\":\"open_modal\"},{\"default\":0,\"kind\":null,\"name\":\"close_modal\"}]}],\"roots\":{\"references\":[{\"attributes\":{\"client_comm_id\":\"6574d7a3fdd646a99435672d54a0fbde\",\"comm_id\":\"3bd00795e14d4e99aad7c8a55d45972e\",\"plot_id\":\"4378\"},\"id\":\"4382\",\"type\":\"panel.models.comm_manager.CommManager\"},{\"attributes\":{\"margin\":[5,5,5,5],\"name\":\"Str09615\",\"text\":\"&lt;pre&gt;AxesSubplot(0.125,0.125;0.775x0.755)&lt;/pre&gt;\"},\"id\":\"4381\",\"type\":\"panel.models.markup.HTML\"},{\"attributes\":{\"children\":[{\"id\":\"4379\"},{\"id\":\"4380\"},{\"id\":\"4381\"}],\"margin\":[0,0,0,0],\"name\":\"Column09617\"},\"id\":\"4378\",\"type\":\"Column\"},{\"attributes\":{\"margin\":[5,5,5,5],\"name\":\"Str09613\",\"text\":\"&lt;pre&gt;AxesSubplot(0.125,0.125;0.775x0.755)&lt;/pre&gt;\"},\"id\":\"4380\",\"type\":\"panel.models.markup.HTML\"},{\"attributes\":{\"css_classes\":[\"markdown\"],\"margin\":[5,5,5,5],\"name\":\"Markdown09611\",\"text\":\"&lt;p&gt;Average monthly shelter costs&lt;/p&gt;\"},\"id\":\"4379\",\"type\":\"panel.models.markup.HTML\"}],\"root_ids\":[\"4378\",\"4382\"]},\"title\":\"Bokeh Application\",\"version\":\"2.4.1\"}};\n",
       "    var render_items = [{\"docid\":\"014a5019-0549-4e75-b650-ee4aa46ee138\",\"root_ids\":[\"4378\"],\"roots\":{\"4378\":\"a337bc8d-cc7c-443d-b4bb-5f83860d019a\"}}];\n",
       "    root.Bokeh.embed.embed_items_notebook(docs_json, render_items);\n",
       "  }\n",
       "  if (root.Bokeh !== undefined && root.Bokeh.Panel !== undefined && ( root['Plotly'] !== undefined)) {\n",
       "    embed_document(root);\n",
       "  } else {\n",
       "    var attempts = 0;\n",
       "    var timer = setInterval(function(root) {\n",
       "      if (root.Bokeh !== undefined && root.Bokeh.Panel !== undefined && (root['Plotly'] !== undefined)) {\n",
       "        clearInterval(timer);\n",
       "        embed_document(root);\n",
       "      } else if (document.readyState == \"complete\") {\n",
       "        attempts++;\n",
       "        if (attempts > 200) {\n",
       "          clearInterval(timer);\n",
       "          console.log(\"Bokeh: ERROR: Unable to run BokehJS code because BokehJS library is missing\");\n",
       "        }\n",
       "      }\n",
       "    }, 25, root)\n",
       "  }\n",
       "})(window);</script>"
      ],
      "text/plain": [
       "Column\n",
       "    [0] Markdown(str)\n",
       "    [1] Str(AxesSubplot)\n",
       "    [2] Str(AxesSubplot)"
      ]
     },
     "execution_count": 47,
     "metadata": {
      "application/vnd.holoviews_exec.v0+json": {
       "id": "4378"
      }
     },
     "output_type": "execute_result"
    },
    {
     "data": {
      "image/png": "[encoded data removed]",
      "text/plain": [
       "<Figure size 432x288 with 1 Axes>"
      ]
     },
     "metadata": {
      "needs_background": "light"
     },
     "output_type": "display_data"
    },
    {
     "data": {
      "image/png": "[encoded data removed]",
      "text/plain": [
       "<Figure size 432x288 with 1 Axes>"
      ]
     },
     "metadata": {
      "needs_background": "light"
     },
     "output_type": "display_data"
    }
   ],
   "source": [
    "# Create two line charts, one to plot the monthly shelter costs for owned dwelleing and other for rented dwellings per year\n",
    "\n",
    "# Line chart for owned dwellings\n",
    "plot_shelter_costs_owned = create_line_chart(df_monthly_shelter_costs[[\"shelter_costs_owned\"]],\"For owned dwellings in Toronto\",\"Average monthly shelter costs\",\"Year\", color=\"Red\")\n",
    "\n",
    "# Line chart for rented dwellings\n",
    "plot_shelter_costs_rented = create_line_chart(df_monthly_shelter_costs[[\"shelter_costs_rented\"]],\"For rented dwellings in Toronto\",\"Average monthly shelter costs\",\"Year\", color=\"Blue\")\n",
    "\n",
    "pn_shelter_costs_column = pn.Column(\" Average monthly shelter costs\", plot_shelter_costs_owned, plot_shelter_costs_rented)\n",
    "pn_shelter_costs_column"
   ]
  },
  {
   "cell_type": "markdown",
   "id": "b121fb5b",
   "metadata": {},
   "source": [
    "## Average House Value per Year\n",
    "\n",
    "In this section, we are determine the average house value per year. An investor may want to understand better the sales price of the rental property over time. For example, a customer will want to know if they should expect an increase or decrease in the property value over time so they can determine how long to hold the rental property. You will visualize the average_house_value per year as a bar chart."
   ]
  },
  {
   "cell_type": "code",
   "execution_count": 48,
   "id": "eed65dc8",
   "metadata": {},
   "outputs": [
    {
     "data": {
      "text/plain": [
       "year\n",
       "2001    289882.885714\n",
       "2006    424059.664286\n",
       "2011    530424.721429\n",
       "2016    664068.328571\n",
       "Name: average_house_value, dtype: float64"
      ]
     },
     "execution_count": 48,
     "metadata": {},
     "output_type": "execute_result"
    }
   ],
   "source": [
    "# Calculate the average house value per year\n",
    "to_data = pd.read_csv(file_path, index_col=[\"year\",\"neighbourhood\"])\n",
    "average_house_value = to_data[\"average_house_value\"].groupby(\"year\").mean()\n",
    "average_house_value.head()"
   ]
  },
  {
   "cell_type": "code",
   "execution_count": 49,
   "id": "36592fbf",
   "metadata": {},
   "outputs": [
    {
     "data": {
      "text/plain": [
       "<AxesSubplot:title={'center':'Average value of a home in Toronto'}, xlabel='year', ylabel='Average Home Price (CAD)'>"
      ]
     },
     "execution_count": 49,
     "metadata": {},
     "output_type": "execute_result"
    },
    {
     "data": {
      "image/png": "[encoded data removed]",
      "text/plain": [
       "<Figure size 432x288 with 1 Axes>"
      ]
     },
     "metadata": {
      "needs_background": "light"
     },
     "output_type": "display_data"
    }
   ],
   "source": [
    "# Plot the average house value per year as a line chart\n",
    "average_house_value.plot(kind=\"line\", title=\"Average value of a home in Toronto\",xlabel=\"year\",ylabel=\"Average Home Price (CAD)\")"
   ]
  },
  {
   "cell_type": "markdown",
   "id": "049bb82e",
   "metadata": {},
   "source": [
    "## Average House Value by Neighbourhood\n",
    "\n",
    "In this section, you will use hvplot to create an interactive visualization of the average house value with a dropdown selector for the neighbourhood.\n",
    "\n",
    "Hint: It will be easier to create a new DataFrame from grouping the data and calculating the mean house values for each year and neighbourhood."
   ]
  },
  {
   "cell_type": "code",
   "execution_count": 50,
   "id": "73e7e59e",
   "metadata": {},
   "outputs": [
    {
     "data": {
      "text/plain": [
       "year  neighbourhood               \n",
       "2001  Agincourt North                 200388.0\n",
       "      Agincourt South-Malvern West    203047.0\n",
       "      Alderwood                       259998.0\n",
       "      Annex                           453850.0\n",
       "      Banbury-Don Mills               371864.0\n",
       "Name: average_house_value, dtype: float64"
      ]
     },
     "execution_count": 50,
     "metadata": {},
     "output_type": "execute_result"
    }
   ],
   "source": [
    "# Create a new DataFrame with the mean house values by neighbourhood per year\n",
    "avg_home_value_per_neighbourhood = to_data[\"average_house_value\"].groupby(by=[\"year\",\"neighbourhood\"]).mean()\n",
    "avg_home_value_per_neighbourhood.head()"
   ]
  },
  {
   "cell_type": "code",
   "execution_count": 51,
   "id": "48ea8b01",
   "metadata": {},
   "outputs": [
    {
     "data": {},
     "metadata": {},
     "output_type": "display_data"
    },
    {
     "data": {},
     "metadata": {},
     "output_type": "display_data"
    },
    {
     "data": {
      "application/vnd.holoviews_exec.v0+json": "",
      "text/html": [
       "<div id='4383'>\n",
       "\n",
       "\n",
       "\n",
       "\n",
       "\n",
       "  <div class=\"bk-root\" id=\"099ac63b-3365-448e-b152-d390a94fca4e\" data-root-id=\"4383\"></div>\n",
       "</div>\n",
       "<script type=\"application/javascript\">(function(root) {\n",
       "  function embed_document(root) {\n",
       "    var docs_json = {\"79d48016-5d4b-4712-820f-b9585a8a820c\":{\"defs\":[{\"extends\":null,\"module\":null,\"name\":\"ReactiveHTML1\",\"overrides\":[],\"properties\":[]},{\"extends\":null,\"module\":null,\"name\":\"FlexBox1\",\"overrides\":[],\"properties\":[{\"default\":\"flex-start\",\"kind\":null,\"name\":\"align_content\"},{\"default\":\"flex-start\",\"kind\":null,\"name\":\"align_items\"},{\"default\":\"row\",\"kind\":null,\"name\":\"flex_direction\"},{\"default\":\"wrap\",\"kind\":null,\"name\":\"flex_wrap\"},{\"default\":\"flex-start\",\"kind\":null,\"name\":\"justify_content\"}]},{\"extends\":null,\"module\":null,\"name\":\"TemplateActions1\",\"overrides\":[],\"properties\":[{\"default\":0,\"kind\":null,\"name\":\"open_modal\"},{\"default\":0,\"kind\":null,\"name\":\"close_modal\"}]},{\"extends\":null,\"module\":null,\"name\":\"MaterialTemplateActions1\",\"overrides\":[],\"properties\":[{\"default\":0,\"kind\":null,\"name\":\"open_modal\"},{\"default\":0,\"kind\":null,\"name\":\"close_modal\"}]}],\"roots\":{\"references\":[{\"attributes\":{\"below\":[{\"id\":\"4400\"}],\"center\":[{\"id\":\"4403\"},{\"id\":\"4407\"}],\"height\":300,\"left\":[{\"id\":\"4404\"}],\"margin\":[5,5,5,5],\"min_border_bottom\":10,\"min_border_left\":10,\"min_border_right\":10,\"min_border_top\":10,\"renderers\":[{\"id\":\"4427\"}],\"sizing_mode\":\"fixed\",\"title\":{\"id\":\"4392\"},\"toolbar\":{\"id\":\"4414\"},\"width\":500,\"x_range\":{\"id\":\"4388\"},\"x_scale\":{\"id\":\"4396\"},\"y_range\":{\"id\":\"4389\"},\"y_scale\":{\"id\":\"4398\"}},\"id\":\"4391\",\"subtype\":\"Figure\",\"type\":\"Plot\"},{\"attributes\":{\"axis\":{\"id\":\"4404\"},\"coordinates\":null,\"dimension\":1,\"grid_line_color\":null,\"group\":null,\"ticker\":null},\"id\":\"4407\",\"type\":\"Grid\"},{\"attributes\":{\"children\":[{\"id\":\"4384\"},{\"id\":\"4391\"}],\"margin\":[0,0,0,0],\"name\":\"Column09651\"},\"id\":\"4383\",\"type\":\"Column\"},{\"attributes\":{\"coordinates\":null,\"data_source\":{\"id\":\"4421\"},\"glyph\":{\"id\":\"4424\"},\"group\":null,\"hover_glyph\":null,\"muted_glyph\":{\"id\":\"4426\"},\"nonselection_glyph\":{\"id\":\"4425\"},\"selection_glyph\":{\"id\":\"4429\"},\"view\":{\"id\":\"4428\"}},\"id\":\"4427\",\"type\":\"GlyphRenderer\"},{\"attributes\":{},\"id\":\"4405\",\"type\":\"BasicTicker\"},{\"attributes\":{\"source\":{\"id\":\"4421\"}},\"id\":\"4428\",\"type\":\"CDSView\"},{\"attributes\":{},\"id\":\"4435\",\"type\":\"AllLabels\"},{\"attributes\":{\"line_color\":\"#30a2da\",\"line_width\":2,\"x\":{\"field\":\"year\"},\"y\":{\"field\":\"average_house_value\"}},\"id\":\"4429\",\"type\":\"Line\"},{\"attributes\":{\"line_alpha\":0.1,\"line_color\":\"#30a2da\",\"line_width\":2,\"x\":{\"field\":\"year\"},\"y\":{\"field\":\"average_house_value\"}},\"id\":\"4425\",\"type\":\"Line\"},{\"attributes\":{},\"id\":\"4422\",\"type\":\"Selection\"},{\"attributes\":{},\"id\":\"4432\",\"type\":\"AllLabels\"},{\"attributes\":{\"client_comm_id\":\"afb24161dd504667ab04267e02ba6639\",\"comm_id\":\"284e39312dcd4d5ba52e73abf52b2235\",\"plot_id\":\"4383\"},\"id\":\"4522\",\"type\":\"panel.models.comm_manager.CommManager\"},{\"attributes\":{\"coordinates\":null,\"group\":null,\"text\":\"average_house_value  neighbourhood: Agincourt North\",\"text_color\":\"black\",\"text_font_size\":\"12pt\"},\"id\":\"4392\",\"type\":\"Title\"},{\"attributes\":{},\"id\":\"4408\",\"type\":\"SaveTool\"},{\"attributes\":{},\"id\":\"4409\",\"type\":\"PanTool\"},{\"attributes\":{\"axis_label\":\"\",\"coordinates\":null,\"formatter\":{\"id\":\"4434\"},\"group\":null,\"major_label_policy\":{\"id\":\"4435\"},\"ticker\":{\"id\":\"4405\"}},\"id\":\"4404\",\"type\":\"LinearAxis\"},{\"attributes\":{\"callback\":null,\"renderers\":[{\"id\":\"4427\"}],\"tags\":[\"hv_created\"],\"tooltips\":[[\"year\",\"@{year}\"],[\"average_house_value\",\"@{average_house_value}\"]]},\"id\":\"4390\",\"type\":\"HoverTool\"},{\"attributes\":{},\"id\":\"4410\",\"type\":\"WheelZoomTool\"},{\"attributes\":{\"tools\":[{\"id\":\"4390\"},{\"id\":\"4408\"},{\"id\":\"4409\"},{\"id\":\"4410\"},{\"id\":\"4411\"},{\"id\":\"4412\"}]},\"id\":\"4414\",\"type\":\"Toolbar\"},{\"attributes\":{\"end\":484917.3,\"reset_end\":484917.3,\"reset_start\":174521.7,\"start\":174521.7,\"tags\":[[[\"average_house_value\",\"average_house_value\",null]]]},\"id\":\"4389\",\"type\":\"Range1d\"},{\"attributes\":{\"overlay\":{\"id\":\"4413\"}},\"id\":\"4411\",\"type\":\"BoxZoomTool\"},{\"attributes\":{},\"id\":\"4398\",\"type\":\"LinearScale\"},{\"attributes\":{\"margin\":[5,5,5,5],\"name\":\"HSpacer09649\",\"sizing_mode\":\"stretch_width\"},\"id\":\"4387\",\"type\":\"Spacer\"},{\"attributes\":{},\"id\":\"4431\",\"type\":\"BasicTickFormatter\"},{\"attributes\":{\"line_color\":\"#30a2da\",\"line_width\":2,\"x\":{\"field\":\"year\"},\"y\":{\"field\":\"average_house_value\"}},\"id\":\"4424\",\"type\":\"Line\"},{\"attributes\":{\"axis\":{\"id\":\"4400\"},\"coordinates\":null,\"grid_line_color\":null,\"group\":null,\"ticker\":null},\"id\":\"4403\",\"type\":\"Grid\"},{\"attributes\":{},\"id\":\"4412\",\"type\":\"ResetTool\"},{\"attributes\":{\"bottom_units\":\"screen\",\"coordinates\":null,\"fill_alpha\":0.5,\"fill_color\":\"lightgrey\",\"group\":null,\"left_units\":\"screen\",\"level\":\"overlay\",\"line_alpha\":1.0,\"line_color\":\"black\",\"line_dash\":[4,4],\"line_width\":2,\"right_units\":\"screen\",\"syncable\":false,\"top_units\":\"screen\"},\"id\":\"4413\",\"type\":\"BoxAnnotation\"},{\"attributes\":{},\"id\":\"4434\",\"type\":\"BasicTickFormatter\"},{\"attributes\":{},\"id\":\"4396\",\"type\":\"LinearScale\"},{\"attributes\":{\"children\":[{\"id\":\"4386\"}],\"css_classes\":[\"panel-widget-box\"],\"margin\":[5,5,5,5],\"name\":\"WidgetBox09644\"},\"id\":\"4385\",\"type\":\"Column\"},{\"attributes\":{\"axis_label\":\"year\",\"coordinates\":null,\"formatter\":{\"id\":\"4431\"},\"group\":null,\"major_label_policy\":{\"id\":\"4432\"},\"ticker\":{\"id\":\"4401\"}},\"id\":\"4400\",\"type\":\"LinearAxis\"},{\"attributes\":{},\"id\":\"4449\",\"type\":\"UnionRenderers\"},{\"attributes\":{},\"id\":\"4401\",\"type\":\"BasicTicker\"},{\"attributes\":{\"children\":[{\"id\":\"4385\"},{\"id\":\"4387\"}],\"margin\":[0,0,0,0],\"name\":\"Row09650\"},\"id\":\"4384\",\"type\":\"Row\"},{\"attributes\":{\"end\":2016.0,\"reset_end\":2016.0,\"reset_start\":2001.0,\"start\":2001.0,\"tags\":[[[\"year\",\"year\",null]]]},\"id\":\"4388\",\"type\":\"Range1d\"},{\"attributes\":{\"margin\":[20,20,20,20],\"min_width\":250,\"options\":[\"Agincourt North\",\"Agincourt South-Malvern West\",\"Alderwood\",\"Annex\",\"Banbury-Don Mills\",\"Bathurst Manor\",\"Bay Street Corridor\",\"Bayview Village\",\"Bayview Woods-Steeles\",\"Bedford Park-Nortown\",\"Beechborough-Greenbrook\",\"Bendale\",\"Birchcliffe-Cliffside\",\"Black Creek\",\"Blake-Jones\",\"Briar Hill-Belgravia\",\"Bridle Path-Sunnybrook-York Mills\",\"Broadview North\",\"Brookhaven-Amesbury\",\"Cabbagetown-South St.James Town\",\"Caledonia-Fairbank\",\"Casa Loma\",\"Centennial Scarborough\",\"Church-Yonge Corridor\",\"Clairlea-Birchmount\",\"Clanton Park\",\"Cliffcrest\",\"Corso Italia-Davenport\",\"Danforth\",\"Danforth-East York\",\"Don Valley Village\",\"Dorset Park\",\"Dovercourt-Wallace Emerson-Juncti\",\"Downsview-Roding-CFB\",\"Dufferin Grove\",\"East End-Danforth\",\"Edenbridge-Humber Valley\",\"Eglinton East\",\"Elms-Old Rexdale\",\"Englemount-Lawrence\",\"Eringate-Centennial-West Deane\",\"Etobicoke West Mall\",\"Flemingdon Park\",\"Forest Hill North\",\"Forest Hill South\",\"Glenfield-Jane Heights\",\"Greenwood-Coxwell\",\"Guildwood\",\"Henry Farm\",\"High Park North\",\"High Park-Swansea\",\"Highland Creek\",\"Hillcrest Village\",\"Humber Heights-Westmount\",\"Humber Summit\",\"Humbermede\",\"Humewood-Cedarvale\",\"Ionview\",\"Islington-City Centre West\",\"Junction Area\",\"Keelesdale-Eglinton West\",\"Kennedy Park\",\"Kensington-Chinatown\",\"Kingsview Village-The Westway\",\"Kingsway South\",\"L'Amoreaux\",\"Lambton Baby Point\",\"Lansing-Westgate\",\"Lawrence Park North\",\"Lawrence Park South\",\"Leaside-Bennington\",\"Little Portugal\",\"Long Branch\",\"Malvern\",\"Maple Leaf\",\"Markland Wood\",\"Milliken\",\"Mimico\",\"Morningside\",\"Moss Park\",\"Mount Dennis\",\"Mount Olive-Silverstone-Jamestown\",\"Mount Pleasant East\",\"Mount Pleasant West\",\"New Toronto\",\"Newtonbrook East\",\"Newtonbrook West\",\"Niagara\",\"North Riverdale\",\"North St.James Town\",\"O'Connor-Parkview\",\"Oakridge\",\"Oakwood Village\",\"Old East York\",\"Palmerston-Little Italy\",\"Parkwoods-Donalda\",\"Pelmo Park-Humberlea\",\"Playter Estates-Danforth\",\"Pleasant View\",\"Princess-Rosethorn\",\"Regent Park\",\"Rexdale-Kipling\",\"Rockcliffe-Smythe\",\"Roncesvalles\",\"Rosedale-Moore Park\",\"Rouge\",\"Runnymede-Bloor West Village\",\"Rustic\",\"Scarborough Village\",\"South Parkdale\",\"South Riverdale\",\"St.Andrew-Windfields\",\"Steeles\",\"Stonegate-Queensway\",\"Tam O'Shanter-Sullivan\",\"Taylor-Massey\",\"The Beaches\",\"Thistletown-Beaumond Heights\",\"Thorncliffe Park\",\"Trinity-Bellwoods\",\"University\",\"Victoria Village\",\"Waterfront Communities-The Island\",\"West Hill\",\"West Humber-Clairville\",\"Westminster-Branson\",\"Weston\",\"Weston-Pellam Park\",\"Wexford/Maryvale\",\"Willowdale East\",\"Willowdale West\",\"Willowridge-Martingrove-Richview\",\"Woburn\",\"Woodbine Corridor\",\"Woodbine-Lumsden\",\"Wychwood\",\"Yonge-Eglinton\",\"Yonge-St.Clair\",\"York University Heights\",\"Yorkdale-Glen Park\"],\"title\":\"neighbourhood\",\"value\":\"Agincourt North\",\"width\":250},\"id\":\"4386\",\"type\":\"Select\"},{\"attributes\":{\"data\":{\"average_house_value\":{\"__ndarray__\":\"AAAAACB2CEEAAAAAUOQRQQAAAAAsYRZBAAAAAKwEHEE=\",\"dtype\":\"float64\",\"order\":\"little\",\"shape\":[4]},\"year\":[2001,2006,2011,2016]},\"selected\":{\"id\":\"4422\"},\"selection_policy\":{\"id\":\"4449\"}},\"id\":\"4421\",\"type\":\"ColumnDataSource\"},{\"attributes\":{\"line_alpha\":0.2,\"line_color\":\"#30a2da\",\"line_width\":2,\"x\":{\"field\":\"year\"},\"y\":{\"field\":\"average_house_value\"}},\"id\":\"4426\",\"type\":\"Line\"}],\"root_ids\":[\"4383\",\"4522\"]},\"title\":\"Bokeh Application\",\"version\":\"2.4.1\"}};\n",
       "    var render_items = [{\"docid\":\"79d48016-5d4b-4712-820f-b9585a8a820c\",\"root_ids\":[\"4383\"],\"roots\":{\"4383\":\"099ac63b-3365-448e-b152-d390a94fca4e\"}}];\n",
       "    root.Bokeh.embed.embed_items_notebook(docs_json, render_items);\n",
       "  }\n",
       "  if (root.Bokeh !== undefined && root.Bokeh.Panel !== undefined && ( root['Plotly'] !== undefined)) {\n",
       "    embed_document(root);\n",
       "  } else {\n",
       "    var attempts = 0;\n",
       "    var timer = setInterval(function(root) {\n",
       "      if (root.Bokeh !== undefined && root.Bokeh.Panel !== undefined && (root['Plotly'] !== undefined)) {\n",
       "        clearInterval(timer);\n",
       "        embed_document(root);\n",
       "      } else if (document.readyState == \"complete\") {\n",
       "        attempts++;\n",
       "        if (attempts > 200) {\n",
       "          clearInterval(timer);\n",
       "          console.log(\"Bokeh: ERROR: Unable to run BokehJS code because BokehJS library is missing\");\n",
       "        }\n",
       "      }\n",
       "    }, 25, root)\n",
       "  }\n",
       "})(window);</script>"
      ],
      "text/plain": [
       "Column\n",
       "    [0] Row\n",
       "        [0] WidgetBox\n",
       "            [0] Select(margin=(20, 20, 20, 20), name='neighbourhood', options=['Agincourt North', ...], value='Agincourt North', width=250)\n",
       "        [1] HSpacer()\n",
       "    [1] HoloViews(DynamicMap, widget_location='top_left')"
      ]
     },
     "execution_count": 51,
     "metadata": {
      "application/vnd.holoviews_exec.v0+json": {
       "id": "4383"
      }
     },
     "output_type": "execute_result"
    }
   ],
   "source": [
    "# Use hvplot to create an interactive line chart of the average house value per neighbourhood\n",
    "# The plot should have a dropdown selector for the neighbourhood\n",
    "avg_home_value_per_neighbourhood.hvplot(kind=\"line\", x=\"year\", y=\"average_house_value\", width=500, \n",
    "                         groupby=\"neighbourhood\",widget_location=\"top_left\")"
   ]
  },
  {
   "cell_type": "markdown",
   "id": "d42745d2",
   "metadata": {},
   "source": [
    "## Number of Dwelling Types per Year\n",
    "\n",
    "In this section, you will use hvplot to create an interactive visualization of the average number of dwelling types per year with a dropdown selector for the neighbourhood."
   ]
  },
  {
   "cell_type": "code",
   "execution_count": 52,
   "id": "d1a06f6a",
   "metadata": {},
   "outputs": [],
   "source": [
    "# Fetch the data of all dwelling types per year\n",
    "to_data = pd.read_csv(file_path)\n",
    "to_data.head()\n",
    "#removing the average house value for better swelling visulization \n",
    "avg_dwelling_types = to_data.drop(columns=[\"average_house_value\"])"
   ]
  },
  {
   "cell_type": "code",
   "execution_count": 53,
   "id": "a911cc5c",
   "metadata": {},
   "outputs": [
    {
     "data": {},
     "metadata": {},
     "output_type": "display_data"
    },
    {
     "data": {},
     "metadata": {},
     "output_type": "display_data"
    },
    {
     "data": {
      "application/vnd.holoviews_exec.v0+json": "",
      "text/html": [
       "<div id='4573'>\n",
       "\n",
       "\n",
       "\n",
       "\n",
       "\n",
       "  <div class=\"bk-root\" id=\"5f07fb71-7774-46ff-b5d2-3b393b3fcd0d\" data-root-id=\"4573\"></div>\n",
       "</div>\n",
       "<script type=\"application/javascript\">(function(root) {\n",
       "  function embed_document(root) {\n",
       "    var docs_json = {\"ff6acbaa-6523-4866-bb70-58fba938952c\":{\"defs\":[{\"extends\":null,\"module\":null,\"name\":\"ReactiveHTML1\",\"overrides\":[],\"properties\":[]},{\"extends\":null,\"module\":null,\"name\":\"FlexBox1\",\"overrides\":[],\"properties\":[{\"default\":\"flex-start\",\"kind\":null,\"name\":\"align_content\"},{\"default\":\"flex-start\",\"kind\":null,\"name\":\"align_items\"},{\"default\":\"row\",\"kind\":null,\"name\":\"flex_direction\"},{\"default\":\"wrap\",\"kind\":null,\"name\":\"flex_wrap\"},{\"default\":\"flex-start\",\"kind\":null,\"name\":\"justify_content\"}]},{\"extends\":null,\"module\":null,\"name\":\"TemplateActions1\",\"overrides\":[],\"properties\":[{\"default\":0,\"kind\":null,\"name\":\"open_modal\"},{\"default\":0,\"kind\":null,\"name\":\"close_modal\"}]},{\"extends\":null,\"module\":null,\"name\":\"MaterialTemplateActions1\",\"overrides\":[],\"properties\":[{\"default\":0,\"kind\":null,\"name\":\"open_modal\"},{\"default\":0,\"kind\":null,\"name\":\"close_modal\"}]}],\"roots\":{\"references\":[{\"attributes\":{},\"id\":\"4588\",\"type\":\"LinearScale\"},{\"attributes\":{\"axis\":{\"id\":\"4593\"},\"coordinates\":null,\"dimension\":1,\"grid_line_color\":null,\"group\":null,\"ticker\":null},\"id\":\"4596\",\"type\":\"Grid\"},{\"attributes\":{},\"id\":\"4622\",\"type\":\"AllLabels\"},{\"attributes\":{\"axis\":{\"id\":\"4590\"},\"coordinates\":null,\"grid_line_color\":null,\"group\":null,\"ticker\":null},\"id\":\"4592\",\"type\":\"Grid\"},{\"attributes\":{\"margin\":[20,20,20,20],\"min_width\":250,\"options\":[\"Agincourt North\",\"Agincourt South-Malvern West\",\"Alderwood\",\"Annex\",\"Banbury-Don Mills\",\"Bathurst Manor\",\"Bay Street Corridor\",\"Bayview Village\",\"Bayview Woods-Steeles\",\"Bedford Park-Nortown\",\"Beechborough-Greenbrook\",\"Bendale\",\"Birchcliffe-Cliffside\",\"Black Creek\",\"Blake-Jones\",\"Briar Hill-Belgravia\",\"Bridle Path-Sunnybrook-York Mills\",\"Broadview North\",\"Brookhaven-Amesbury\",\"Cabbagetown-South St.James Town\",\"Caledonia-Fairbank\",\"Casa Loma\",\"Centennial Scarborough\",\"Church-Yonge Corridor\",\"Clairlea-Birchmount\",\"Clanton Park\",\"Cliffcrest\",\"Corso Italia-Davenport\",\"Danforth\",\"Danforth-East York\",\"Don Valley Village\",\"Dorset Park\",\"Dovercourt-Wallace Emerson-Juncti\",\"Downsview-Roding-CFB\",\"Dufferin Grove\",\"East End-Danforth\",\"Edenbridge-Humber Valley\",\"Eglinton East\",\"Elms-Old Rexdale\",\"Englemount-Lawrence\",\"Eringate-Centennial-West Deane\",\"Etobicoke West Mall\",\"Flemingdon Park\",\"Forest Hill North\",\"Forest Hill South\",\"Glenfield-Jane Heights\",\"Greenwood-Coxwell\",\"Guildwood\",\"Henry Farm\",\"High Park North\",\"High Park-Swansea\",\"Highland Creek\",\"Hillcrest Village\",\"Humber Heights-Westmount\",\"Humber Summit\",\"Humbermede\",\"Humewood-Cedarvale\",\"Ionview\",\"Islington-City Centre West\",\"Junction Area\",\"Keelesdale-Eglinton West\",\"Kennedy Park\",\"Kensington-Chinatown\",\"Kingsview Village-The Westway\",\"Kingsway South\",\"L'Amoreaux\",\"Lambton Baby Point\",\"Lansing-Westgate\",\"Lawrence Park North\",\"Lawrence Park South\",\"Leaside-Bennington\",\"Little Portugal\",\"Long Branch\",\"Malvern\",\"Maple Leaf\",\"Markland Wood\",\"Milliken\",\"Mimico\",\"Morningside\",\"Moss Park\",\"Mount Dennis\",\"Mount Olive-Silverstone-Jamestown\",\"Mount Pleasant East\",\"Mount Pleasant West\",\"New Toronto\",\"Newtonbrook East\",\"Newtonbrook West\",\"Niagara\",\"North Riverdale\",\"North St.James Town\",\"O'Connor-Parkview\",\"Oakridge\",\"Oakwood Village\",\"Old East York\",\"Palmerston-Little Italy\",\"Parkwoods-Donalda\",\"Pelmo Park-Humberlea\",\"Playter Estates-Danforth\",\"Pleasant View\",\"Princess-Rosethorn\",\"Regent Park\",\"Rexdale-Kipling\",\"Rockcliffe-Smythe\",\"Roncesvalles\",\"Rosedale-Moore Park\",\"Rouge\",\"Runnymede-Bloor West Village\",\"Rustic\",\"Scarborough Village\",\"South Parkdale\",\"South Riverdale\",\"St.Andrew-Windfields\",\"Steeles\",\"Stonegate-Queensway\",\"Tam O'Shanter-Sullivan\",\"Taylor-Massey\",\"The Beaches\",\"Thistletown-Beaumond Heights\",\"Thorncliffe Park\",\"Trinity-Bellwoods\",\"University\",\"Victoria Village\",\"Waterfront Communities-The Island\",\"West Hill\",\"West Humber-Clairville\",\"Westminster-Branson\",\"Weston\",\"Weston-Pellam Park\",\"Wexford/Maryvale\",\"Willowdale East\",\"Willowdale West\",\"Willowridge-Martingrove-Richview\",\"Woburn\",\"Woodbine Corridor\",\"Woodbine-Lumsden\",\"Wychwood\",\"Yonge-Eglinton\",\"Yonge-St.Clair\",\"York University Heights\",\"Yorkdale-Glen Park\"],\"title\":\"neighbourhood\",\"value\":\"Agincourt North\",\"width\":250},\"id\":\"4576\",\"type\":\"Select\"},{\"attributes\":{\"fill_color\":{\"field\":\"Variable\",\"transform\":{\"id\":\"4610\"}},\"hatch_color\":{\"field\":\"Variable\",\"transform\":{\"id\":\"4610\"}},\"top\":{\"field\":\"value\"},\"width\":{\"value\":0.8},\"x\":{\"field\":\"xoffsets\"}},\"id\":\"4614\",\"type\":\"VBar\"},{\"attributes\":{},\"id\":\"4594\",\"type\":\"BasicTicker\"},{\"attributes\":{},\"id\":\"4624\",\"type\":\"BasicTickFormatter\"},{\"attributes\":{\"axis_label\":\"dwelling type units\",\"coordinates\":null,\"formatter\":{\"id\":\"4624\"},\"group\":null,\"major_label_policy\":{\"id\":\"4625\"},\"ticker\":{\"id\":\"4594\"}},\"id\":\"4593\",\"type\":\"LinearAxis\"},{\"attributes\":{\"children\":[{\"id\":\"4574\"},{\"id\":\"4581\"}],\"margin\":[0,0,0,0],\"name\":\"Column09913\"},\"id\":\"4573\",\"type\":\"Column\"},{\"attributes\":{\"factors\":[[\"2001\",\"shelter_costs_rented\"],[\"2001\",\"shelter_costs_owned\"],[\"2001\",\"other_house\"],[\"2001\",\"apartment_five_storeys_less\"],[\"2001\",\"duplex\"],[\"2001\",\"row_house\"],[\"2001\",\"semi_detached_house\"],[\"2001\",\"movable_dwelling\"],[\"2001\",\"apartment_five_storeys_plus\"],[\"2001\",\"single_detached_house\"],[\"2006\",\"shelter_costs_rented\"],[\"2006\",\"shelter_costs_owned\"],[\"2006\",\"other_house\"],[\"2006\",\"apartment_five_storeys_less\"],[\"2006\",\"duplex\"],[\"2006\",\"row_house\"],[\"2006\",\"semi_detached_house\"],[\"2006\",\"movable_dwelling\"],[\"2006\",\"apartment_five_storeys_plus\"],[\"2006\",\"single_detached_house\"],[\"2011\",\"shelter_costs_rented\"],[\"2011\",\"shelter_costs_owned\"],[\"2011\",\"other_house\"],[\"2011\",\"apartment_five_storeys_less\"],[\"2011\",\"duplex\"],[\"2011\",\"row_house\"],[\"2011\",\"semi_detached_house\"],[\"2011\",\"movable_dwelling\"],[\"2011\",\"apartment_five_storeys_plus\"],[\"2011\",\"single_detached_house\"],[\"2016\",\"shelter_costs_rented\"],[\"2016\",\"shelter_costs_owned\"],[\"2016\",\"other_house\"],[\"2016\",\"apartment_five_storeys_less\"],[\"2016\",\"duplex\"],[\"2016\",\"row_house\"],[\"2016\",\"semi_detached_house\"],[\"2016\",\"movable_dwelling\"],[\"2016\",\"apartment_five_storeys_plus\"],[\"2016\",\"single_detached_house\"]],\"tags\":[[[\"year\",\"year\",null],[\"Variable\",\"Variable\",null]]]},\"id\":\"4578\",\"type\":\"FactorRange\"},{\"attributes\":{\"children\":[{\"id\":\"4576\"}],\"css_classes\":[\"panel-widget-box\"],\"margin\":[5,5,5,5],\"name\":\"WidgetBox09906\"},\"id\":\"4575\",\"type\":\"Column\"},{\"attributes\":{\"callback\":null,\"renderers\":[{\"id\":\"4617\"}],\"tags\":[\"hv_created\"],\"tooltips\":[[\"year\",\"@{year}\"],[\"Variable\",\"@{Variable}\"],[\"value\",\"@{value}\"]]},\"id\":\"4580\",\"type\":\"HoverTool\"},{\"attributes\":{},\"id\":\"4621\",\"type\":\"CategoricalTickFormatter\"},{\"attributes\":{\"children\":[{\"id\":\"4575\"},{\"id\":\"4577\"}],\"margin\":[0,0,0,0],\"name\":\"Row09912\"},\"id\":\"4574\",\"type\":\"Row\"},{\"attributes\":{},\"id\":\"4639\",\"type\":\"UnionRenderers\"},{\"attributes\":{\"factors\":[\"single_detached_house\",\"apartment_five_storeys_plus\",\"movable_dwelling\",\"semi_detached_house\",\"row_house\",\"duplex\",\"apartment_five_storeys_less\",\"other_house\",\"shelter_costs_owned\",\"shelter_costs_rented\"],\"palette\":[\"#30a2da\",\"#fc4f30\",\"#e5ae38\",\"#6d904f\",\"#8b8b8b\",\"#17becf\",\"#9467bd\",\"#d62728\",\"#1f77b4\",\"#e377c2\"]},\"id\":\"4610\",\"type\":\"CategoricalColorMapper\"},{\"attributes\":{\"client_comm_id\":\"9f2c315390c040589dd1488ca2708a8f\",\"comm_id\":\"504a343422494b78a3a3735989d434d6\",\"plot_id\":\"4573\"},\"id\":\"4712\",\"type\":\"panel.models.comm_manager.CommManager\"},{\"attributes\":{\"fill_alpha\":{\"value\":0.2},\"fill_color\":{\"field\":\"Variable\",\"transform\":{\"id\":\"4610\"}},\"hatch_alpha\":{\"value\":0.2},\"hatch_color\":{\"field\":\"Variable\",\"transform\":{\"id\":\"4610\"}},\"line_alpha\":{\"value\":0.2},\"top\":{\"field\":\"value\"},\"width\":{\"value\":0.8},\"x\":{\"field\":\"xoffsets\"}},\"id\":\"4616\",\"type\":\"VBar\"},{\"attributes\":{},\"id\":\"4597\",\"type\":\"SaveTool\"},{\"attributes\":{\"coordinates\":null,\"group\":null,\"text\":\"neighbourhood: Agincourt North\",\"text_color\":\"black\",\"text_font_size\":\"12pt\"},\"id\":\"4582\",\"type\":\"Title\"},{\"attributes\":{},\"id\":\"4591\",\"type\":\"CategoricalTicker\"},{\"attributes\":{},\"id\":\"4598\",\"type\":\"PanTool\"},{\"attributes\":{\"fill_alpha\":{\"value\":0.1},\"fill_color\":{\"field\":\"Variable\",\"transform\":{\"id\":\"4610\"}},\"hatch_alpha\":{\"value\":0.1},\"hatch_color\":{\"field\":\"Variable\",\"transform\":{\"id\":\"4610\"}},\"line_alpha\":{\"value\":0.1},\"top\":{\"field\":\"value\"},\"width\":{\"value\":0.8},\"x\":{\"field\":\"xoffsets\"}},\"id\":\"4615\",\"type\":\"VBar\"},{\"attributes\":{\"margin\":[5,5,5,5],\"name\":\"HSpacer09911\",\"sizing_mode\":\"stretch_width\"},\"id\":\"4577\",\"type\":\"Spacer\"},{\"attributes\":{},\"id\":\"4599\",\"type\":\"WheelZoomTool\"},{\"attributes\":{\"below\":[{\"id\":\"4590\"}],\"center\":[{\"id\":\"4592\"},{\"id\":\"4596\"}],\"height\":400,\"left\":[{\"id\":\"4593\"}],\"margin\":[5,5,5,5],\"min_border_bottom\":10,\"min_border_left\":10,\"min_border_right\":10,\"min_border_top\":10,\"renderers\":[{\"id\":\"4617\"}],\"sizing_mode\":\"fixed\",\"title\":{\"id\":\"4582\"},\"toolbar\":{\"id\":\"4603\"},\"x_range\":{\"id\":\"4578\"},\"x_scale\":{\"id\":\"4586\"},\"y_range\":{\"id\":\"4579\"},\"y_scale\":{\"id\":\"4588\"}},\"id\":\"4581\",\"subtype\":\"Figure\",\"type\":\"Plot\"},{\"attributes\":{\"tools\":[{\"id\":\"4580\"},{\"id\":\"4597\"},{\"id\":\"4598\"},{\"id\":\"4599\"},{\"id\":\"4600\"},{\"id\":\"4601\"}]},\"id\":\"4603\",\"type\":\"Toolbar\"},{\"attributes\":{\"overlay\":{\"id\":\"4602\"}},\"id\":\"4600\",\"type\":\"BoxZoomTool\"},{\"attributes\":{},\"id\":\"4612\",\"type\":\"Selection\"},{\"attributes\":{},\"id\":\"4586\",\"type\":\"CategoricalScale\"},{\"attributes\":{\"source\":{\"id\":\"4611\"}},\"id\":\"4618\",\"type\":\"CDSView\"},{\"attributes\":{\"bottom\":{\"value\":0},\"fill_alpha\":{\"value\":1.0},\"fill_color\":{\"field\":\"Variable\",\"transform\":{\"id\":\"4610\"}},\"hatch_alpha\":{\"value\":1.0},\"hatch_color\":{\"field\":\"Variable\",\"transform\":{\"id\":\"4610\"}},\"hatch_scale\":{\"value\":12.0},\"hatch_weight\":{\"value\":1.0},\"line_alpha\":{\"value\":1.0},\"line_cap\":{\"value\":\"butt\"},\"line_color\":{\"value\":\"black\"},\"line_dash\":{\"value\":[]},\"line_dash_offset\":{\"value\":0},\"line_join\":{\"value\":\"bevel\"},\"line_width\":{\"value\":1},\"top\":{\"field\":\"value\"},\"width\":{\"value\":0.8},\"x\":{\"field\":\"xoffsets\"}},\"id\":\"4619\",\"type\":\"VBar\"},{\"attributes\":{},\"id\":\"4601\",\"type\":\"ResetTool\"},{\"attributes\":{},\"id\":\"4625\",\"type\":\"AllLabels\"},{\"attributes\":{\"end\":4086.5,\"reset_end\":4086.5,\"reset_start\":0.0,\"tags\":[[[\"value\",\"value\",null]]]},\"id\":\"4579\",\"type\":\"Range1d\"},{\"attributes\":{\"axis_label\":\"year\",\"coordinates\":null,\"formatter\":{\"id\":\"4621\"},\"group\":null,\"major_label_orientation\":1.5707963267948966,\"major_label_policy\":{\"id\":\"4622\"},\"ticker\":{\"id\":\"4591\"}},\"id\":\"4590\",\"type\":\"CategoricalAxis\"},{\"attributes\":{\"bottom_units\":\"screen\",\"coordinates\":null,\"fill_alpha\":0.5,\"fill_color\":\"lightgrey\",\"group\":null,\"left_units\":\"screen\",\"level\":\"overlay\",\"line_alpha\":1.0,\"line_color\":\"black\",\"line_dash\":[4,4],\"line_width\":2,\"right_units\":\"screen\",\"syncable\":false,\"top_units\":\"screen\"},\"id\":\"4602\",\"type\":\"BoxAnnotation\"},{\"attributes\":{\"data\":{\"Variable\":[\"single_detached_house\",\"single_detached_house\",\"single_detached_house\",\"single_detached_house\",\"apartment_five_storeys_plus\",\"apartment_five_storeys_plus\",\"apartment_five_storeys_plus\",\"apartment_five_storeys_plus\",\"movable_dwelling\",\"movable_dwelling\",\"movable_dwelling\",\"movable_dwelling\",\"semi_detached_house\",\"semi_detached_house\",\"semi_detached_house\",\"semi_detached_house\",\"row_house\",\"row_house\",\"row_house\",\"row_house\",\"duplex\",\"duplex\",\"duplex\",\"duplex\",\"apartment_five_storeys_less\",\"apartment_five_storeys_less\",\"apartment_five_storeys_less\",\"apartment_five_storeys_less\",\"other_house\",\"other_house\",\"other_house\",\"other_house\",\"shelter_costs_owned\",\"shelter_costs_owned\",\"shelter_costs_owned\",\"shelter_costs_owned\",\"shelter_costs_rented\",\"shelter_costs_rented\",\"shelter_costs_rented\",\"shelter_costs_rented\"],\"value\":[3715,3295,3385,3345,1480,2060,2130,2120,0,0,5,5,1055,775,820,805,1295,1425,1465,1440,195,600,610,645,185,565,705,735,5,0,20,15,810,1055,1160,1411,870,886,976,1202],\"xoffsets\":[[\"2001\",\"single_detached_house\"],[\"2006\",\"single_detached_house\"],[\"2011\",\"single_detached_house\"],[\"2016\",\"single_detached_house\"],[\"2001\",\"apartment_five_storeys_plus\"],[\"2006\",\"apartment_five_storeys_plus\"],[\"2011\",\"apartment_five_storeys_plus\"],[\"2016\",\"apartment_five_storeys_plus\"],[\"2001\",\"movable_dwelling\"],[\"2006\",\"movable_dwelling\"],[\"2011\",\"movable_dwelling\"],[\"2016\",\"movable_dwelling\"],[\"2001\",\"semi_detached_house\"],[\"2006\",\"semi_detached_house\"],[\"2011\",\"semi_detached_house\"],[\"2016\",\"semi_detached_house\"],[\"2001\",\"row_house\"],[\"2006\",\"row_house\"],[\"2011\",\"row_house\"],[\"2016\",\"row_house\"],[\"2001\",\"duplex\"],[\"2006\",\"duplex\"],[\"2011\",\"duplex\"],[\"2016\",\"duplex\"],[\"2001\",\"apartment_five_storeys_less\"],[\"2006\",\"apartment_five_storeys_less\"],[\"2011\",\"apartment_five_storeys_less\"],[\"2016\",\"apartment_five_storeys_less\"],[\"2001\",\"other_house\"],[\"2006\",\"other_house\"],[\"2011\",\"other_house\"],[\"2016\",\"other_house\"],[\"2001\",\"shelter_costs_owned\"],[\"2006\",\"shelter_costs_owned\"],[\"2011\",\"shelter_costs_owned\"],[\"2016\",\"shelter_costs_owned\"],[\"2001\",\"shelter_costs_rented\"],[\"2006\",\"shelter_costs_rented\"],[\"2011\",\"shelter_costs_rented\"],[\"2016\",\"shelter_costs_rented\"]],\"year\":[\"2001\",\"2006\",\"2011\",\"2016\",\"2001\",\"2006\",\"2011\",\"2016\",\"2001\",\"2006\",\"2011\",\"2016\",\"2001\",\"2006\",\"2011\",\"2016\",\"2001\",\"2006\",\"2011\",\"2016\",\"2001\",\"2006\",\"2011\",\"2016\",\"2001\",\"2006\",\"2011\",\"2016\",\"2001\",\"2006\",\"2011\",\"2016\",\"2001\",\"2006\",\"2011\",\"2016\",\"2001\",\"2006\",\"2011\",\"2016\"]},\"selected\":{\"id\":\"4612\"},\"selection_policy\":{\"id\":\"4639\"}},\"id\":\"4611\",\"type\":\"ColumnDataSource\"},{\"attributes\":{\"coordinates\":null,\"data_source\":{\"id\":\"4611\"},\"glyph\":{\"id\":\"4614\"},\"group\":null,\"hover_glyph\":null,\"muted_glyph\":{\"id\":\"4616\"},\"nonselection_glyph\":{\"id\":\"4615\"},\"selection_glyph\":{\"id\":\"4619\"},\"view\":{\"id\":\"4618\"}},\"id\":\"4617\",\"type\":\"GlyphRenderer\"}],\"root_ids\":[\"4573\",\"4712\"]},\"title\":\"Bokeh Application\",\"version\":\"2.4.1\"}};\n",
       "    var render_items = [{\"docid\":\"ff6acbaa-6523-4866-bb70-58fba938952c\",\"root_ids\":[\"4573\"],\"roots\":{\"4573\":\"5f07fb71-7774-46ff-b5d2-3b393b3fcd0d\"}}];\n",
       "    root.Bokeh.embed.embed_items_notebook(docs_json, render_items);\n",
       "  }\n",
       "  if (root.Bokeh !== undefined && root.Bokeh.Panel !== undefined && ( root['Plotly'] !== undefined)) {\n",
       "    embed_document(root);\n",
       "  } else {\n",
       "    var attempts = 0;\n",
       "    var timer = setInterval(function(root) {\n",
       "      if (root.Bokeh !== undefined && root.Bokeh.Panel !== undefined && (root['Plotly'] !== undefined)) {\n",
       "        clearInterval(timer);\n",
       "        embed_document(root);\n",
       "      } else if (document.readyState == \"complete\") {\n",
       "        attempts++;\n",
       "        if (attempts > 200) {\n",
       "          clearInterval(timer);\n",
       "          console.log(\"Bokeh: ERROR: Unable to run BokehJS code because BokehJS library is missing\");\n",
       "        }\n",
       "      }\n",
       "    }, 25, root)\n",
       "  }\n",
       "})(window);</script>"
      ],
      "text/plain": [
       "Column\n",
       "    [0] Row\n",
       "        [0] WidgetBox\n",
       "            [0] Select(margin=(20, 20, 20, 20), name='neighbourhood', options=['Agincourt North', ...], value='Agincourt North', width=250)\n",
       "        [1] HSpacer()\n",
       "    [1] HoloViews(DynamicMap, widget_location='top_left')"
      ]
     },
     "execution_count": 53,
     "metadata": {
      "application/vnd.holoviews_exec.v0+json": {
       "id": "4573"
      }
     },
     "output_type": "execute_result"
    }
   ],
   "source": [
    "# Use hvplot to create an interactive bar chart of the number of dwelling types per neighbourhood\n",
    "# The plot should have a dropdown selector for the neighbourhood\n",
    "avg_dwelling_types.hvplot(kind=\"bar\", x='year', rot=90 , xlabel=\"year\",ylabel=\"dwelling type units\",groupby=\"neighbourhood\",widget_location=\"top_left\",width=600,height=400)"
   ]
  },
  {
   "cell_type": "markdown",
   "id": "013c2aed",
   "metadata": {},
   "source": [
    "## The Top 10 Most Expensive Neighbourhoods\n",
    "\n",
    "In this section, you will need to calculate the house value for each neighbourhood and then sort the values to obtain the top 10 most expensive neighbourhoods on average. Plot the results as a bar chart."
   ]
  },
  {
   "cell_type": "code",
   "execution_count": 54,
   "id": "4b0fe5d0",
   "metadata": {},
   "outputs": [
    {
     "data": {
      "text/html": [
       "<div>\n",
       "<style scoped>\n",
       "    .dataframe tbody tr th:only-of-type {\n",
       "        vertical-align: middle;\n",
       "    }\n",
       "\n",
       "    .dataframe tbody tr th {\n",
       "        vertical-align: top;\n",
       "    }\n",
       "\n",
       "    .dataframe thead th {\n",
       "        text-align: right;\n",
       "    }\n",
       "</style>\n",
       "<table border=\"1\" class=\"dataframe\">\n",
       "  <thead>\n",
       "    <tr style=\"text-align: right;\">\n",
       "      <th></th>\n",
       "      <th>single_detached_house</th>\n",
       "      <th>apartment_five_storeys_plus</th>\n",
       "      <th>movable_dwelling</th>\n",
       "      <th>semi_detached_house</th>\n",
       "      <th>row_house</th>\n",
       "      <th>duplex</th>\n",
       "      <th>apartment_five_storeys_less</th>\n",
       "      <th>other_house</th>\n",
       "      <th>average_house_value</th>\n",
       "      <th>shelter_costs_owned</th>\n",
       "      <th>shelter_costs_rented</th>\n",
       "    </tr>\n",
       "    <tr>\n",
       "      <th>neighbourhood</th>\n",
       "      <th></th>\n",
       "      <th></th>\n",
       "      <th></th>\n",
       "      <th></th>\n",
       "      <th></th>\n",
       "      <th></th>\n",
       "      <th></th>\n",
       "      <th></th>\n",
       "      <th></th>\n",
       "      <th></th>\n",
       "      <th></th>\n",
       "    </tr>\n",
       "  </thead>\n",
       "  <tbody>\n",
       "    <tr>\n",
       "      <th>Bridle Path-Sunnybrook-York Mills</th>\n",
       "      <td>2260.00</td>\n",
       "      <td>331.25</td>\n",
       "      <td>0.00</td>\n",
       "      <td>36.25</td>\n",
       "      <td>90.00</td>\n",
       "      <td>25.0</td>\n",
       "      <td>40.00</td>\n",
       "      <td>0.00</td>\n",
       "      <td>1526485.75</td>\n",
       "      <td>2360.75</td>\n",
       "      <td>2321.75</td>\n",
       "    </tr>\n",
       "    <tr>\n",
       "      <th>Forest Hill South</th>\n",
       "      <td>1742.50</td>\n",
       "      <td>2031.25</td>\n",
       "      <td>1.25</td>\n",
       "      <td>61.25</td>\n",
       "      <td>45.00</td>\n",
       "      <td>75.0</td>\n",
       "      <td>1027.50</td>\n",
       "      <td>3.75</td>\n",
       "      <td>1195992.50</td>\n",
       "      <td>1781.00</td>\n",
       "      <td>1313.75</td>\n",
       "    </tr>\n",
       "    <tr>\n",
       "      <th>Lawrence Park South</th>\n",
       "      <td>3472.50</td>\n",
       "      <td>773.75</td>\n",
       "      <td>0.00</td>\n",
       "      <td>126.25</td>\n",
       "      <td>38.75</td>\n",
       "      <td>225.0</td>\n",
       "      <td>966.25</td>\n",
       "      <td>16.25</td>\n",
       "      <td>1094027.75</td>\n",
       "      <td>1954.00</td>\n",
       "      <td>1372.75</td>\n",
       "    </tr>\n",
       "    <tr>\n",
       "      <th>Rosedale-Moore Park</th>\n",
       "      <td>2498.75</td>\n",
       "      <td>4641.25</td>\n",
       "      <td>0.00</td>\n",
       "      <td>486.25</td>\n",
       "      <td>245.00</td>\n",
       "      <td>327.5</td>\n",
       "      <td>1618.75</td>\n",
       "      <td>2.50</td>\n",
       "      <td>1093640.00</td>\n",
       "      <td>1909.75</td>\n",
       "      <td>1537.25</td>\n",
       "    </tr>\n",
       "    <tr>\n",
       "      <th>St.Andrew-Windfields</th>\n",
       "      <td>3225.00</td>\n",
       "      <td>1670.00</td>\n",
       "      <td>0.00</td>\n",
       "      <td>185.00</td>\n",
       "      <td>552.50</td>\n",
       "      <td>97.5</td>\n",
       "      <td>586.25</td>\n",
       "      <td>5.00</td>\n",
       "      <td>999107.00</td>\n",
       "      <td>1880.25</td>\n",
       "      <td>1384.50</td>\n",
       "    </tr>\n",
       "    <tr>\n",
       "      <th>Casa Loma</th>\n",
       "      <td>916.25</td>\n",
       "      <td>2310.00</td>\n",
       "      <td>0.00</td>\n",
       "      <td>288.75</td>\n",
       "      <td>201.25</td>\n",
       "      <td>162.5</td>\n",
       "      <td>1192.50</td>\n",
       "      <td>2.50</td>\n",
       "      <td>981064.25</td>\n",
       "      <td>1873.75</td>\n",
       "      <td>1547.75</td>\n",
       "    </tr>\n",
       "    <tr>\n",
       "      <th>Bedford Park-Nortown</th>\n",
       "      <td>4865.00</td>\n",
       "      <td>1981.25</td>\n",
       "      <td>0.00</td>\n",
       "      <td>43.75</td>\n",
       "      <td>57.50</td>\n",
       "      <td>287.5</td>\n",
       "      <td>1275.00</td>\n",
       "      <td>88.75</td>\n",
       "      <td>930415.25</td>\n",
       "      <td>1786.75</td>\n",
       "      <td>1255.00</td>\n",
       "    </tr>\n",
       "    <tr>\n",
       "      <th>Forest Hill North</th>\n",
       "      <td>1488.75</td>\n",
       "      <td>3392.50</td>\n",
       "      <td>0.00</td>\n",
       "      <td>12.50</td>\n",
       "      <td>16.25</td>\n",
       "      <td>82.5</td>\n",
       "      <td>402.50</td>\n",
       "      <td>1.25</td>\n",
       "      <td>851680.50</td>\n",
       "      <td>1722.75</td>\n",
       "      <td>1245.50</td>\n",
       "    </tr>\n",
       "    <tr>\n",
       "      <th>Kingsway South</th>\n",
       "      <td>2326.25</td>\n",
       "      <td>576.25</td>\n",
       "      <td>0.00</td>\n",
       "      <td>66.25</td>\n",
       "      <td>48.75</td>\n",
       "      <td>20.0</td>\n",
       "      <td>336.25</td>\n",
       "      <td>2.50</td>\n",
       "      <td>843234.25</td>\n",
       "      <td>1736.75</td>\n",
       "      <td>1622.00</td>\n",
       "    </tr>\n",
       "    <tr>\n",
       "      <th>Yonge-St.Clair</th>\n",
       "      <td>565.00</td>\n",
       "      <td>3948.75</td>\n",
       "      <td>0.00</td>\n",
       "      <td>425.00</td>\n",
       "      <td>212.50</td>\n",
       "      <td>172.5</td>\n",
       "      <td>1308.75</td>\n",
       "      <td>6.25</td>\n",
       "      <td>813220.25</td>\n",
       "      <td>1680.75</td>\n",
       "      <td>1369.00</td>\n",
       "    </tr>\n",
       "  </tbody>\n",
       "</table>\n",
       "</div>"
      ],
      "text/plain": [
       "                                   single_detached_house  \\\n",
       "neighbourhood                                              \n",
       "Bridle Path-Sunnybrook-York Mills                2260.00   \n",
       "Forest Hill South                                1742.50   \n",
       "Lawrence Park South                              3472.50   \n",
       "Rosedale-Moore Park                              2498.75   \n",
       "St.Andrew-Windfields                             3225.00   \n",
       "Casa Loma                                         916.25   \n",
       "Bedford Park-Nortown                             4865.00   \n",
       "Forest Hill North                                1488.75   \n",
       "Kingsway South                                   2326.25   \n",
       "Yonge-St.Clair                                    565.00   \n",
       "\n",
       "                                   apartment_five_storeys_plus  \\\n",
       "neighbourhood                                                    \n",
       "Bridle Path-Sunnybrook-York Mills                       331.25   \n",
       "Forest Hill South                                      2031.25   \n",
       "Lawrence Park South                                     773.75   \n",
       "Rosedale-Moore Park                                    4641.25   \n",
       "St.Andrew-Windfields                                   1670.00   \n",
       "Casa Loma                                              2310.00   \n",
       "Bedford Park-Nortown                                   1981.25   \n",
       "Forest Hill North                                      3392.50   \n",
       "Kingsway South                                          576.25   \n",
       "Yonge-St.Clair                                         3948.75   \n",
       "\n",
       "                                   movable_dwelling  semi_detached_house  \\\n",
       "neighbourhood                                                              \n",
       "Bridle Path-Sunnybrook-York Mills              0.00                36.25   \n",
       "Forest Hill South                              1.25                61.25   \n",
       "Lawrence Park South                            0.00               126.25   \n",
       "Rosedale-Moore Park                            0.00               486.25   \n",
       "St.Andrew-Windfields                           0.00               185.00   \n",
       "Casa Loma                                      0.00               288.75   \n",
       "Bedford Park-Nortown                           0.00                43.75   \n",
       "Forest Hill North                              0.00                12.50   \n",
       "Kingsway South                                 0.00                66.25   \n",
       "Yonge-St.Clair                                 0.00               425.00   \n",
       "\n",
       "                                   row_house  duplex  \\\n",
       "neighbourhood                                          \n",
       "Bridle Path-Sunnybrook-York Mills      90.00    25.0   \n",
       "Forest Hill South                      45.00    75.0   \n",
       "Lawrence Park South                    38.75   225.0   \n",
       "Rosedale-Moore Park                   245.00   327.5   \n",
       "St.Andrew-Windfields                  552.50    97.5   \n",
       "Casa Loma                             201.25   162.5   \n",
       "Bedford Park-Nortown                   57.50   287.5   \n",
       "Forest Hill North                      16.25    82.5   \n",
       "Kingsway South                         48.75    20.0   \n",
       "Yonge-St.Clair                        212.50   172.5   \n",
       "\n",
       "                                   apartment_five_storeys_less  other_house  \\\n",
       "neighbourhood                                                                 \n",
       "Bridle Path-Sunnybrook-York Mills                        40.00         0.00   \n",
       "Forest Hill South                                      1027.50         3.75   \n",
       "Lawrence Park South                                     966.25        16.25   \n",
       "Rosedale-Moore Park                                    1618.75         2.50   \n",
       "St.Andrew-Windfields                                    586.25         5.00   \n",
       "Casa Loma                                              1192.50         2.50   \n",
       "Bedford Park-Nortown                                   1275.00        88.75   \n",
       "Forest Hill North                                       402.50         1.25   \n",
       "Kingsway South                                          336.25         2.50   \n",
       "Yonge-St.Clair                                         1308.75         6.25   \n",
       "\n",
       "                                   average_house_value  shelter_costs_owned  \\\n",
       "neighbourhood                                                                 \n",
       "Bridle Path-Sunnybrook-York Mills           1526485.75              2360.75   \n",
       "Forest Hill South                           1195992.50              1781.00   \n",
       "Lawrence Park South                         1094027.75              1954.00   \n",
       "Rosedale-Moore Park                         1093640.00              1909.75   \n",
       "St.Andrew-Windfields                         999107.00              1880.25   \n",
       "Casa Loma                                    981064.25              1873.75   \n",
       "Bedford Park-Nortown                         930415.25              1786.75   \n",
       "Forest Hill North                            851680.50              1722.75   \n",
       "Kingsway South                               843234.25              1736.75   \n",
       "Yonge-St.Clair                               813220.25              1680.75   \n",
       "\n",
       "                                   shelter_costs_rented  \n",
       "neighbourhood                                            \n",
       "Bridle Path-Sunnybrook-York Mills               2321.75  \n",
       "Forest Hill South                               1313.75  \n",
       "Lawrence Park South                             1372.75  \n",
       "Rosedale-Moore Park                             1537.25  \n",
       "St.Andrew-Windfields                            1384.50  \n",
       "Casa Loma                                       1547.75  \n",
       "Bedford Park-Nortown                            1255.00  \n",
       "Forest Hill North                               1245.50  \n",
       "Kingsway South                                  1622.00  \n",
       "Yonge-St.Clair                                  1369.00  "
      ]
     },
     "execution_count": 54,
     "metadata": {},
     "output_type": "execute_result"
    }
   ],
   "source": [
    "# Getting the data from the top 10 expensive neighbourhoods\n",
    "to_top_10neighbourhoods=to_data.drop(columns=[\"year\"]).groupby(by=[\"neighbourhood\"]).mean().nlargest(10,\"average_house_value\")\n",
    "to_top_10neighbourhoods.head(10)"
   ]
  },
  {
   "cell_type": "code",
   "execution_count": 55,
   "id": "d156d2cd",
   "metadata": {},
   "outputs": [
    {
     "data": {},
     "metadata": {},
     "output_type": "display_data"
    },
    {
     "data": {
      "application/vnd.holoviews_exec.v0+json": "",
      "text/html": [
       "<div id='4763'>\n",
       "\n",
       "\n",
       "\n",
       "\n",
       "\n",
       "  <div class=\"bk-root\" id=\"ab40207c-4ebf-41e7-b207-643e9f3ca3ef\" data-root-id=\"4763\"></div>\n",
       "</div>\n",
       "<script type=\"application/javascript\">(function(root) {\n",
       "  function embed_document(root) {\n",
       "    var docs_json = {\"db3fcbbc-c7b2-4727-b2d8-2c8d04fe3b4e\":{\"defs\":[{\"extends\":null,\"module\":null,\"name\":\"ReactiveHTML1\",\"overrides\":[],\"properties\":[]},{\"extends\":null,\"module\":null,\"name\":\"FlexBox1\",\"overrides\":[],\"properties\":[{\"default\":\"flex-start\",\"kind\":null,\"name\":\"align_content\"},{\"default\":\"flex-start\",\"kind\":null,\"name\":\"align_items\"},{\"default\":\"row\",\"kind\":null,\"name\":\"flex_direction\"},{\"default\":\"wrap\",\"kind\":null,\"name\":\"flex_wrap\"},{\"default\":\"flex-start\",\"kind\":null,\"name\":\"justify_content\"}]},{\"extends\":null,\"module\":null,\"name\":\"TemplateActions1\",\"overrides\":[],\"properties\":[{\"default\":0,\"kind\":null,\"name\":\"open_modal\"},{\"default\":0,\"kind\":null,\"name\":\"close_modal\"}]},{\"extends\":null,\"module\":null,\"name\":\"MaterialTemplateActions1\",\"overrides\":[],\"properties\":[{\"default\":0,\"kind\":null,\"name\":\"open_modal\"},{\"default\":0,\"kind\":null,\"name\":\"close_modal\"}]}],\"roots\":{\"references\":[{\"attributes\":{\"below\":[{\"id\":\"4777\"}],\"center\":[{\"id\":\"4779\"},{\"id\":\"4783\"}],\"left\":[{\"id\":\"4780\"}],\"margin\":[5,5,5,5],\"min_border_bottom\":10,\"min_border_left\":10,\"min_border_right\":10,\"min_border_top\":10,\"renderers\":[{\"id\":\"4803\"}],\"sizing_mode\":\"fixed\",\"title\":{\"id\":\"4769\"},\"toolbar\":{\"id\":\"4790\"},\"width\":1000,\"x_range\":{\"id\":\"4765\"},\"x_scale\":{\"id\":\"4773\"},\"y_range\":{\"id\":\"4766\"},\"y_scale\":{\"id\":\"4775\"}},\"id\":\"4768\",\"subtype\":\"Figure\",\"type\":\"Plot\"},{\"attributes\":{\"bottom_units\":\"screen\",\"coordinates\":null,\"fill_alpha\":0.5,\"fill_color\":\"lightgrey\",\"group\":null,\"left_units\":\"screen\",\"level\":\"overlay\",\"line_alpha\":1.0,\"line_color\":\"black\",\"line_dash\":[4,4],\"line_width\":2,\"right_units\":\"screen\",\"syncable\":false,\"top_units\":\"screen\"},\"id\":\"4789\",\"type\":\"BoxAnnotation\"},{\"attributes\":{\"end\":1597812.3,\"reset_end\":1597812.3,\"reset_start\":0.0,\"tags\":[[[\"average_house_value\",\"average_house_value\",null]]]},\"id\":\"4766\",\"type\":\"Range1d\"},{\"attributes\":{\"axis\":{\"id\":\"4777\"},\"coordinates\":null,\"grid_line_color\":null,\"group\":null,\"ticker\":null},\"id\":\"4779\",\"type\":\"Grid\"},{\"attributes\":{\"margin\":[5,5,5,5],\"name\":\"HSpacer10501\",\"sizing_mode\":\"stretch_width\"},\"id\":\"4764\",\"type\":\"Spacer\"},{\"attributes\":{\"margin\":[5,5,5,5],\"name\":\"HSpacer10502\",\"sizing_mode\":\"stretch_width\"},\"id\":\"4832\",\"type\":\"Spacer\"},{\"attributes\":{\"callback\":null,\"renderers\":[{\"id\":\"4803\"}],\"tags\":[\"hv_created\"],\"tooltips\":[[\"neighbourhood\",\"@{neighbourhood}\"],[\"average_house_value\",\"@{average_house_value}\"]]},\"id\":\"4767\",\"type\":\"HoverTool\"},{\"attributes\":{},\"id\":\"4810\",\"type\":\"BasicTickFormatter\"},{\"attributes\":{\"coordinates\":null,\"group\":null,\"text_color\":\"black\",\"text_font_size\":\"12pt\"},\"id\":\"4769\",\"type\":\"Title\"},{\"attributes\":{\"coordinates\":null,\"data_source\":{\"id\":\"4797\"},\"glyph\":{\"id\":\"4800\"},\"group\":null,\"hover_glyph\":null,\"muted_glyph\":{\"id\":\"4802\"},\"nonselection_glyph\":{\"id\":\"4801\"},\"selection_glyph\":{\"id\":\"4805\"},\"view\":{\"id\":\"4804\"}},\"id\":\"4803\",\"type\":\"GlyphRenderer\"},{\"attributes\":{},\"id\":\"4808\",\"type\":\"AllLabels\"},{\"attributes\":{\"bottom\":{\"value\":0},\"fill_alpha\":{\"value\":1.0},\"fill_color\":{\"value\":\"#30a2da\"},\"hatch_alpha\":{\"value\":1.0},\"hatch_color\":{\"value\":\"#30a2da\"},\"hatch_scale\":{\"value\":12.0},\"hatch_weight\":{\"value\":1.0},\"line_alpha\":{\"value\":1.0},\"line_cap\":{\"value\":\"butt\"},\"line_color\":{\"value\":\"black\"},\"line_dash\":{\"value\":[]},\"line_dash_offset\":{\"value\":0},\"line_join\":{\"value\":\"bevel\"},\"line_width\":{\"value\":1},\"top\":{\"field\":\"average_house_value\"},\"width\":{\"value\":0.8},\"x\":{\"field\":\"neighbourhood\"}},\"id\":\"4805\",\"type\":\"VBar\"},{\"attributes\":{},\"id\":\"4781\",\"type\":\"BasicTicker\"},{\"attributes\":{},\"id\":\"4785\",\"type\":\"PanTool\"},{\"attributes\":{\"axis_label\":\"Average House Value\",\"coordinates\":null,\"formatter\":{\"id\":\"4810\"},\"group\":null,\"major_label_policy\":{\"id\":\"4811\"},\"ticker\":{\"id\":\"4781\"}},\"id\":\"4780\",\"type\":\"LinearAxis\"},{\"attributes\":{},\"id\":\"4807\",\"type\":\"CategoricalTickFormatter\"},{\"attributes\":{\"tools\":[{\"id\":\"4767\"},{\"id\":\"4784\"},{\"id\":\"4785\"},{\"id\":\"4786\"},{\"id\":\"4787\"},{\"id\":\"4788\"}]},\"id\":\"4790\",\"type\":\"Toolbar\"},{\"attributes\":{},\"id\":\"4788\",\"type\":\"ResetTool\"},{\"attributes\":{},\"id\":\"4778\",\"type\":\"CategoricalTicker\"},{\"attributes\":{},\"id\":\"4784\",\"type\":\"SaveTool\"},{\"attributes\":{\"axis_label\":\"Neighbourhood\",\"coordinates\":null,\"formatter\":{\"id\":\"4807\"},\"group\":null,\"major_label_orientation\":1.5707963267948966,\"major_label_policy\":{\"id\":\"4808\"},\"ticker\":{\"id\":\"4778\"}},\"id\":\"4777\",\"type\":\"CategoricalAxis\"},{\"attributes\":{\"fill_alpha\":{\"value\":0.1},\"fill_color\":{\"value\":\"#30a2da\"},\"hatch_alpha\":{\"value\":0.1},\"hatch_color\":{\"value\":\"#30a2da\"},\"line_alpha\":{\"value\":0.1},\"top\":{\"field\":\"average_house_value\"},\"width\":{\"value\":0.8},\"x\":{\"field\":\"neighbourhood\"}},\"id\":\"4801\",\"type\":\"VBar\"},{\"attributes\":{\"children\":[{\"id\":\"4764\"},{\"id\":\"4768\"},{\"id\":\"4832\"}],\"margin\":[0,0,0,0],\"name\":\"Row10497\",\"tags\":[\"embedded\"]},\"id\":\"4763\",\"type\":\"Row\"},{\"attributes\":{\"source\":{\"id\":\"4797\"}},\"id\":\"4804\",\"type\":\"CDSView\"},{\"attributes\":{},\"id\":\"4786\",\"type\":\"WheelZoomTool\"},{\"attributes\":{},\"id\":\"4798\",\"type\":\"Selection\"},{\"attributes\":{\"fill_color\":{\"value\":\"#30a2da\"},\"hatch_color\":{\"value\":\"#30a2da\"},\"top\":{\"field\":\"average_house_value\"},\"width\":{\"value\":0.8},\"x\":{\"field\":\"neighbourhood\"}},\"id\":\"4800\",\"type\":\"VBar\"},{\"attributes\":{\"overlay\":{\"id\":\"4789\"}},\"id\":\"4787\",\"type\":\"BoxZoomTool\"},{\"attributes\":{},\"id\":\"4773\",\"type\":\"CategoricalScale\"},{\"attributes\":{\"axis\":{\"id\":\"4780\"},\"coordinates\":null,\"dimension\":1,\"grid_line_color\":null,\"group\":null,\"ticker\":null},\"id\":\"4783\",\"type\":\"Grid\"},{\"attributes\":{},\"id\":\"4819\",\"type\":\"UnionRenderers\"},{\"attributes\":{\"factors\":[\"Bridle Path-Sunnybrook-York Mills\",\"Forest Hill South\",\"Lawrence Park South\",\"Rosedale-Moore Park\",\"St.Andrew-Windfields\",\"Casa Loma\",\"Bedford Park-Nortown\",\"Forest Hill North\",\"Kingsway South\",\"Yonge-St.Clair\"],\"tags\":[[[\"neighbourhood\",\"neighbourhood\",null]]]},\"id\":\"4765\",\"type\":\"FactorRange\"},{\"attributes\":{\"data\":{\"average_house_value\":{\"__ndarray__\":\"AAAAwNVKN0EAAACA2D8yQQAAAMCLsTBBAAAAAAiwMEEAAAAAhn0uQQAAAICQ8C1BAAAAgN5kLEEAAAAAwf0pQQAAAIDEuylBAAAAgEjRKEE=\",\"dtype\":\"float64\",\"order\":\"little\",\"shape\":[10]},\"neighbourhood\":[\"Bridle Path-Sunnybrook-York Mills\",\"Forest Hill South\",\"Lawrence Park South\",\"Rosedale-Moore Park\",\"St.Andrew-Windfields\",\"Casa Loma\",\"Bedford Park-Nortown\",\"Forest Hill North\",\"Kingsway South\",\"Yonge-St.Clair\"]},\"selected\":{\"id\":\"4798\"},\"selection_policy\":{\"id\":\"4819\"}},\"id\":\"4797\",\"type\":\"ColumnDataSource\"},{\"attributes\":{\"fill_alpha\":{\"value\":0.2},\"fill_color\":{\"value\":\"#30a2da\"},\"hatch_alpha\":{\"value\":0.2},\"hatch_color\":{\"value\":\"#30a2da\"},\"line_alpha\":{\"value\":0.2},\"top\":{\"field\":\"average_house_value\"},\"width\":{\"value\":0.8},\"x\":{\"field\":\"neighbourhood\"}},\"id\":\"4802\",\"type\":\"VBar\"},{\"attributes\":{},\"id\":\"4811\",\"type\":\"AllLabels\"},{\"attributes\":{},\"id\":\"4775\",\"type\":\"LinearScale\"}],\"root_ids\":[\"4763\"]},\"title\":\"Bokeh Application\",\"version\":\"2.4.1\"}};\n",
       "    var render_items = [{\"docid\":\"db3fcbbc-c7b2-4727-b2d8-2c8d04fe3b4e\",\"root_ids\":[\"4763\"],\"roots\":{\"4763\":\"ab40207c-4ebf-41e7-b207-643e9f3ca3ef\"}}];\n",
       "    root.Bokeh.embed.embed_items_notebook(docs_json, render_items);\n",
       "  }\n",
       "  if (root.Bokeh !== undefined && root.Bokeh.Panel !== undefined && ( root['Plotly'] !== undefined)) {\n",
       "    embed_document(root);\n",
       "  } else {\n",
       "    var attempts = 0;\n",
       "    var timer = setInterval(function(root) {\n",
       "      if (root.Bokeh !== undefined && root.Bokeh.Panel !== undefined && (root['Plotly'] !== undefined)) {\n",
       "        clearInterval(timer);\n",
       "        embed_document(root);\n",
       "      } else if (document.readyState == \"complete\") {\n",
       "        attempts++;\n",
       "        if (attempts > 200) {\n",
       "          clearInterval(timer);\n",
       "          console.log(\"Bokeh: ERROR: Unable to run BokehJS code because BokehJS library is missing\");\n",
       "        }\n",
       "      }\n",
       "    }, 25, root)\n",
       "  }\n",
       "})(window);</script>"
      ],
      "text/plain": [
       ":Bars   [neighbourhood]   (average_house_value)"
      ]
     },
     "execution_count": 55,
     "metadata": {
      "application/vnd.holoviews_exec.v0+json": {
       "id": "4763"
      }
     },
     "output_type": "execute_result"
    }
   ],
   "source": [
    "# Plotting the data from the top 10 expensive neighbourhoods\n",
    "to_top_10neighbourhoods.hvplot(kind=\"bar\",x=\"neighbourhood\", y=\"average_house_value\", xlabel=\"Neighbourhood\",ylabel=\"Average House Value\", rot=90 ,width=1000,height=600)"
   ]
  },
  {
   "cell_type": "markdown",
   "id": "2296b052",
   "metadata": {},
   "source": [
    "## Neighbourhood Map\n",
    "\n",
    "In this section, you will read in neighbourhoods location data and build an interactive map with the average house value per neighbourhood. Use a scatter_mapbox from Plotly express to create the visualization. Remember, you will need your Mapbox API key for this."
   ]
  },
  {
   "cell_type": "markdown",
   "id": "b6e82709",
   "metadata": {},
   "source": [
    "### Location Data"
   ]
  },
  {
   "cell_type": "code",
   "execution_count": 56,
   "id": "3e976d9d",
   "metadata": {},
   "outputs": [
    {
     "data": {
      "text/html": [
       "<div>\n",
       "<style scoped>\n",
       "    .dataframe tbody tr th:only-of-type {\n",
       "        vertical-align: middle;\n",
       "    }\n",
       "\n",
       "    .dataframe tbody tr th {\n",
       "        vertical-align: top;\n",
       "    }\n",
       "\n",
       "    .dataframe thead th {\n",
       "        text-align: right;\n",
       "    }\n",
       "</style>\n",
       "<table border=\"1\" class=\"dataframe\">\n",
       "  <thead>\n",
       "    <tr style=\"text-align: right;\">\n",
       "      <th></th>\n",
       "      <th>neighbourhood</th>\n",
       "      <th>lat</th>\n",
       "      <th>lon</th>\n",
       "    </tr>\n",
       "  </thead>\n",
       "  <tbody>\n",
       "    <tr>\n",
       "      <th>0</th>\n",
       "      <td>Agincourt North</td>\n",
       "      <td>43.805441</td>\n",
       "      <td>-79.266712</td>\n",
       "    </tr>\n",
       "    <tr>\n",
       "      <th>1</th>\n",
       "      <td>Agincourt South-Malvern West</td>\n",
       "      <td>43.788658</td>\n",
       "      <td>-79.265612</td>\n",
       "    </tr>\n",
       "    <tr>\n",
       "      <th>2</th>\n",
       "      <td>Alderwood</td>\n",
       "      <td>43.604937</td>\n",
       "      <td>-79.541611</td>\n",
       "    </tr>\n",
       "    <tr>\n",
       "      <th>3</th>\n",
       "      <td>Annex</td>\n",
       "      <td>43.671585</td>\n",
       "      <td>-79.404001</td>\n",
       "    </tr>\n",
       "    <tr>\n",
       "      <th>4</th>\n",
       "      <td>Banbury-Don Mills</td>\n",
       "      <td>43.737657</td>\n",
       "      <td>-79.349718</td>\n",
       "    </tr>\n",
       "  </tbody>\n",
       "</table>\n",
       "</div>"
      ],
      "text/plain": [
       "                  neighbourhood        lat        lon\n",
       "0               Agincourt North  43.805441 -79.266712\n",
       "1  Agincourt South-Malvern West  43.788658 -79.265612\n",
       "2                     Alderwood  43.604937 -79.541611\n",
       "3                         Annex  43.671585 -79.404001\n",
       "4             Banbury-Don Mills  43.737657 -79.349718"
      ]
     },
     "execution_count": 56,
     "metadata": {},
     "output_type": "execute_result"
    }
   ],
   "source": [
    "# Load neighbourhoods coordinates data\n",
    "file_path = Path(\"../Data/toronto_neighbourhoods_coordinates.csv\")\n",
    "df_neighbourhood_locations = pd.read_csv(file_path)\n",
    "df_neighbourhood_locations.head()"
   ]
  },
  {
   "cell_type": "markdown",
   "id": "319076a3",
   "metadata": {},
   "source": [
    "## Data Preparation\n",
    "\n",
    "You will need to join the location data with the mean values per neighbourhood.\n",
    "\n",
    "Calculate the mean values for each neighbourhood.\n",
    "\n",
    "Join the average values with the neighbourhood locations."
   ]
  },
  {
   "cell_type": "code",
   "execution_count": 57,
   "id": "e44e6bb8",
   "metadata": {},
   "outputs": [
    {
     "data": {
      "text/html": [
       "<div>\n",
       "<style scoped>\n",
       "    .dataframe tbody tr th:only-of-type {\n",
       "        vertical-align: middle;\n",
       "    }\n",
       "\n",
       "    .dataframe tbody tr th {\n",
       "        vertical-align: top;\n",
       "    }\n",
       "\n",
       "    .dataframe thead th {\n",
       "        text-align: right;\n",
       "    }\n",
       "</style>\n",
       "<table border=\"1\" class=\"dataframe\">\n",
       "  <thead>\n",
       "    <tr style=\"text-align: right;\">\n",
       "      <th></th>\n",
       "      <th>single_detached_house</th>\n",
       "      <th>apartment_five_storeys_plus</th>\n",
       "      <th>movable_dwelling</th>\n",
       "      <th>semi_detached_house</th>\n",
       "      <th>row_house</th>\n",
       "      <th>duplex</th>\n",
       "      <th>apartment_five_storeys_less</th>\n",
       "      <th>other_house</th>\n",
       "      <th>average_house_value</th>\n",
       "      <th>shelter_costs_owned</th>\n",
       "      <th>shelter_costs_rented</th>\n",
       "    </tr>\n",
       "    <tr>\n",
       "      <th>neighbourhood</th>\n",
       "      <th></th>\n",
       "      <th></th>\n",
       "      <th></th>\n",
       "      <th></th>\n",
       "      <th></th>\n",
       "      <th></th>\n",
       "      <th></th>\n",
       "      <th></th>\n",
       "      <th></th>\n",
       "      <th></th>\n",
       "      <th></th>\n",
       "    </tr>\n",
       "  </thead>\n",
       "  <tbody>\n",
       "    <tr>\n",
       "      <th>Agincourt North</th>\n",
       "      <td>3435.00</td>\n",
       "      <td>1947.50</td>\n",
       "      <td>2.50</td>\n",
       "      <td>863.75</td>\n",
       "      <td>1406.25</td>\n",
       "      <td>512.50</td>\n",
       "      <td>547.50</td>\n",
       "      <td>10.00</td>\n",
       "      <td>329811.5</td>\n",
       "      <td>1109.00</td>\n",
       "      <td>983.50</td>\n",
       "    </tr>\n",
       "    <tr>\n",
       "      <th>Agincourt South-Malvern West</th>\n",
       "      <td>2897.50</td>\n",
       "      <td>2180.00</td>\n",
       "      <td>1.25</td>\n",
       "      <td>375.00</td>\n",
       "      <td>456.25</td>\n",
       "      <td>523.75</td>\n",
       "      <td>628.75</td>\n",
       "      <td>32.50</td>\n",
       "      <td>334189.0</td>\n",
       "      <td>1131.25</td>\n",
       "      <td>985.00</td>\n",
       "    </tr>\n",
       "    <tr>\n",
       "      <th>Alderwood</th>\n",
       "      <td>2903.75</td>\n",
       "      <td>302.50</td>\n",
       "      <td>1.25</td>\n",
       "      <td>503.75</td>\n",
       "      <td>76.25</td>\n",
       "      <td>302.50</td>\n",
       "      <td>502.50</td>\n",
       "      <td>1.25</td>\n",
       "      <td>427922.5</td>\n",
       "      <td>1166.75</td>\n",
       "      <td>1003.25</td>\n",
       "    </tr>\n",
       "    <tr>\n",
       "      <th>Annex</th>\n",
       "      <td>751.25</td>\n",
       "      <td>7235.00</td>\n",
       "      <td>1.25</td>\n",
       "      <td>1375.00</td>\n",
       "      <td>613.75</td>\n",
       "      <td>355.00</td>\n",
       "      <td>4605.00</td>\n",
       "      <td>83.75</td>\n",
       "      <td>746977.0</td>\n",
       "      <td>1692.75</td>\n",
       "      <td>1315.25</td>\n",
       "    </tr>\n",
       "    <tr>\n",
       "      <th>Banbury-Don Mills</th>\n",
       "      <td>3572.50</td>\n",
       "      <td>5388.75</td>\n",
       "      <td>1.25</td>\n",
       "      <td>273.75</td>\n",
       "      <td>626.25</td>\n",
       "      <td>32.50</td>\n",
       "      <td>1340.00</td>\n",
       "      <td>0.00</td>\n",
       "      <td>612039.0</td>\n",
       "      <td>1463.50</td>\n",
       "      <td>1242.75</td>\n",
       "    </tr>\n",
       "  </tbody>\n",
       "</table>\n",
       "</div>"
      ],
      "text/plain": [
       "                              single_detached_house  \\\n",
       "neighbourhood                                         \n",
       "Agincourt North                             3435.00   \n",
       "Agincourt South-Malvern West                2897.50   \n",
       "Alderwood                                   2903.75   \n",
       "Annex                                        751.25   \n",
       "Banbury-Don Mills                           3572.50   \n",
       "\n",
       "                              apartment_five_storeys_plus  movable_dwelling  \\\n",
       "neighbourhood                                                                 \n",
       "Agincourt North                                   1947.50              2.50   \n",
       "Agincourt South-Malvern West                      2180.00              1.25   \n",
       "Alderwood                                          302.50              1.25   \n",
       "Annex                                             7235.00              1.25   \n",
       "Banbury-Don Mills                                 5388.75              1.25   \n",
       "\n",
       "                              semi_detached_house  row_house  duplex  \\\n",
       "neighbourhood                                                          \n",
       "Agincourt North                            863.75    1406.25  512.50   \n",
       "Agincourt South-Malvern West               375.00     456.25  523.75   \n",
       "Alderwood                                  503.75      76.25  302.50   \n",
       "Annex                                     1375.00     613.75  355.00   \n",
       "Banbury-Don Mills                          273.75     626.25   32.50   \n",
       "\n",
       "                              apartment_five_storeys_less  other_house  \\\n",
       "neighbourhood                                                            \n",
       "Agincourt North                                    547.50        10.00   \n",
       "Agincourt South-Malvern West                       628.75        32.50   \n",
       "Alderwood                                          502.50         1.25   \n",
       "Annex                                             4605.00        83.75   \n",
       "Banbury-Don Mills                                 1340.00         0.00   \n",
       "\n",
       "                              average_house_value  shelter_costs_owned  \\\n",
       "neighbourhood                                                            \n",
       "Agincourt North                          329811.5              1109.00   \n",
       "Agincourt South-Malvern West             334189.0              1131.25   \n",
       "Alderwood                                427922.5              1166.75   \n",
       "Annex                                    746977.0              1692.75   \n",
       "Banbury-Don Mills                        612039.0              1463.50   \n",
       "\n",
       "                              shelter_costs_rented  \n",
       "neighbourhood                                       \n",
       "Agincourt North                             983.50  \n",
       "Agincourt South-Malvern West                985.00  \n",
       "Alderwood                                  1003.25  \n",
       "Annex                                      1315.25  \n",
       "Banbury-Don Mills                          1242.75  "
      ]
     },
     "execution_count": 57,
     "metadata": {},
     "output_type": "execute_result"
    }
   ],
   "source": [
    "# Calculate the mean values for each neighborhood\n",
    "df_to_avg_house_prices= to_data.drop(columns=[\"year\"]).groupby(by=[\"neighbourhood\"]).mean()\n",
    "df_to_avg_house_prices.head()"
   ]
  },
  {
   "cell_type": "code",
   "execution_count": 58,
   "id": "9131a5a1",
   "metadata": {},
   "outputs": [
    {
     "data": {
      "text/html": [
       "<div>\n",
       "<style scoped>\n",
       "    .dataframe tbody tr th:only-of-type {\n",
       "        vertical-align: middle;\n",
       "    }\n",
       "\n",
       "    .dataframe tbody tr th {\n",
       "        vertical-align: top;\n",
       "    }\n",
       "\n",
       "    .dataframe thead th {\n",
       "        text-align: right;\n",
       "    }\n",
       "</style>\n",
       "<table border=\"1\" class=\"dataframe\">\n",
       "  <thead>\n",
       "    <tr style=\"text-align: right;\">\n",
       "      <th></th>\n",
       "      <th>neighbourhood</th>\n",
       "      <th>lat</th>\n",
       "      <th>lon</th>\n",
       "      <th>single_detached_house</th>\n",
       "      <th>apartment_five_storeys_plus</th>\n",
       "      <th>movable_dwelling</th>\n",
       "      <th>semi_detached_house</th>\n",
       "      <th>row_house</th>\n",
       "      <th>duplex</th>\n",
       "      <th>apartment_five_storeys_less</th>\n",
       "      <th>other_house</th>\n",
       "      <th>average_house_value</th>\n",
       "      <th>shelter_costs_owned</th>\n",
       "      <th>shelter_costs_rented</th>\n",
       "    </tr>\n",
       "  </thead>\n",
       "  <tbody>\n",
       "    <tr>\n",
       "      <th>0</th>\n",
       "      <td>Agincourt North</td>\n",
       "      <td>43.805441</td>\n",
       "      <td>-79.266712</td>\n",
       "      <td>3435.00</td>\n",
       "      <td>1947.50</td>\n",
       "      <td>2.50</td>\n",
       "      <td>863.75</td>\n",
       "      <td>1406.25</td>\n",
       "      <td>512.50</td>\n",
       "      <td>547.50</td>\n",
       "      <td>10.00</td>\n",
       "      <td>329811.5</td>\n",
       "      <td>1109.00</td>\n",
       "      <td>983.50</td>\n",
       "    </tr>\n",
       "    <tr>\n",
       "      <th>1</th>\n",
       "      <td>Agincourt South-Malvern West</td>\n",
       "      <td>43.788658</td>\n",
       "      <td>-79.265612</td>\n",
       "      <td>2897.50</td>\n",
       "      <td>2180.00</td>\n",
       "      <td>1.25</td>\n",
       "      <td>375.00</td>\n",
       "      <td>456.25</td>\n",
       "      <td>523.75</td>\n",
       "      <td>628.75</td>\n",
       "      <td>32.50</td>\n",
       "      <td>334189.0</td>\n",
       "      <td>1131.25</td>\n",
       "      <td>985.00</td>\n",
       "    </tr>\n",
       "    <tr>\n",
       "      <th>2</th>\n",
       "      <td>Alderwood</td>\n",
       "      <td>43.604937</td>\n",
       "      <td>-79.541611</td>\n",
       "      <td>2903.75</td>\n",
       "      <td>302.50</td>\n",
       "      <td>1.25</td>\n",
       "      <td>503.75</td>\n",
       "      <td>76.25</td>\n",
       "      <td>302.50</td>\n",
       "      <td>502.50</td>\n",
       "      <td>1.25</td>\n",
       "      <td>427922.5</td>\n",
       "      <td>1166.75</td>\n",
       "      <td>1003.25</td>\n",
       "    </tr>\n",
       "    <tr>\n",
       "      <th>3</th>\n",
       "      <td>Annex</td>\n",
       "      <td>43.671585</td>\n",
       "      <td>-79.404001</td>\n",
       "      <td>751.25</td>\n",
       "      <td>7235.00</td>\n",
       "      <td>1.25</td>\n",
       "      <td>1375.00</td>\n",
       "      <td>613.75</td>\n",
       "      <td>355.00</td>\n",
       "      <td>4605.00</td>\n",
       "      <td>83.75</td>\n",
       "      <td>746977.0</td>\n",
       "      <td>1692.75</td>\n",
       "      <td>1315.25</td>\n",
       "    </tr>\n",
       "    <tr>\n",
       "      <th>4</th>\n",
       "      <td>Banbury-Don Mills</td>\n",
       "      <td>43.737657</td>\n",
       "      <td>-79.349718</td>\n",
       "      <td>3572.50</td>\n",
       "      <td>5388.75</td>\n",
       "      <td>1.25</td>\n",
       "      <td>273.75</td>\n",
       "      <td>626.25</td>\n",
       "      <td>32.50</td>\n",
       "      <td>1340.00</td>\n",
       "      <td>0.00</td>\n",
       "      <td>612039.0</td>\n",
       "      <td>1463.50</td>\n",
       "      <td>1242.75</td>\n",
       "    </tr>\n",
       "  </tbody>\n",
       "</table>\n",
       "</div>"
      ],
      "text/plain": [
       "                  neighbourhood        lat        lon  single_detached_house  \\\n",
       "0               Agincourt North  43.805441 -79.266712                3435.00   \n",
       "1  Agincourt South-Malvern West  43.788658 -79.265612                2897.50   \n",
       "2                     Alderwood  43.604937 -79.541611                2903.75   \n",
       "3                         Annex  43.671585 -79.404001                 751.25   \n",
       "4             Banbury-Don Mills  43.737657 -79.349718                3572.50   \n",
       "\n",
       "   apartment_five_storeys_plus  movable_dwelling  semi_detached_house  \\\n",
       "0                      1947.50              2.50               863.75   \n",
       "1                      2180.00              1.25               375.00   \n",
       "2                       302.50              1.25               503.75   \n",
       "3                      7235.00              1.25              1375.00   \n",
       "4                      5388.75              1.25               273.75   \n",
       "\n",
       "   row_house  duplex  apartment_five_storeys_less  other_house  \\\n",
       "0    1406.25  512.50                       547.50        10.00   \n",
       "1     456.25  523.75                       628.75        32.50   \n",
       "2      76.25  302.50                       502.50         1.25   \n",
       "3     613.75  355.00                      4605.00        83.75   \n",
       "4     626.25   32.50                      1340.00         0.00   \n",
       "\n",
       "   average_house_value  shelter_costs_owned  shelter_costs_rented  \n",
       "0             329811.5              1109.00                983.50  \n",
       "1             334189.0              1131.25                985.00  \n",
       "2             427922.5              1166.75               1003.25  \n",
       "3             746977.0              1692.75               1315.25  \n",
       "4             612039.0              1463.50               1242.75  "
      ]
     },
     "execution_count": 58,
     "metadata": {},
     "output_type": "execute_result"
    }
   ],
   "source": [
    "# Join the average values with the neighbourhood locations\n",
    "df_to_avg_house_prices_with_location = pd.merge(df_neighbourhood_locations,df_to_avg_house_prices,on=\"neighbourhood\",how=\"inner\")\n",
    "df_to_avg_house_prices_with_location.head()"
   ]
  },
  {
   "cell_type": "markdown",
   "id": "55e647d0",
   "metadata": {},
   "source": [
    "## Mapbox Visualization\n",
    "\n",
    "Plot the average values per neighbourhood using a Plotly express scatter_mapbox visualization."
   ]
  },
  {
   "cell_type": "code",
   "execution_count": 59,
   "id": "a5a1f1f5",
   "metadata": {},
   "outputs": [],
   "source": [
    "# Create a scatter mapbox to analyze neighbourhood info\n",
    "to_neighbourhoods = px.scatter_mapbox(\n",
    "    df_to_avg_house_prices_with_location,\n",
    "    lat=\"lat\",\n",
    "    lon=\"lon\",\n",
    "    size=\"average_house_value\",\n",
    "    color=\"average_house_value\",\n",
    "    color_continuous_scale=px.colors.cyclical.IceFire,\n",
    "    zoom=100, \n",
    "    title=\"Toronto's neighbourhoods avg. house prices\", \n",
    "    width=1000,\n",
    ")"
   ]
  },
  {
   "cell_type": "code",
   "execution_count": 60,
   "id": "f0b5352b",
   "metadata": {},
   "outputs": [],
   "source": [
    "map_column = pn.Column(\"Scatter Mapbox To analyze neighbourhood info\", to_neighbourhoods)"
   ]
  },
  {
   "cell_type": "code",
   "execution_count": 61,
   "id": "256a336a",
   "metadata": {},
   "outputs": [
    {
     "data": {},
     "metadata": {},
     "output_type": "display_data"
    },
    {
     "data": {
      "application/vnd.holoviews_exec.v0+json": "",
      "text/html": [
       "<div id='4914'>\n",
       "\n",
       "\n",
       "\n",
       "\n",
       "\n",
       "  <div class=\"bk-root\" id=\"a38f4a73-ab8f-4a72-9177-61801966e030\" data-root-id=\"4914\"></div>\n",
       "</div>\n",
       "<script type=\"application/javascript\">(function(root) {\n",
       "  function embed_document(root) {\n",
       "    var docs_json = {\"a08dfc67-f268-4dc6-8ecd-11dfb0c777f3\":{\"defs\":[{\"extends\":null,\"module\":null,\"name\":\"ReactiveHTML1\",\"overrides\":[],\"properties\":[]},{\"extends\":null,\"module\":null,\"name\":\"FlexBox1\",\"overrides\":[],\"properties\":[{\"default\":\"flex-start\",\"kind\":null,\"name\":\"align_content\"},{\"default\":\"flex-start\",\"kind\":null,\"name\":\"align_items\"},{\"default\":\"row\",\"kind\":null,\"name\":\"flex_direction\"},{\"default\":\"wrap\",\"kind\":null,\"name\":\"flex_wrap\"},{\"default\":\"flex-start\",\"kind\":null,\"name\":\"justify_content\"}]},{\"extends\":null,\"module\":null,\"name\":\"TemplateActions1\",\"overrides\":[],\"properties\":[{\"default\":0,\"kind\":null,\"name\":\"open_modal\"},{\"default\":0,\"kind\":null,\"name\":\"close_modal\"}]},{\"extends\":null,\"module\":null,\"name\":\"MaterialTemplateActions1\",\"overrides\":[],\"properties\":[{\"default\":0,\"kind\":null,\"name\":\"open_modal\"},{\"default\":0,\"kind\":null,\"name\":\"close_modal\"}]}],\"roots\":{\"references\":[{\"attributes\":{},\"id\":\"4919\",\"type\":\"Selection\"},{\"attributes\":{\"children\":[{\"id\":\"4915\"},{\"id\":\"4917\"}],\"margin\":[0,0,0,0],\"name\":\"Column10576\"},\"id\":\"4914\",\"type\":\"Column\"},{\"attributes\":{},\"id\":\"4918\",\"type\":\"UnionRenderers\"},{\"attributes\":{\"data\":[{\"hovertemplate\":\"average_house_value=%{marker.color}<br>lat=%{lat}<br>lon=%{lon}<extra></extra>\",\"legendgroup\":\"\",\"marker\":{\"coloraxis\":\"coloraxis\",\"sizemode\":\"area\",\"sizeref\":3816.214375},\"mode\":\"markers\",\"name\":\"\",\"showlegend\":false,\"subplot\":\"mapbox\",\"type\":\"scattermapbox\"}],\"data_sources\":[{\"id\":\"4916\"}],\"layout\":{\"coloraxis\":{\"colorbar\":{\"title\":{\"text\":\"average_house_value\"}},\"colorscale\":[[0.0,\"#000000\"],[0.0625,\"#001f4d\"],[0.125,\"#003786\"],[0.1875,\"#0e58a8\"],[0.25,\"#217eb8\"],[0.3125,\"#30a4ca\"],[0.375,\"#54c8df\"],[0.4375,\"#9be4ef\"],[0.5,\"#e1e9d1\"],[0.5625,\"#f3d573\"],[0.625,\"#e7b000\"],[0.6875,\"#da8200\"],[0.75,\"#c65400\"],[0.8125,\"#ac2301\"],[0.875,\"#820000\"],[0.9375,\"#4c0000\"],[1.0,\"#000000\"]]},\"legend\":{\"itemsizing\":\"constant\",\"tracegroupgap\":0},\"mapbox\":{\"center\":{\"lat\":43.708840577642846,\"lon\":-79.4001855035},\"domain\":{\"x\":[0.0,1.0],\"y\":[0.0,1.0]},\"zoom\":100},\"template\":{\"data\":{\"bar\":[{\"error_x\":{\"color\":\"#2a3f5f\"},\"error_y\":{\"color\":\"#2a3f5f\"},\"marker\":{\"line\":{\"color\":\"#E5ECF6\",\"width\":0.5},\"pattern\":{\"fillmode\":\"overlay\",\"size\":10,\"solidity\":0.2}},\"type\":\"bar\"}],\"barpolar\":[{\"marker\":{\"line\":{\"color\":\"#E5ECF6\",\"width\":0.5},\"pattern\":{\"fillmode\":\"overlay\",\"size\":10,\"solidity\":0.2}},\"type\":\"barpolar\"}],\"carpet\":[{\"aaxis\":{\"endlinecolor\":\"#2a3f5f\",\"gridcolor\":\"white\",\"linecolor\":\"white\",\"minorgridcolor\":\"white\",\"startlinecolor\":\"#2a3f5f\"},\"baxis\":{\"endlinecolor\":\"#2a3f5f\",\"gridcolor\":\"white\",\"linecolor\":\"white\",\"minorgridcolor\":\"white\",\"startlinecolor\":\"#2a3f5f\"},\"type\":\"carpet\"}],\"choropleth\":[{\"colorbar\":{\"outlinewidth\":0,\"ticks\":\"\"},\"type\":\"choropleth\"}],\"contour\":[{\"colorbar\":{\"outlinewidth\":0,\"ticks\":\"\"},\"colorscale\":[[0.0,\"#0d0887\"],[0.1111111111111111,\"#46039f\"],[0.2222222222222222,\"#7201a8\"],[0.3333333333333333,\"#9c179e\"],[0.4444444444444444,\"#bd3786\"],[0.5555555555555556,\"#d8576b\"],[0.6666666666666666,\"#ed7953\"],[0.7777777777777778,\"#fb9f3a\"],[0.8888888888888888,\"#fdca26\"],[1.0,\"#f0f921\"]],\"type\":\"contour\"}],\"contourcarpet\":[{\"colorbar\":{\"outlinewidth\":0,\"ticks\":\"\"},\"type\":\"contourcarpet\"}],\"heatmap\":[{\"colorbar\":{\"outlinewidth\":0,\"ticks\":\"\"},\"colorscale\":[[0.0,\"#0d0887\"],[0.1111111111111111,\"#46039f\"],[0.2222222222222222,\"#7201a8\"],[0.3333333333333333,\"#9c179e\"],[0.4444444444444444,\"#bd3786\"],[0.5555555555555556,\"#d8576b\"],[0.6666666666666666,\"#ed7953\"],[0.7777777777777778,\"#fb9f3a\"],[0.8888888888888888,\"#fdca26\"],[1.0,\"#f0f921\"]],\"type\":\"heatmap\"}],\"heatmapgl\":[{\"colorbar\":{\"outlinewidth\":0,\"ticks\":\"\"},\"colorscale\":[[0.0,\"#0d0887\"],[0.1111111111111111,\"#46039f\"],[0.2222222222222222,\"#7201a8\"],[0.3333333333333333,\"#9c179e\"],[0.4444444444444444,\"#bd3786\"],[0.5555555555555556,\"#d8576b\"],[0.6666666666666666,\"#ed7953\"],[0.7777777777777778,\"#fb9f3a\"],[0.8888888888888888,\"#fdca26\"],[1.0,\"#f0f921\"]],\"type\":\"heatmapgl\"}],\"histogram\":[{\"marker\":{\"pattern\":{\"fillmode\":\"overlay\",\"size\":10,\"solidity\":0.2}},\"type\":\"histogram\"}],\"histogram2d\":[{\"colorbar\":{\"outlinewidth\":0,\"ticks\":\"\"},\"colorscale\":[[0.0,\"#0d0887\"],[0.1111111111111111,\"#46039f\"],[0.2222222222222222,\"#7201a8\"],[0.3333333333333333,\"#9c179e\"],[0.4444444444444444,\"#bd3786\"],[0.5555555555555556,\"#d8576b\"],[0.6666666666666666,\"#ed7953\"],[0.7777777777777778,\"#fb9f3a\"],[0.8888888888888888,\"#fdca26\"],[1.0,\"#f0f921\"]],\"type\":\"histogram2d\"}],\"histogram2dcontour\":[{\"colorbar\":{\"outlinewidth\":0,\"ticks\":\"\"},\"colorscale\":[[0.0,\"#0d0887\"],[0.1111111111111111,\"#46039f\"],[0.2222222222222222,\"#7201a8\"],[0.3333333333333333,\"#9c179e\"],[0.4444444444444444,\"#bd3786\"],[0.5555555555555556,\"#d8576b\"],[0.6666666666666666,\"#ed7953\"],[0.7777777777777778,\"#fb9f3a\"],[0.8888888888888888,\"#fdca26\"],[1.0,\"#f0f921\"]],\"type\":\"histogram2dcontour\"}],\"mesh3d\":[{\"colorbar\":{\"outlinewidth\":0,\"ticks\":\"\"},\"type\":\"mesh3d\"}],\"parcoords\":[{\"line\":{\"colorbar\":{\"outlinewidth\":0,\"ticks\":\"\"}},\"type\":\"parcoords\"}],\"pie\":[{\"automargin\":true,\"type\":\"pie\"}],\"scatter\":[{\"marker\":{\"colorbar\":{\"outlinewidth\":0,\"ticks\":\"\"}},\"type\":\"scatter\"}],\"scatter3d\":[{\"line\":{\"colorbar\":{\"outlinewidth\":0,\"ticks\":\"\"}},\"marker\":{\"colorbar\":{\"outlinewidth\":0,\"ticks\":\"\"}},\"type\":\"scatter3d\"}],\"scattercarpet\":[{\"marker\":{\"colorbar\":{\"outlinewidth\":0,\"ticks\":\"\"}},\"type\":\"scattercarpet\"}],\"scattergeo\":[{\"marker\":{\"colorbar\":{\"outlinewidth\":0,\"ticks\":\"\"}},\"type\":\"scattergeo\"}],\"scattergl\":[{\"marker\":{\"colorbar\":{\"outlinewidth\":0,\"ticks\":\"\"}},\"type\":\"scattergl\"}],\"scattermapbox\":[{\"marker\":{\"colorbar\":{\"outlinewidth\":0,\"ticks\":\"\"}},\"type\":\"scattermapbox\"}],\"scatterpolar\":[{\"marker\":{\"colorbar\":{\"outlinewidth\":0,\"ticks\":\"\"}},\"type\":\"scatterpolar\"}],\"scatterpolargl\":[{\"marker\":{\"colorbar\":{\"outlinewidth\":0,\"ticks\":\"\"}},\"type\":\"scatterpolargl\"}],\"scatterternary\":[{\"marker\":{\"colorbar\":{\"outlinewidth\":0,\"ticks\":\"\"}},\"type\":\"scatterternary\"}],\"surface\":[{\"colorbar\":{\"outlinewidth\":0,\"ticks\":\"\"},\"colorscale\":[[0.0,\"#0d0887\"],[0.1111111111111111,\"#46039f\"],[0.2222222222222222,\"#7201a8\"],[0.3333333333333333,\"#9c179e\"],[0.4444444444444444,\"#bd3786\"],[0.5555555555555556,\"#d8576b\"],[0.6666666666666666,\"#ed7953\"],[0.7777777777777778,\"#fb9f3a\"],[0.8888888888888888,\"#fdca26\"],[1.0,\"#f0f921\"]],\"type\":\"surface\"}],\"table\":[{\"cells\":{\"fill\":{\"color\":\"#EBF0F8\"},\"line\":{\"color\":\"white\"}},\"header\":{\"fill\":{\"color\":\"#C8D4E3\"},\"line\":{\"color\":\"white\"}},\"type\":\"table\"}]},\"layout\":{\"annotationdefaults\":{\"arrowcolor\":\"#2a3f5f\",\"arrowhead\":0,\"arrowwidth\":1},\"autotypenumbers\":\"strict\",\"coloraxis\":{\"colorbar\":{\"outlinewidth\":0,\"ticks\":\"\"}},\"colorscale\":{\"diverging\":[[0,\"#8e0152\"],[0.1,\"#c51b7d\"],[0.2,\"#de77ae\"],[0.3,\"#f1b6da\"],[0.4,\"#fde0ef\"],[0.5,\"#f7f7f7\"],[0.6,\"#e6f5d0\"],[0.7,\"#b8e186\"],[0.8,\"#7fbc41\"],[0.9,\"#4d9221\"],[1,\"#276419\"]],\"sequential\":[[0.0,\"#0d0887\"],[0.1111111111111111,\"#46039f\"],[0.2222222222222222,\"#7201a8\"],[0.3333333333333333,\"#9c179e\"],[0.4444444444444444,\"#bd3786\"],[0.5555555555555556,\"#d8576b\"],[0.6666666666666666,\"#ed7953\"],[0.7777777777777778,\"#fb9f3a\"],[0.8888888888888888,\"#fdca26\"],[1.0,\"#f0f921\"]],\"sequentialminus\":[[0.0,\"#0d0887\"],[0.1111111111111111,\"#46039f\"],[0.2222222222222222,\"#7201a8\"],[0.3333333333333333,\"#9c179e\"],[0.4444444444444444,\"#bd3786\"],[0.5555555555555556,\"#d8576b\"],[0.6666666666666666,\"#ed7953\"],[0.7777777777777778,\"#fb9f3a\"],[0.8888888888888888,\"#fdca26\"],[1.0,\"#f0f921\"]]},\"colorway\":[\"#636efa\",\"#EF553B\",\"#00cc96\",\"#ab63fa\",\"#FFA15A\",\"#19d3f3\",\"#FF6692\",\"#B6E880\",\"#FF97FF\",\"#FECB52\"],\"font\":{\"color\":\"#2a3f5f\"},\"geo\":{\"bgcolor\":\"white\",\"lakecolor\":\"white\",\"landcolor\":\"#E5ECF6\",\"showlakes\":true,\"showland\":true,\"subunitcolor\":\"white\"},\"hoverlabel\":{\"align\":\"left\"},\"hovermode\":\"closest\",\"mapbox\":{\"style\":\"light\"},\"paper_bgcolor\":\"white\",\"plot_bgcolor\":\"#E5ECF6\",\"polar\":{\"angularaxis\":{\"gridcolor\":\"white\",\"linecolor\":\"white\",\"ticks\":\"\"},\"bgcolor\":\"#E5ECF6\",\"radialaxis\":{\"gridcolor\":\"white\",\"linecolor\":\"white\",\"ticks\":\"\"}},\"scene\":{\"xaxis\":{\"backgroundcolor\":\"#E5ECF6\",\"gridcolor\":\"white\",\"gridwidth\":2,\"linecolor\":\"white\",\"showbackground\":true,\"ticks\":\"\",\"zerolinecolor\":\"white\"},\"yaxis\":{\"backgroundcolor\":\"#E5ECF6\",\"gridcolor\":\"white\",\"gridwidth\":2,\"linecolor\":\"white\",\"showbackground\":true,\"ticks\":\"\",\"zerolinecolor\":\"white\"},\"zaxis\":{\"backgroundcolor\":\"#E5ECF6\",\"gridcolor\":\"white\",\"gridwidth\":2,\"linecolor\":\"white\",\"showbackground\":true,\"ticks\":\"\",\"zerolinecolor\":\"white\"}},\"shapedefaults\":{\"line\":{\"color\":\"#2a3f5f\"}},\"ternary\":{\"aaxis\":{\"gridcolor\":\"white\",\"linecolor\":\"white\",\"ticks\":\"\"},\"baxis\":{\"gridcolor\":\"white\",\"linecolor\":\"white\",\"ticks\":\"\"},\"bgcolor\":\"#E5ECF6\",\"caxis\":{\"gridcolor\":\"white\",\"linecolor\":\"white\",\"ticks\":\"\"}},\"title\":{\"x\":0.05},\"xaxis\":{\"automargin\":true,\"gridcolor\":\"white\",\"linecolor\":\"white\",\"ticks\":\"\",\"title\":{\"standoff\":15},\"zerolinecolor\":\"white\",\"zerolinewidth\":2},\"yaxis\":{\"automargin\":true,\"gridcolor\":\"white\",\"linecolor\":\"white\",\"ticks\":\"\",\"title\":{\"standoff\":15},\"zerolinecolor\":\"white\",\"zerolinewidth\":2}}},\"title\":{\"text\":\"Toronto's neighbourhoods avg. house prices\"},\"width\":1000},\"margin\":[5,5,5,5],\"name\":\"Plotly10574\",\"viewport_update_throttle\":200},\"id\":\"4917\",\"type\":\"panel.models.plotly.PlotlyPlot\"},{\"attributes\":{\"css_classes\":[\"markdown\"],\"margin\":[5,5,5,5],\"name\":\"Markdown10572\",\"text\":\"&lt;p&gt;Scatter Mapbox To analyze neighbourhood info&lt;/p&gt;\"},\"id\":\"4915\",\"type\":\"panel.models.markup.HTML\"},{\"attributes\":{\"data\":{\"lat\":[{\"__ndarray__\":\"U/xKrRjnRUArfwi78uRFQGLShJJuzUVAiKL+gvbVRUAuVWmLa95FQG3/DGfl4UVA2X/4VCnURUAcpxHIX+NFQFWFipr95UVAhKk9V6HdRUCIzGRRu9hFQBE36a5T4UVAOpzQVuvYRUC/Y3js5+FFQGUFO9WM1kVAdJqBoXnZRUCGn6zWkd1FQBmI6Wsr2EVAHqN+D8XZRUCgzBZ7ddVFQINmfAQj2EVAvhr77UbXRUBYVMTpJORFQJdFtF9v1EVALWO//lbbRUD+lzEm+d5FQDjN0LJN3EVAIh27l73WRUD5o4cljtdFQMEXiX1A2EVASdu290LkRUCm6w3nL+FFQJ0G0uY01UVAGNQShtzdRUBnHFUT5dNFQFCwewKT10VAC2bplt/VRUBFsLuK1t5FQGYM97pa3EVAvL8PQTTcRUC/NajkOdRFQNNidGmR0kVA4j0HlqPbRUAFvA7NI9pFQPu2WDjm2EVAPX0E/nDfRUAjKwEpGNZFQOrKyqPZ30VAqebm2bTiRUA9uUMWK9RFQDl05XmR0kVActOPGzjlRUDPdyJOyOZFQPibmhWb2EVA7URJSCThRUD3o9GyKN9FQCSyUc5+2EVA0svFayDeRUB4u7lTFdFFQNK9d2l91UVANs/w6sXXRUCyaYQC39xFQARCZ6mn00VABCaqlnjZRUAWD7WOptNFQGHg2gXa5UVAgQrDVybURUB9yAD1i+BFQJAhlZxy3UVAf+fNl83bRUBIcQoCFtpFQN8qFXXi0kVABfoCgtLLRUDEFJtF3uZFQL4VR+2X20VAR3Nk5RfRRUDWllNlDOlFQFfD0ZfWzkVAZDE9oyXkRUDqkvXECNRFQCu+BBsV2EVAvbczXZnfRUATVY2YONpFQK+mgO4q2kVA26xVFuDMRUDu1HULUeVFQEJCUhOW5EVAVMtSwn7RRUAKKeTvA9ZFQAJLSzi21UVAY6w+cHjaRUBCKGurRNlFQAytkOoi2EVAxI7vIDDZRUCOtoVCX9RFQIiEzu+k4EVAhrO2hNfbRUDo3MxsANdFQNDffNG75EVAlz1kJUHVRUBidVifetRFQOLwWQmj3EVAmjORiF/WRUAzn3sotNJFQAHy66hm10VAJ5F1Hx3pRUAVlrLrYtRFQLn39AEW20VAL+rmJIzeRUCz469ef9FFQFGgkQAc00VADsvRqczgRUAW7PEID+hFQLsueKhY0UVAEzGAS9vjRUAjamCz9dhFQPyDUPfk1UVAHZ9eY3beRUAkXK+Gl9pFQDCRHPo400VA2TLPAM3URUCSMtIgP91FQGvj2/0i0UVAalnvHj3iRUCiBKLMq9tFQNbLziaw40VA6Y96mfLZRUDRRVxjRNZFQJX/PTbR30VAO3ZIGKPiRUDqcHwGt+JFQDujlK2B10VA4alPiyTiRUD1G7t+oNZFQNkdWn3Y2EVAUldnSqXWRUCS/uJCM9pFQO50a8IL2EVAsfM+pwPiRUC7XVBbettFQA==\",\"dtype\":\"float64\",\"order\":\"little\",\"shape\":[140]}],\"lon\":[{\"__ndarray__\":\"GObrzxHRU8Chm6LI/9BTwGXg48Cp4lPArp1qJdvZU8AVu4XHYdZTwNBX+wEw3VPA04cuqK/YU8AYHsGuIthTwLud2J502FPAoEhBAeXaU8D8cXetr95TwDbIZj950FPAkB3pRvfQU8CnJfMbaOFTwLWAt92X1VPA39wEhPvcU8C8WlH3P9hTwFK8RqLC1lPASb/55BPfU8AP46BKbtdTwAYW2TEi3VPAPJPsxxzaU8Aw3odqp8lTwHBxO9FB2FPAlLK5KALSU8AbTrI4kNxTwAUZnuoSz1PACZRmVqPcU8BO4t7CG9VTwJG4hbY11VPAbzH9GqLWU8BDObCg2dFTwMIdAw0R3FPAlEH/TmTfU8Dq/0Vl/dtTwCRbRLEo01PAcy+s8m/hU8DAcNfgt89TwAYea4gi41PAaU9ugP7bU8DPusoDJuVTwOWkKH5p5FPA9ZJSEkrVU8AxjZGyZttTwFG2Di+E2lPA7kGlndzgU8DTWV6gwdRTwDtKb8l7zFPAxW0b49bVU8AMjQ7l191TwNjmUp7x3VPAyKV9tVvLU8BcH9YbtdZTwKN5W0Rv4VPAU8rvXZjjU8DYtJQktuJTwMxS/Clf21PANesQKHDRU8BCq7yyxeJTwI3rIRIs3lPAh2SOBizeU8BBGiUaqtBTwBZR0WBs2VPANshFMRDjU8AqhlBKreBTwEy/yPQZ1FPAS0KeNL/fU8DWnA8RL9tTwHgfDcja2VPAlLW4jPzZU8BLEa66bddTwEWLQ2iK21PAG070VCLiU8DabVm2Pc5TwCRMSb3E3lPAp28+GrPkU8CIYAO/mdFTwDQVHD0C4FPAZf6wKUDNU8Am8WbLgddTwLNDHdL/31PASP7cp5XlU8CeLBCYothTwG+0iM0s2VPAI3P6tKngU8Av/hHh+tlTwGwP92ic21PAAo2IGGXaU8AXVfEMe9ZTwEtCOwoE2FPAZUMvivvTU8D7Lc+95tFTwMN2/3El3FPA4JgrpHjVU8B/7Wg1x9pTwGANSKkh1VPAxgMlYM/hU8A6FC55ttZTwJQsistv1VPAHFI1D9riU8CsN4uTEtdTwAfBFRY95FPAUM6rlaTfU8D/RwH9WdxTwK8S4oBM2FPAueQTDe3LU8D7H8PXFd9TwEOEC7vg31PApRAKQuDNU8C472ocHtxTwJeQrE971VPAWGHIJELYU8CKzNinjtRTwGVDDnwS4FPA+jIoBWPTU8D8T0AL8NJTwLRV7qos01PAV5+jPBDkU8CBxachZtZTwGZ2SPeU2lPAUYTU7azZU8DXjZDkJtRTwD5bKBUk2FPAk7X6qE7LU8COYD60KuZTwLZ9l2v03FPA04MnmQHhU8CGaN+idN1TwIlij9wc01PAJfsQ6bHZU8CVCWQbXdtTwE4gkVt441PAyJ41JqHOU8AXgW+iL9RTwLVDcBrq01PAYY0OozvbU8DGSN1r1NlTwMxL9rZ22VPADfug20nfU8DQ2DRCQd1TwA==\",\"dtype\":\"float64\",\"order\":\"little\",\"shape\":[140]}],\"marker.color\":[{\"__ndarray__\":\"AAAAAE4hFEEAAAAAtGUUQQAAAABKHhpBAAAAAMLLJkEAAAAAjq0iQQAAAAAjnR5BAAAAAJbbGUEAAACA9XQgQQAAAABLQSFBAAAAgN5kLEEAAAAAv6MWQQAAAAANYRJBAAAAAAyxGkEAAAAATtcPQQAAAAA0Nx9BAAAAAFJPFkEAAADA1Uo3QQAAAAC1DxtBAAAAAHxrFUEAAAAAeigeQQAAAADJExZBAAAAgJDwLUEAAAAAGwQZQQAAAACWyRhBAAAAAO2jFUEAAACAEtUgQQAAAAA4ehlBAAAAAGqhGUEAAAAA/H8cQQAAAAC9vBlBAAAAAOlKGEEAAAAAgvsPQQAAAAAuiBpBAAAAAJ5HF0EAAAAA0+0bQQAAAACZLR1BAAAAAAVMKEEAAAAAmmoQQQAAAADVYBBBAAAAgNFcIUEAAAAAV0cYQQAAAACQ4hJBAAAAALhdCUEAAAAAwf0pQQAAAIDYPzJBAAAAALf+E0EAAAAAvp8XQQAAAAB2ixZBAAAAAJiUFkEAAAAAIkAgQQAAAICDyiFBAAAAAJosGkEAAAAAPBwYQQAAAAD6aRtBAAAAAEp9FUEAAAAAn4QTQQAAAAD7RSVBAAAAABePEUEAAAAAlZEbQQAAAADVcRpBAAAAAFuzE0EAAAAABogRQQAAAACX4hpBAAAAAKOmFEEAAACAxLspQQAAAICH2CNBAAAAAKeLFEEAAAAAwbYiQQAAAADBLCdBAAAAwIuxMEEAAACAj5woQQAAAABBfCBBAAAAAJmMF0EAAAAAglsPQQAAAAC0qRtBAAAAABsZG0EAAAAAcQ4VQQAAAABKBBhBAAAAAFZlEUEAAAAAwP0YQQAAAACTAhBBAAAAAPLnDkEAAACA9KskQQAAAABXkxxBAAAAABDkGEEAAACAqhMhQQAAAABiHBxBAAAAACSVFkEAAACArnQlQQAAAAD/HBlBAAAAAC81EkEAAAAAxsUZQQAAAADL7RpBAAAAAFYQG0EAAACA3/wiQQAAAADyvxtBAAAAAN2+GEEAAACANs0jQQAAAAD9yRZBAAAAAGVeJ0EAAAAACfYXQQAAAACdCBZBAAAAAPEYFUEAAAAAJRAfQQAAAAAIsDBBAAAAAHv3FkEAAAAAJNkgQQAAAADKTxpBAAAAAK8hFEEAAAAA2k8bQQAAAACyxRtBAAAAAIZ9LkEAAAAAOvMWQQAAAIBAzCBBAAAAABqaFUEAAAAAsDkNQQAAAACEVSRBAAAAAODwFkEAAAAABikPQQAAAICDTyBBAAAAgJneIkEAAAAAFH4VQQAAAAB8ABdBAAAAAJ5fEUEAAAAAWfMUQQAAAAAhUhVBAAAAAJ/MEkEAAAAA6HgVQQAAAAB9QhVBAAAAANagHEEAAAAAW3McQQAAAABYVhxBAAAAACc4EkEAAAAAGy8bQQAAAAD6kxZBAAAAALFFIUEAAACAI7YoQQAAAIBI0ShBAAAAAK6rEkEAAAAANUwaQQ==\",\"dtype\":\"float64\",\"order\":\"little\",\"shape\":[140]}],\"marker.size\":[{\"__ndarray__\":\"AAAAAE4hFEEAAAAAtGUUQQAAAABKHhpBAAAAAMLLJkEAAAAAjq0iQQAAAAAjnR5BAAAAAJbbGUEAAACA9XQgQQAAAABLQSFBAAAAgN5kLEEAAAAAv6MWQQAAAAANYRJBAAAAAAyxGkEAAAAATtcPQQAAAAA0Nx9BAAAAAFJPFkEAAADA1Uo3QQAAAAC1DxtBAAAAAHxrFUEAAAAAeigeQQAAAADJExZBAAAAgJDwLUEAAAAAGwQZQQAAAACWyRhBAAAAAO2jFUEAAACAEtUgQQAAAAA4ehlBAAAAAGqhGUEAAAAA/H8cQQAAAAC9vBlBAAAAAOlKGEEAAAAAgvsPQQAAAAAuiBpBAAAAAJ5HF0EAAAAA0+0bQQAAAACZLR1BAAAAAAVMKEEAAAAAmmoQQQAAAADVYBBBAAAAgNFcIUEAAAAAV0cYQQAAAACQ4hJBAAAAALhdCUEAAAAAwf0pQQAAAIDYPzJBAAAAALf+E0EAAAAAvp8XQQAAAAB2ixZBAAAAAJiUFkEAAAAAIkAgQQAAAICDyiFBAAAAAJosGkEAAAAAPBwYQQAAAAD6aRtBAAAAAEp9FUEAAAAAn4QTQQAAAAD7RSVBAAAAABePEUEAAAAAlZEbQQAAAADVcRpBAAAAAFuzE0EAAAAABogRQQAAAACX4hpBAAAAAKOmFEEAAACAxLspQQAAAICH2CNBAAAAAKeLFEEAAAAAwbYiQQAAAADBLCdBAAAAwIuxMEEAAACAj5woQQAAAABBfCBBAAAAAJmMF0EAAAAAglsPQQAAAAC0qRtBAAAAABsZG0EAAAAAcQ4VQQAAAABKBBhBAAAAAFZlEUEAAAAAwP0YQQAAAACTAhBBAAAAAPLnDkEAAACA9KskQQAAAABXkxxBAAAAABDkGEEAAACAqhMhQQAAAABiHBxBAAAAACSVFkEAAACArnQlQQAAAAD/HBlBAAAAAC81EkEAAAAAxsUZQQAAAADL7RpBAAAAAFYQG0EAAACA3/wiQQAAAADyvxtBAAAAAN2+GEEAAACANs0jQQAAAAD9yRZBAAAAAGVeJ0EAAAAACfYXQQAAAACdCBZBAAAAAPEYFUEAAAAAJRAfQQAAAAAIsDBBAAAAAHv3FkEAAAAAJNkgQQAAAADKTxpBAAAAAK8hFEEAAAAA2k8bQQAAAACyxRtBAAAAAIZ9LkEAAAAAOvMWQQAAAIBAzCBBAAAAABqaFUEAAAAAsDkNQQAAAACEVSRBAAAAAODwFkEAAAAABikPQQAAAICDTyBBAAAAgJneIkEAAAAAFH4VQQAAAAB8ABdBAAAAAJ5fEUEAAAAAWfMUQQAAAAAhUhVBAAAAAJ/MEkEAAAAA6HgVQQAAAAB9QhVBAAAAANagHEEAAAAAW3McQQAAAABYVhxBAAAAACc4EkEAAAAAGy8bQQAAAAD6kxZBAAAAALFFIUEAAACAI7YoQQAAAIBI0ShBAAAAAK6rEkEAAAAANUwaQQ==\",\"dtype\":\"float64\",\"order\":\"little\",\"shape\":[140]}]},\"selected\":{\"id\":\"4919\"},\"selection_policy\":{\"id\":\"4918\"}},\"id\":\"4916\",\"type\":\"ColumnDataSource\"},{\"attributes\":{\"client_comm_id\":\"fb773fda99e945749f77b837873cd4c5\",\"comm_id\":\"6ab27fa9e5564161a7677a186ff5eb7b\",\"plot_id\":\"4914\"},\"id\":\"4930\",\"type\":\"panel.models.comm_manager.CommManager\"}],\"root_ids\":[\"4914\",\"4930\"]},\"title\":\"Bokeh Application\",\"version\":\"2.4.1\"}};\n",
       "    var render_items = [{\"docid\":\"a08dfc67-f268-4dc6-8ecd-11dfb0c777f3\",\"root_ids\":[\"4914\"],\"roots\":{\"4914\":\"a38f4a73-ab8f-4a72-9177-61801966e030\"}}];\n",
       "    root.Bokeh.embed.embed_items_notebook(docs_json, render_items);\n",
       "  }\n",
       "  if (root.Bokeh !== undefined && root.Bokeh.Panel !== undefined && ( root['Plotly'] !== undefined)) {\n",
       "    embed_document(root);\n",
       "  } else {\n",
       "    var attempts = 0;\n",
       "    var timer = setInterval(function(root) {\n",
       "      if (root.Bokeh !== undefined && root.Bokeh.Panel !== undefined && (root['Plotly'] !== undefined)) {\n",
       "        clearInterval(timer);\n",
       "        embed_document(root);\n",
       "      } else if (document.readyState == \"complete\") {\n",
       "        attempts++;\n",
       "        if (attempts > 200) {\n",
       "          clearInterval(timer);\n",
       "          console.log(\"Bokeh: ERROR: Unable to run BokehJS code because BokehJS library is missing\");\n",
       "        }\n",
       "      }\n",
       "    }, 25, root)\n",
       "  }\n",
       "})(window);</script>"
      ],
      "text/plain": [
       "Column\n",
       "    [0] Markdown(str)\n",
       "    [1] Plotly(Figure)"
      ]
     },
     "execution_count": 61,
     "metadata": {
      "application/vnd.holoviews_exec.v0+json": {
       "id": "4914"
      }
     },
     "output_type": "execute_result"
    }
   ],
   "source": [
    "map_column"
   ]
  },
  {
   "cell_type": "markdown",
   "id": "416dc8da",
   "metadata": {},
   "source": [
    "## Cost Analysis \n",
    "\n",
    "In this section, you will use Plotly express to a couple of plots that investors can interactively filter and explore various factors related to the house value of the Toronto's neighbourhoods."
   ]
  },
  {
   "cell_type": "markdown",
   "id": "b91c6704",
   "metadata": {},
   "source": [
    "### Create a bar chart row facet to plot the average house values for all Toronto's neighbourhoods per year"
   ]
  },
  {
   "cell_type": "code",
   "execution_count": 62,
   "id": "62b455d5",
   "metadata": {},
   "outputs": [],
   "source": [
    "def create_bar_chart(data, title, xlabel, ylabel, color):\n",
    "    plt.bar(x=data.index, height=data.dwelling_number, color=color, width = 0.6)\n",
    "    plt.title(title,fontweight='bold')\n",
    "    plt.xlabel(xlabel)\n",
    "    plt.ylabel(ylabel)\n",
    "    plt.xticks(rotation=90)"
   ]
  },
  {
   "cell_type": "markdown",
   "id": "ad9cef13",
   "metadata": {},
   "source": [
    "### Create a sunburst chart to conduct a costs analysis of most expensive neighbourhoods in Toronto per year"
   ]
  },
  {
   "cell_type": "code",
   "execution_count": 63,
   "id": "670c8bcb",
   "metadata": {},
   "outputs": [],
   "source": [
    "# Fetch the data from all expensive neighbourhoods per year.\n"
   ]
  },
  {
   "cell_type": "code",
   "execution_count": null,
   "id": "9dae71ba",
   "metadata": {},
   "outputs": [],
   "source": []
  }
 ],
 "metadata": {
  "kernelspec": {
   "display_name": "Python 3 (ipykernel)",
   "language": "python",
   "name": "python3"
  },
  "language_info": {
   "codemirror_mode": {
    "name": "ipython",
    "version": 3
   },
   "file_extension": ".py",
   "mimetype": "text/x-python",
   "name": "python",
   "nbconvert_exporter": "python",
   "pygments_lexer": "ipython3",
   "version": "3.7.11"
  }
 },
 "nbformat": 4,
 "nbformat_minor": 5
}
